{
 "cells": [
  {
   "cell_type": "markdown",
   "id": "12847a2c",
   "metadata": {},
   "source": [
    "# Описание проекта"
   ]
  },
  {
   "cell_type": "markdown",
   "id": "6769264f",
   "metadata": {},
   "source": [
    "Компания предоставила данные с характеристиками сотрудников компании. Среди них — уровень удовлетворённости сотрудника работой в компании. Эту информацию получили из форм обратной связи: сотрудники заполняют тест-опросник, и по его результатам рассчитывается доля их удовлетворённости от 0 до 1, где 0 — совершенно неудовлетворён, 1 — полностью удовлетворён. \n",
    "\n",
    "Перед нами стоит 2 задачи. Первая — построить модель, которая сможет предсказать уровень удовлетворённости сотрудника на основе данных заказчика. \n",
    "Почему бизнесу это важно: удовлетворённость работой напрямую влияет на отток сотрудников. А предсказание оттока — одна из важнейших задач HR-аналитиков. Внезапные увольнения несут в себе риски для компании, особенно если уходит важный сотрудник.\n",
    "Вторая задача — построить модель, которая сможет на основе данных заказчика предсказать то, что сотрудник уволится из компании.\n",
    "\n",
    "**Описание данных**\n",
    "\n",
    "Для этой задачи заказчик предоставил данные с признаками:\n",
    "- id — уникальный идентификатор сотрудника;\n",
    "- dept — отдел, в котором работает сотрудник;\n",
    "- level — уровень занимаемой должности;\n",
    "- workload — уровень загруженности сотрудника;\n",
    "- employment_years — длительность работы в компании (в годах);\n",
    "- last_year_promo — показывает, было ли повышение за последний год;\n",
    "- last_year_violations — показывает, нарушал ли сотрудник трудовой договор за последний год;\n",
    "- supervisor_evaluation — оценка качества работы сотрудника, которую дал руководитель;\n",
    "- salary — ежемесячная зарплата сотрудника;\n",
    "- job_satisfaction_rate — уровень удовлетворённости сотрудника работой в компании, целевой признак.\n",
    "\n",
    "**Задача 1: предсказание уровня удовлетворённости сотрудника**\n",
    "\n",
    "**План действий**\n",
    "1. Загрузка данных.\n",
    "2. Предобработка данных. Изучение данных и выводы. Предобработка.\n",
    "3. Исследовательский анализ данных. Исследую все признаки и пойму как их нужно подготовить.\n",
    "4. Подготовка данных. Подготовка признаков в пайплайне (дополнив пайплайн шага предобработки). \n",
    "5. Обучение моделей. Подобрать гиперпараметры как минимум для одной модели. Выбрать лучшую модель и проверить её качество. \n",
    "6. Общие выводы.\n",
    "\n",
    "**Задача 2: предсказание увольнения сотрудника из компании**\n",
    "\n",
    "Целевой признак отличается: это quit — увольнение сотрудника из компании.\n",
    "\n",
    "**План действий**\n",
    "\n",
    "1. Загрузка данных.\n",
    "2. Предобработка данных. Изучение данных и выводы. Предобработка.\n",
    "3.1. Исследовательский анализ данных.\n",
    "3.2. Портрет «уволившегося сотрудника». Например, можно узнать, в каком отделе с большей вероятностью работает уволившийся сотрудник и какой у него уровень загруженности. Также можно сравнить среднее значение зарплаты ушедших сотрудников с теми, кто остался в компании.\n",
    "3.3. Проверьте утверждение, что уровень удовлетворённости сотрудника работой в компании влияет на то, уволится ли сотрудник: визуализируйте и сравните распределения признака job_satisfaction_rate для ушедших и оставшихся сотрудников.\n",
    "4. Добавление нового входного признака.\n",
    "5. Подготовка данных в пайплайне.\n",
    "6. Обучение модели. Обучить как минимум три модели. Проверить качество лучшей модели.\n",
    "7. Общие выводы"
   ]
  },
  {
   "cell_type": "markdown",
   "id": "14b02606",
   "metadata": {},
   "source": [
    "# Задача 1"
   ]
  },
  {
   "cell_type": "markdown",
   "id": "6814bf14",
   "metadata": {},
   "source": [
    "# Шаг 1. Загрузка данных"
   ]
  },
  {
   "cell_type": "code",
   "execution_count": 3,
   "id": "92d24c4a",
   "metadata": {},
   "outputs": [],
   "source": [
    "import warnings\n",
    "warnings.filterwarnings('ignore')\n",
    "#установка phik\n",
    "! pip install phik -q"
   ]
  },
  {
   "cell_type": "code",
   "execution_count": 4,
   "id": "bd4ab98e",
   "metadata": {},
   "outputs": [],
   "source": [
    "import pandas as pd\n",
    "import numpy as np\n",
    "import pandas as pd\n",
    "import matplotlib.pyplot as plt\n",
    "from sklearn.model_selection import train_test_split\n",
    "\n",
    "from phik.report import plot_correlation_matrix\n",
    "\n",
    "# пайплайн\n",
    "from sklearn.pipeline import Pipeline\n",
    "from sklearn.compose import ColumnTransformer\n",
    "\n",
    "from sklearn.preprocessing import OneHotEncoder, OrdinalEncoder, StandardScaler, MinMaxScaler\n",
    "from sklearn.preprocessing import LabelEncoder\n",
    "from sklearn.model_selection import RandomizedSearchCV\n",
    "from sklearn.model_selection import GridSearchCV\n",
    "\n",
    "# класс для работы с пропусками\n",
    "from sklearn.impute import SimpleImputer\n",
    "\n",
    "# метрики\n",
    "from sklearn.metrics import roc_auc_score\n",
    "from sklearn.metrics import make_scorer\n",
    "\n",
    "# модели\n",
    "from sklearn.tree import DecisionTreeClassifier\n",
    "from sklearn.tree import DecisionTreeRegressor\n",
    "from sklearn.linear_model import LinearRegression\n",
    "from sklearn.neighbors import KNeighborsClassifier\n",
    "from sklearn.linear_model import LogisticRegression\n",
    "from sklearn.svm import SVC\n",
    "from sklearn.preprocessing import PolynomialFeatures\n",
    "from sklearn.linear_model import Ridge\n",
    "from sklearn.ensemble import RandomForestClassifier"
   ]
  },
  {
   "cell_type": "code",
   "execution_count": 5,
   "id": "1f025ee7",
   "metadata": {},
   "outputs": [
    {
     "name": "stdout",
     "output_type": "stream",
     "text": [
      "<class 'pandas.core.frame.DataFrame'>\n",
      "Int64Index: 4000 entries, 155278 to 338347\n",
      "Data columns (total 9 columns):\n",
      " #   Column                 Non-Null Count  Dtype  \n",
      "---  ------                 --------------  -----  \n",
      " 0   dept                   3994 non-null   object \n",
      " 1   level                  3996 non-null   object \n",
      " 2   workload               4000 non-null   object \n",
      " 3   employment_years       4000 non-null   int64  \n",
      " 4   last_year_promo        4000 non-null   object \n",
      " 5   last_year_violations   4000 non-null   object \n",
      " 6   supervisor_evaluation  4000 non-null   int64  \n",
      " 7   salary                 4000 non-null   int64  \n",
      " 8   job_satisfaction_rate  4000 non-null   float64\n",
      "dtypes: float64(1), int64(3), object(5)\n",
      "memory usage: 312.5+ KB\n"
     ]
    },
    {
     "data": {
      "text/html": [
       "<div>\n",
       "<style scoped>\n",
       "    .dataframe tbody tr th:only-of-type {\n",
       "        vertical-align: middle;\n",
       "    }\n",
       "\n",
       "    .dataframe tbody tr th {\n",
       "        vertical-align: top;\n",
       "    }\n",
       "\n",
       "    .dataframe thead th {\n",
       "        text-align: right;\n",
       "    }\n",
       "</style>\n",
       "<table border=\"1\" class=\"dataframe\">\n",
       "  <thead>\n",
       "    <tr style=\"text-align: right;\">\n",
       "      <th></th>\n",
       "      <th>dept</th>\n",
       "      <th>level</th>\n",
       "      <th>workload</th>\n",
       "      <th>employment_years</th>\n",
       "      <th>last_year_promo</th>\n",
       "      <th>last_year_violations</th>\n",
       "      <th>supervisor_evaluation</th>\n",
       "      <th>salary</th>\n",
       "      <th>job_satisfaction_rate</th>\n",
       "    </tr>\n",
       "    <tr>\n",
       "      <th>id</th>\n",
       "      <th></th>\n",
       "      <th></th>\n",
       "      <th></th>\n",
       "      <th></th>\n",
       "      <th></th>\n",
       "      <th></th>\n",
       "      <th></th>\n",
       "      <th></th>\n",
       "      <th></th>\n",
       "    </tr>\n",
       "  </thead>\n",
       "  <tbody>\n",
       "    <tr>\n",
       "      <th>155278</th>\n",
       "      <td>sales</td>\n",
       "      <td>junior</td>\n",
       "      <td>medium</td>\n",
       "      <td>2</td>\n",
       "      <td>no</td>\n",
       "      <td>no</td>\n",
       "      <td>1</td>\n",
       "      <td>24000</td>\n",
       "      <td>0.58</td>\n",
       "    </tr>\n",
       "    <tr>\n",
       "      <th>653870</th>\n",
       "      <td>hr</td>\n",
       "      <td>junior</td>\n",
       "      <td>high</td>\n",
       "      <td>2</td>\n",
       "      <td>no</td>\n",
       "      <td>no</td>\n",
       "      <td>5</td>\n",
       "      <td>38400</td>\n",
       "      <td>0.76</td>\n",
       "    </tr>\n",
       "    <tr>\n",
       "      <th>184592</th>\n",
       "      <td>sales</td>\n",
       "      <td>junior</td>\n",
       "      <td>low</td>\n",
       "      <td>1</td>\n",
       "      <td>no</td>\n",
       "      <td>no</td>\n",
       "      <td>2</td>\n",
       "      <td>12000</td>\n",
       "      <td>0.11</td>\n",
       "    </tr>\n",
       "    <tr>\n",
       "      <th>171431</th>\n",
       "      <td>technology</td>\n",
       "      <td>junior</td>\n",
       "      <td>low</td>\n",
       "      <td>4</td>\n",
       "      <td>no</td>\n",
       "      <td>no</td>\n",
       "      <td>2</td>\n",
       "      <td>18000</td>\n",
       "      <td>0.37</td>\n",
       "    </tr>\n",
       "    <tr>\n",
       "      <th>693419</th>\n",
       "      <td>hr</td>\n",
       "      <td>junior</td>\n",
       "      <td>medium</td>\n",
       "      <td>1</td>\n",
       "      <td>no</td>\n",
       "      <td>no</td>\n",
       "      <td>3</td>\n",
       "      <td>22800</td>\n",
       "      <td>0.20</td>\n",
       "    </tr>\n",
       "  </tbody>\n",
       "</table>\n",
       "</div>"
      ],
      "text/plain": [
       "              dept   level workload  employment_years last_year_promo  \\\n",
       "id                                                                      \n",
       "155278       sales  junior   medium                 2              no   \n",
       "653870          hr  junior     high                 2              no   \n",
       "184592       sales  junior      low                 1              no   \n",
       "171431  technology  junior      low                 4              no   \n",
       "693419          hr  junior   medium                 1              no   \n",
       "\n",
       "       last_year_violations  supervisor_evaluation  salary  \\\n",
       "id                                                           \n",
       "155278                   no                      1   24000   \n",
       "653870                   no                      5   38400   \n",
       "184592                   no                      2   12000   \n",
       "171431                   no                      2   18000   \n",
       "693419                   no                      3   22800   \n",
       "\n",
       "        job_satisfaction_rate  \n",
       "id                             \n",
       "155278                   0.58  \n",
       "653870                   0.76  \n",
       "184592                   0.11  \n",
       "171431                   0.37  \n",
       "693419                   0.20  "
      ]
     },
     "execution_count": 5,
     "metadata": {},
     "output_type": "execute_result"
    }
   ],
   "source": [
    "train_1 = pd.read_csv('/datasets/train_job_satisfaction_rate.csv').set_index('id')\n",
    "train_1.info()\n",
    "train_1.head()"
   ]
  },
  {
   "cell_type": "code",
   "execution_count": 6,
   "id": "c0dd9777",
   "metadata": {},
   "outputs": [
    {
     "name": "stdout",
     "output_type": "stream",
     "text": [
      "<class 'pandas.core.frame.DataFrame'>\n",
      "Int64Index: 2000 entries, 485046 to 771859\n",
      "Data columns (total 8 columns):\n",
      " #   Column                 Non-Null Count  Dtype \n",
      "---  ------                 --------------  ----- \n",
      " 0   dept                   1998 non-null   object\n",
      " 1   level                  1999 non-null   object\n",
      " 2   workload               2000 non-null   object\n",
      " 3   employment_years       2000 non-null   int64 \n",
      " 4   last_year_promo        2000 non-null   object\n",
      " 5   last_year_violations   2000 non-null   object\n",
      " 6   supervisor_evaluation  2000 non-null   int64 \n",
      " 7   salary                 2000 non-null   int64 \n",
      "dtypes: int64(3), object(5)\n",
      "memory usage: 140.6+ KB\n"
     ]
    },
    {
     "data": {
      "text/html": [
       "<div>\n",
       "<style scoped>\n",
       "    .dataframe tbody tr th:only-of-type {\n",
       "        vertical-align: middle;\n",
       "    }\n",
       "\n",
       "    .dataframe tbody tr th {\n",
       "        vertical-align: top;\n",
       "    }\n",
       "\n",
       "    .dataframe thead th {\n",
       "        text-align: right;\n",
       "    }\n",
       "</style>\n",
       "<table border=\"1\" class=\"dataframe\">\n",
       "  <thead>\n",
       "    <tr style=\"text-align: right;\">\n",
       "      <th></th>\n",
       "      <th>dept</th>\n",
       "      <th>level</th>\n",
       "      <th>workload</th>\n",
       "      <th>employment_years</th>\n",
       "      <th>last_year_promo</th>\n",
       "      <th>last_year_violations</th>\n",
       "      <th>supervisor_evaluation</th>\n",
       "      <th>salary</th>\n",
       "    </tr>\n",
       "    <tr>\n",
       "      <th>id</th>\n",
       "      <th></th>\n",
       "      <th></th>\n",
       "      <th></th>\n",
       "      <th></th>\n",
       "      <th></th>\n",
       "      <th></th>\n",
       "      <th></th>\n",
       "      <th></th>\n",
       "    </tr>\n",
       "  </thead>\n",
       "  <tbody>\n",
       "    <tr>\n",
       "      <th>485046</th>\n",
       "      <td>marketing</td>\n",
       "      <td>junior</td>\n",
       "      <td>medium</td>\n",
       "      <td>2</td>\n",
       "      <td>no</td>\n",
       "      <td>no</td>\n",
       "      <td>5</td>\n",
       "      <td>28800</td>\n",
       "    </tr>\n",
       "    <tr>\n",
       "      <th>686555</th>\n",
       "      <td>hr</td>\n",
       "      <td>junior</td>\n",
       "      <td>medium</td>\n",
       "      <td>1</td>\n",
       "      <td>no</td>\n",
       "      <td>no</td>\n",
       "      <td>4</td>\n",
       "      <td>30000</td>\n",
       "    </tr>\n",
       "    <tr>\n",
       "      <th>467458</th>\n",
       "      <td>sales</td>\n",
       "      <td>middle</td>\n",
       "      <td>low</td>\n",
       "      <td>5</td>\n",
       "      <td>no</td>\n",
       "      <td>no</td>\n",
       "      <td>4</td>\n",
       "      <td>19200</td>\n",
       "    </tr>\n",
       "    <tr>\n",
       "      <th>418655</th>\n",
       "      <td>sales</td>\n",
       "      <td>middle</td>\n",
       "      <td>low</td>\n",
       "      <td>6</td>\n",
       "      <td>no</td>\n",
       "      <td>no</td>\n",
       "      <td>4</td>\n",
       "      <td>19200</td>\n",
       "    </tr>\n",
       "    <tr>\n",
       "      <th>789145</th>\n",
       "      <td>hr</td>\n",
       "      <td>middle</td>\n",
       "      <td>medium</td>\n",
       "      <td>5</td>\n",
       "      <td>no</td>\n",
       "      <td>no</td>\n",
       "      <td>5</td>\n",
       "      <td>40800</td>\n",
       "    </tr>\n",
       "  </tbody>\n",
       "</table>\n",
       "</div>"
      ],
      "text/plain": [
       "             dept   level workload  employment_years last_year_promo  \\\n",
       "id                                                                     \n",
       "485046  marketing  junior   medium                 2              no   \n",
       "686555         hr  junior   medium                 1              no   \n",
       "467458      sales  middle      low                 5              no   \n",
       "418655      sales  middle      low                 6              no   \n",
       "789145         hr  middle   medium                 5              no   \n",
       "\n",
       "       last_year_violations  supervisor_evaluation  salary  \n",
       "id                                                          \n",
       "485046                   no                      5   28800  \n",
       "686555                   no                      4   30000  \n",
       "467458                   no                      4   19200  \n",
       "418655                   no                      4   19200  \n",
       "789145                   no                      5   40800  "
      ]
     },
     "execution_count": 6,
     "metadata": {},
     "output_type": "execute_result"
    }
   ],
   "source": [
    "X_test_1 = pd.read_csv('/datasets/test_features.csv').set_index('id')\n",
    "X_test_1.info()\n",
    "X_test_1.head()"
   ]
  },
  {
   "cell_type": "code",
   "execution_count": 7,
   "id": "344e8dbf",
   "metadata": {},
   "outputs": [
    {
     "name": "stdout",
     "output_type": "stream",
     "text": [
      "<class 'pandas.core.frame.DataFrame'>\n",
      "Int64Index: 2000 entries, 130604 to 648995\n",
      "Data columns (total 1 columns):\n",
      " #   Column                 Non-Null Count  Dtype  \n",
      "---  ------                 --------------  -----  \n",
      " 0   job_satisfaction_rate  2000 non-null   float64\n",
      "dtypes: float64(1)\n",
      "memory usage: 31.2 KB\n"
     ]
    },
    {
     "data": {
      "text/html": [
       "<div>\n",
       "<style scoped>\n",
       "    .dataframe tbody tr th:only-of-type {\n",
       "        vertical-align: middle;\n",
       "    }\n",
       "\n",
       "    .dataframe tbody tr th {\n",
       "        vertical-align: top;\n",
       "    }\n",
       "\n",
       "    .dataframe thead th {\n",
       "        text-align: right;\n",
       "    }\n",
       "</style>\n",
       "<table border=\"1\" class=\"dataframe\">\n",
       "  <thead>\n",
       "    <tr style=\"text-align: right;\">\n",
       "      <th></th>\n",
       "      <th>job_satisfaction_rate</th>\n",
       "    </tr>\n",
       "    <tr>\n",
       "      <th>id</th>\n",
       "      <th></th>\n",
       "    </tr>\n",
       "  </thead>\n",
       "  <tbody>\n",
       "    <tr>\n",
       "      <th>130604</th>\n",
       "      <td>0.74</td>\n",
       "    </tr>\n",
       "    <tr>\n",
       "      <th>825977</th>\n",
       "      <td>0.75</td>\n",
       "    </tr>\n",
       "    <tr>\n",
       "      <th>418490</th>\n",
       "      <td>0.60</td>\n",
       "    </tr>\n",
       "    <tr>\n",
       "      <th>555320</th>\n",
       "      <td>0.72</td>\n",
       "    </tr>\n",
       "    <tr>\n",
       "      <th>826430</th>\n",
       "      <td>0.08</td>\n",
       "    </tr>\n",
       "  </tbody>\n",
       "</table>\n",
       "</div>"
      ],
      "text/plain": [
       "        job_satisfaction_rate\n",
       "id                           \n",
       "130604                   0.74\n",
       "825977                   0.75\n",
       "418490                   0.60\n",
       "555320                   0.72\n",
       "826430                   0.08"
      ]
     },
     "execution_count": 7,
     "metadata": {},
     "output_type": "execute_result"
    }
   ],
   "source": [
    "y_test_1 = pd.read_csv('/datasets/test_target_job_satisfaction_rate.csv').set_index('id')\n",
    "y_test_1.info()\n",
    "y_test_1.head()"
   ]
  },
  {
   "cell_type": "markdown",
   "id": "b8c4ff05",
   "metadata": {},
   "source": [
    "**Вывод**\n",
    "\n",
    "Данные содержат пропуски, с которыми предстоит поработать."
   ]
  },
  {
   "cell_type": "markdown",
   "id": "7a17da8e",
   "metadata": {},
   "source": [
    "# Шаг 2. Предобработка данных"
   ]
  },
  {
   "cell_type": "markdown",
   "id": "224a7654",
   "metadata": {},
   "source": [
    "**Датасет train_job_satisfaction_rate**"
   ]
  },
  {
   "cell_type": "code",
   "execution_count": 8,
   "id": "07b5fe33",
   "metadata": {
    "scrolled": true
   },
   "outputs": [
    {
     "data": {
      "text/plain": [
       "'dept'"
      ]
     },
     "metadata": {},
     "output_type": "display_data"
    },
    {
     "data": {
      "text/plain": [
       "sales         1512\n",
       "technology     866\n",
       "purchasing     610\n",
       "marketing      550\n",
       "hr             456\n",
       "Name: dept, dtype: int64"
      ]
     },
     "metadata": {},
     "output_type": "display_data"
    },
    {
     "data": {
      "text/plain": [
       "'level'"
      ]
     },
     "metadata": {},
     "output_type": "display_data"
    },
    {
     "data": {
      "text/plain": [
       "junior    1894\n",
       "middle    1744\n",
       "sinior     358\n",
       "Name: level, dtype: int64"
      ]
     },
     "metadata": {},
     "output_type": "display_data"
    },
    {
     "data": {
      "text/plain": [
       "'workload'"
      ]
     },
     "metadata": {},
     "output_type": "display_data"
    },
    {
     "data": {
      "text/plain": [
       "medium    2066\n",
       "low       1200\n",
       "high       734\n",
       "Name: workload, dtype: int64"
      ]
     },
     "metadata": {},
     "output_type": "display_data"
    },
    {
     "data": {
      "text/plain": [
       "'last_year_promo'"
      ]
     },
     "metadata": {},
     "output_type": "display_data"
    },
    {
     "data": {
      "text/plain": [
       "no     3880\n",
       "yes     120\n",
       "Name: last_year_promo, dtype: int64"
      ]
     },
     "metadata": {},
     "output_type": "display_data"
    },
    {
     "data": {
      "text/plain": [
       "'last_year_violations'"
      ]
     },
     "metadata": {},
     "output_type": "display_data"
    },
    {
     "data": {
      "text/plain": [
       "no     3441\n",
       "yes     559\n",
       "Name: last_year_violations, dtype: int64"
      ]
     },
     "metadata": {},
     "output_type": "display_data"
    }
   ],
   "source": [
    "for i in train_1.select_dtypes(include='object').columns:\n",
    "    display(i,train_1[i].value_counts())\n",
    "#категориальные переменные не содержат каких-то ошибок внутри наименований"
   ]
  },
  {
   "cell_type": "code",
   "execution_count": 9,
   "id": "d7d1aeae",
   "metadata": {
    "scrolled": true
   },
   "outputs": [
    {
     "data": {
      "text/html": [
       "<div>\n",
       "<style scoped>\n",
       "    .dataframe tbody tr th:only-of-type {\n",
       "        vertical-align: middle;\n",
       "    }\n",
       "\n",
       "    .dataframe tbody tr th {\n",
       "        vertical-align: top;\n",
       "    }\n",
       "\n",
       "    .dataframe thead th {\n",
       "        text-align: right;\n",
       "    }\n",
       "</style>\n",
       "<table border=\"1\" class=\"dataframe\">\n",
       "  <thead>\n",
       "    <tr style=\"text-align: right;\">\n",
       "      <th></th>\n",
       "      <th>dept</th>\n",
       "      <th>level</th>\n",
       "      <th>workload</th>\n",
       "      <th>employment_years</th>\n",
       "      <th>last_year_promo</th>\n",
       "      <th>last_year_violations</th>\n",
       "      <th>supervisor_evaluation</th>\n",
       "      <th>salary</th>\n",
       "      <th>job_satisfaction_rate</th>\n",
       "    </tr>\n",
       "    <tr>\n",
       "      <th>id</th>\n",
       "      <th></th>\n",
       "      <th></th>\n",
       "      <th></th>\n",
       "      <th></th>\n",
       "      <th></th>\n",
       "      <th></th>\n",
       "      <th></th>\n",
       "      <th></th>\n",
       "      <th></th>\n",
       "    </tr>\n",
       "  </thead>\n",
       "  <tbody>\n",
       "    <tr>\n",
       "      <th>694746</th>\n",
       "      <td>NaN</td>\n",
       "      <td>junior</td>\n",
       "      <td>medium</td>\n",
       "      <td>5</td>\n",
       "      <td>no</td>\n",
       "      <td>no</td>\n",
       "      <td>4</td>\n",
       "      <td>21600</td>\n",
       "      <td>0.62</td>\n",
       "    </tr>\n",
       "    <tr>\n",
       "      <th>814624</th>\n",
       "      <td>NaN</td>\n",
       "      <td>junior</td>\n",
       "      <td>medium</td>\n",
       "      <td>3</td>\n",
       "      <td>no</td>\n",
       "      <td>no</td>\n",
       "      <td>4</td>\n",
       "      <td>24000</td>\n",
       "      <td>0.88</td>\n",
       "    </tr>\n",
       "    <tr>\n",
       "      <th>475114</th>\n",
       "      <td>NaN</td>\n",
       "      <td>junior</td>\n",
       "      <td>high</td>\n",
       "      <td>4</td>\n",
       "      <td>no</td>\n",
       "      <td>no</td>\n",
       "      <td>4</td>\n",
       "      <td>31200</td>\n",
       "      <td>0.63</td>\n",
       "    </tr>\n",
       "    <tr>\n",
       "      <th>497243</th>\n",
       "      <td>NaN</td>\n",
       "      <td>junior</td>\n",
       "      <td>medium</td>\n",
       "      <td>1</td>\n",
       "      <td>no</td>\n",
       "      <td>no</td>\n",
       "      <td>3</td>\n",
       "      <td>26400</td>\n",
       "      <td>0.28</td>\n",
       "    </tr>\n",
       "    <tr>\n",
       "      <th>168668</th>\n",
       "      <td>NaN</td>\n",
       "      <td>junior</td>\n",
       "      <td>low</td>\n",
       "      <td>3</td>\n",
       "      <td>no</td>\n",
       "      <td>no</td>\n",
       "      <td>4</td>\n",
       "      <td>18000</td>\n",
       "      <td>0.88</td>\n",
       "    </tr>\n",
       "    <tr>\n",
       "      <th>641150</th>\n",
       "      <td>NaN</td>\n",
       "      <td>junior</td>\n",
       "      <td>low</td>\n",
       "      <td>3</td>\n",
       "      <td>no</td>\n",
       "      <td>yes</td>\n",
       "      <td>4</td>\n",
       "      <td>12000</td>\n",
       "      <td>0.54</td>\n",
       "    </tr>\n",
       "  </tbody>\n",
       "</table>\n",
       "</div>"
      ],
      "text/plain": [
       "       dept   level workload  employment_years last_year_promo  \\\n",
       "id                                                               \n",
       "694746  NaN  junior   medium                 5              no   \n",
       "814624  NaN  junior   medium                 3              no   \n",
       "475114  NaN  junior     high                 4              no   \n",
       "497243  NaN  junior   medium                 1              no   \n",
       "168668  NaN  junior      low                 3              no   \n",
       "641150  NaN  junior      low                 3              no   \n",
       "\n",
       "       last_year_violations  supervisor_evaluation  salary  \\\n",
       "id                                                           \n",
       "694746                   no                      4   21600   \n",
       "814624                   no                      4   24000   \n",
       "475114                   no                      4   31200   \n",
       "497243                   no                      3   26400   \n",
       "168668                   no                      4   18000   \n",
       "641150                  yes                      4   12000   \n",
       "\n",
       "        job_satisfaction_rate  \n",
       "id                             \n",
       "694746                   0.62  \n",
       "814624                   0.88  \n",
       "475114                   0.63  \n",
       "497243                   0.28  \n",
       "168668                   0.88  \n",
       "641150                   0.54  "
      ]
     },
     "execution_count": 9,
     "metadata": {},
     "output_type": "execute_result"
    }
   ],
   "source": [
    "#посмотрю, с чем связаны пропуски в департаменте и уровне должности\n",
    "train_1[train_1['dept'].isnull()]"
   ]
  },
  {
   "cell_type": "code",
   "execution_count": 10,
   "id": "daa01a2d",
   "metadata": {},
   "outputs": [
    {
     "data": {
      "text/html": [
       "<div>\n",
       "<style scoped>\n",
       "    .dataframe tbody tr th:only-of-type {\n",
       "        vertical-align: middle;\n",
       "    }\n",
       "\n",
       "    .dataframe tbody tr th {\n",
       "        vertical-align: top;\n",
       "    }\n",
       "\n",
       "    .dataframe thead th {\n",
       "        text-align: right;\n",
       "    }\n",
       "</style>\n",
       "<table border=\"1\" class=\"dataframe\">\n",
       "  <thead>\n",
       "    <tr style=\"text-align: right;\">\n",
       "      <th></th>\n",
       "      <th>dept</th>\n",
       "      <th>level</th>\n",
       "      <th>workload</th>\n",
       "      <th>employment_years</th>\n",
       "      <th>last_year_promo</th>\n",
       "      <th>last_year_violations</th>\n",
       "      <th>supervisor_evaluation</th>\n",
       "      <th>salary</th>\n",
       "      <th>job_satisfaction_rate</th>\n",
       "    </tr>\n",
       "    <tr>\n",
       "      <th>id</th>\n",
       "      <th></th>\n",
       "      <th></th>\n",
       "      <th></th>\n",
       "      <th></th>\n",
       "      <th></th>\n",
       "      <th></th>\n",
       "      <th></th>\n",
       "      <th></th>\n",
       "      <th></th>\n",
       "    </tr>\n",
       "  </thead>\n",
       "  <tbody>\n",
       "    <tr>\n",
       "      <th>631073</th>\n",
       "      <td>sales</td>\n",
       "      <td>NaN</td>\n",
       "      <td>medium</td>\n",
       "      <td>1</td>\n",
       "      <td>no</td>\n",
       "      <td>no</td>\n",
       "      <td>4</td>\n",
       "      <td>27600</td>\n",
       "      <td>0.66</td>\n",
       "    </tr>\n",
       "    <tr>\n",
       "      <th>416327</th>\n",
       "      <td>sales</td>\n",
       "      <td>NaN</td>\n",
       "      <td>low</td>\n",
       "      <td>1</td>\n",
       "      <td>no</td>\n",
       "      <td>no</td>\n",
       "      <td>5</td>\n",
       "      <td>18000</td>\n",
       "      <td>0.73</td>\n",
       "    </tr>\n",
       "    <tr>\n",
       "      <th>135043</th>\n",
       "      <td>sales</td>\n",
       "      <td>NaN</td>\n",
       "      <td>medium</td>\n",
       "      <td>1</td>\n",
       "      <td>no</td>\n",
       "      <td>no</td>\n",
       "      <td>3</td>\n",
       "      <td>26400</td>\n",
       "      <td>0.30</td>\n",
       "    </tr>\n",
       "    <tr>\n",
       "      <th>998838</th>\n",
       "      <td>sales</td>\n",
       "      <td>NaN</td>\n",
       "      <td>medium</td>\n",
       "      <td>1</td>\n",
       "      <td>no</td>\n",
       "      <td>no</td>\n",
       "      <td>5</td>\n",
       "      <td>27600</td>\n",
       "      <td>0.71</td>\n",
       "    </tr>\n",
       "  </tbody>\n",
       "</table>\n",
       "</div>"
      ],
      "text/plain": [
       "         dept level workload  employment_years last_year_promo  \\\n",
       "id                                                               \n",
       "631073  sales   NaN   medium                 1              no   \n",
       "416327  sales   NaN      low                 1              no   \n",
       "135043  sales   NaN   medium                 1              no   \n",
       "998838  sales   NaN   medium                 1              no   \n",
       "\n",
       "       last_year_violations  supervisor_evaluation  salary  \\\n",
       "id                                                           \n",
       "631073                   no                      4   27600   \n",
       "416327                   no                      5   18000   \n",
       "135043                   no                      3   26400   \n",
       "998838                   no                      5   27600   \n",
       "\n",
       "        job_satisfaction_rate  \n",
       "id                             \n",
       "631073                   0.66  \n",
       "416327                   0.73  \n",
       "135043                   0.30  \n",
       "998838                   0.71  "
      ]
     },
     "execution_count": 10,
     "metadata": {},
     "output_type": "execute_result"
    }
   ],
   "source": [
    "train_1[train_1['level'].isnull()]"
   ]
  },
  {
   "cell_type": "code",
   "execution_count": 11,
   "id": "046b277c",
   "metadata": {
    "scrolled": true
   },
   "outputs": [
    {
     "data": {
      "text/html": [
       "<div>\n",
       "<style scoped>\n",
       "    .dataframe tbody tr th:only-of-type {\n",
       "        vertical-align: middle;\n",
       "    }\n",
       "\n",
       "    .dataframe tbody tr th {\n",
       "        vertical-align: top;\n",
       "    }\n",
       "\n",
       "    .dataframe thead th {\n",
       "        text-align: right;\n",
       "    }\n",
       "</style>\n",
       "<table border=\"1\" class=\"dataframe\">\n",
       "  <thead>\n",
       "    <tr style=\"text-align: right;\">\n",
       "      <th></th>\n",
       "      <th>employment_years</th>\n",
       "      <th>supervisor_evaluation</th>\n",
       "      <th>salary</th>\n",
       "      <th>job_satisfaction_rate</th>\n",
       "    </tr>\n",
       "  </thead>\n",
       "  <tbody>\n",
       "    <tr>\n",
       "      <th>count</th>\n",
       "      <td>4000.000000</td>\n",
       "      <td>4000.000000</td>\n",
       "      <td>4000.000000</td>\n",
       "      <td>4000.000000</td>\n",
       "    </tr>\n",
       "    <tr>\n",
       "      <th>mean</th>\n",
       "      <td>3.718500</td>\n",
       "      <td>3.476500</td>\n",
       "      <td>33926.700000</td>\n",
       "      <td>0.533995</td>\n",
       "    </tr>\n",
       "    <tr>\n",
       "      <th>std</th>\n",
       "      <td>2.542513</td>\n",
       "      <td>1.008812</td>\n",
       "      <td>14900.703838</td>\n",
       "      <td>0.225327</td>\n",
       "    </tr>\n",
       "    <tr>\n",
       "      <th>min</th>\n",
       "      <td>1.000000</td>\n",
       "      <td>1.000000</td>\n",
       "      <td>12000.000000</td>\n",
       "      <td>0.030000</td>\n",
       "    </tr>\n",
       "    <tr>\n",
       "      <th>25%</th>\n",
       "      <td>2.000000</td>\n",
       "      <td>3.000000</td>\n",
       "      <td>22800.000000</td>\n",
       "      <td>0.360000</td>\n",
       "    </tr>\n",
       "    <tr>\n",
       "      <th>50%</th>\n",
       "      <td>3.000000</td>\n",
       "      <td>4.000000</td>\n",
       "      <td>30000.000000</td>\n",
       "      <td>0.560000</td>\n",
       "    </tr>\n",
       "    <tr>\n",
       "      <th>75%</th>\n",
       "      <td>6.000000</td>\n",
       "      <td>4.000000</td>\n",
       "      <td>43200.000000</td>\n",
       "      <td>0.710000</td>\n",
       "    </tr>\n",
       "    <tr>\n",
       "      <th>max</th>\n",
       "      <td>10.000000</td>\n",
       "      <td>5.000000</td>\n",
       "      <td>98400.000000</td>\n",
       "      <td>1.000000</td>\n",
       "    </tr>\n",
       "  </tbody>\n",
       "</table>\n",
       "</div>"
      ],
      "text/plain": [
       "       employment_years  supervisor_evaluation        salary  \\\n",
       "count       4000.000000            4000.000000   4000.000000   \n",
       "mean           3.718500               3.476500  33926.700000   \n",
       "std            2.542513               1.008812  14900.703838   \n",
       "min            1.000000               1.000000  12000.000000   \n",
       "25%            2.000000               3.000000  22800.000000   \n",
       "50%            3.000000               4.000000  30000.000000   \n",
       "75%            6.000000               4.000000  43200.000000   \n",
       "max           10.000000               5.000000  98400.000000   \n",
       "\n",
       "       job_satisfaction_rate  \n",
       "count            4000.000000  \n",
       "mean                0.533995  \n",
       "std                 0.225327  \n",
       "min                 0.030000  \n",
       "25%                 0.360000  \n",
       "50%                 0.560000  \n",
       "75%                 0.710000  \n",
       "max                 1.000000  "
      ]
     },
     "execution_count": 11,
     "metadata": {},
     "output_type": "execute_result"
    }
   ],
   "source": [
    "#посмотрю данные в количественных переменных\n",
    "train_1.describe()\n",
    "\n",
    "#каких-то ошибок в количественных данных на первый взгляд нет"
   ]
  },
  {
   "cell_type": "markdown",
   "id": "fc230a5d",
   "metadata": {},
   "source": [
    "**Датасет test_features**"
   ]
  },
  {
   "cell_type": "code",
   "execution_count": 12,
   "id": "9eab75c6",
   "metadata": {},
   "outputs": [
    {
     "data": {
      "text/plain": [
       "'dept'"
      ]
     },
     "metadata": {},
     "output_type": "display_data"
    },
    {
     "data": {
      "text/plain": [
       "sales         763\n",
       "technology    455\n",
       "marketing     279\n",
       "purchasing    273\n",
       "hr            227\n",
       "                1\n",
       "Name: dept, dtype: int64"
      ]
     },
     "metadata": {},
     "output_type": "display_data"
    },
    {
     "data": {
      "text/plain": [
       "'level'"
      ]
     },
     "metadata": {},
     "output_type": "display_data"
    },
    {
     "data": {
      "text/plain": [
       "junior    974\n",
       "middle    854\n",
       "sinior    171\n",
       "Name: level, dtype: int64"
      ]
     },
     "metadata": {},
     "output_type": "display_data"
    },
    {
     "data": {
      "text/plain": [
       "'workload'"
      ]
     },
     "metadata": {},
     "output_type": "display_data"
    },
    {
     "data": {
      "text/plain": [
       "medium    1043\n",
       "low        593\n",
       "high       363\n",
       "             1\n",
       "Name: workload, dtype: int64"
      ]
     },
     "metadata": {},
     "output_type": "display_data"
    },
    {
     "data": {
      "text/plain": [
       "'last_year_promo'"
      ]
     },
     "metadata": {},
     "output_type": "display_data"
    },
    {
     "data": {
      "text/plain": [
       "no     1937\n",
       "yes      63\n",
       "Name: last_year_promo, dtype: int64"
      ]
     },
     "metadata": {},
     "output_type": "display_data"
    },
    {
     "data": {
      "text/plain": [
       "'last_year_violations'"
      ]
     },
     "metadata": {},
     "output_type": "display_data"
    },
    {
     "data": {
      "text/plain": [
       "no     1738\n",
       "yes     262\n",
       "Name: last_year_violations, dtype: int64"
      ]
     },
     "metadata": {},
     "output_type": "display_data"
    }
   ],
   "source": [
    "for i in X_test_1.select_dtypes(include='object').columns:\n",
    "    display(i,X_test_1[i].value_counts())\n",
    "#категориальные переменные не содержат каких-то ошибок внутри наименований"
   ]
  },
  {
   "cell_type": "code",
   "execution_count": 13,
   "id": "a10295d1",
   "metadata": {},
   "outputs": [
    {
     "data": {
      "text/html": [
       "<div>\n",
       "<style scoped>\n",
       "    .dataframe tbody tr th:only-of-type {\n",
       "        vertical-align: middle;\n",
       "    }\n",
       "\n",
       "    .dataframe tbody tr th {\n",
       "        vertical-align: top;\n",
       "    }\n",
       "\n",
       "    .dataframe thead th {\n",
       "        text-align: right;\n",
       "    }\n",
       "</style>\n",
       "<table border=\"1\" class=\"dataframe\">\n",
       "  <thead>\n",
       "    <tr style=\"text-align: right;\">\n",
       "      <th></th>\n",
       "      <th>dept</th>\n",
       "      <th>level</th>\n",
       "      <th>workload</th>\n",
       "      <th>employment_years</th>\n",
       "      <th>last_year_promo</th>\n",
       "      <th>last_year_violations</th>\n",
       "      <th>supervisor_evaluation</th>\n",
       "      <th>salary</th>\n",
       "    </tr>\n",
       "    <tr>\n",
       "      <th>id</th>\n",
       "      <th></th>\n",
       "      <th></th>\n",
       "      <th></th>\n",
       "      <th></th>\n",
       "      <th></th>\n",
       "      <th></th>\n",
       "      <th></th>\n",
       "      <th></th>\n",
       "    </tr>\n",
       "  </thead>\n",
       "  <tbody>\n",
       "    <tr>\n",
       "      <th>609865</th>\n",
       "      <td>NaN</td>\n",
       "      <td>junior</td>\n",
       "      <td>medium</td>\n",
       "      <td>1</td>\n",
       "      <td>no</td>\n",
       "      <td>no</td>\n",
       "      <td>1</td>\n",
       "      <td>20400</td>\n",
       "    </tr>\n",
       "    <tr>\n",
       "      <th>832342</th>\n",
       "      <td>NaN</td>\n",
       "      <td>junior</td>\n",
       "      <td>medium</td>\n",
       "      <td>1</td>\n",
       "      <td>no</td>\n",
       "      <td>no</td>\n",
       "      <td>4</td>\n",
       "      <td>28800</td>\n",
       "    </tr>\n",
       "  </tbody>\n",
       "</table>\n",
       "</div>"
      ],
      "text/plain": [
       "       dept   level workload  employment_years last_year_promo  \\\n",
       "id                                                               \n",
       "609865  NaN  junior   medium                 1              no   \n",
       "832342  NaN  junior   medium                 1              no   \n",
       "\n",
       "       last_year_violations  supervisor_evaluation  salary  \n",
       "id                                                          \n",
       "609865                   no                      1   20400  \n",
       "832342                   no                      4   28800  "
      ]
     },
     "execution_count": 13,
     "metadata": {},
     "output_type": "execute_result"
    }
   ],
   "source": [
    "#посмотрю, с чем связаны пропуски в департаменте и уровне должности\n",
    "X_test_1[X_test_1['dept'].isnull()]"
   ]
  },
  {
   "cell_type": "code",
   "execution_count": 14,
   "id": "50e26a21",
   "metadata": {},
   "outputs": [
    {
     "data": {
      "text/html": [
       "<div>\n",
       "<style scoped>\n",
       "    .dataframe tbody tr th:only-of-type {\n",
       "        vertical-align: middle;\n",
       "    }\n",
       "\n",
       "    .dataframe tbody tr th {\n",
       "        vertical-align: top;\n",
       "    }\n",
       "\n",
       "    .dataframe thead th {\n",
       "        text-align: right;\n",
       "    }\n",
       "</style>\n",
       "<table border=\"1\" class=\"dataframe\">\n",
       "  <thead>\n",
       "    <tr style=\"text-align: right;\">\n",
       "      <th></th>\n",
       "      <th>dept</th>\n",
       "      <th>level</th>\n",
       "      <th>workload</th>\n",
       "      <th>employment_years</th>\n",
       "      <th>last_year_promo</th>\n",
       "      <th>last_year_violations</th>\n",
       "      <th>supervisor_evaluation</th>\n",
       "      <th>salary</th>\n",
       "    </tr>\n",
       "    <tr>\n",
       "      <th>id</th>\n",
       "      <th></th>\n",
       "      <th></th>\n",
       "      <th></th>\n",
       "      <th></th>\n",
       "      <th></th>\n",
       "      <th></th>\n",
       "      <th></th>\n",
       "      <th></th>\n",
       "    </tr>\n",
       "  </thead>\n",
       "  <tbody>\n",
       "    <tr>\n",
       "      <th>471990</th>\n",
       "      <td>sales</td>\n",
       "      <td>NaN</td>\n",
       "      <td>low</td>\n",
       "      <td>1</td>\n",
       "      <td>no</td>\n",
       "      <td>no</td>\n",
       "      <td>3</td>\n",
       "      <td>12000</td>\n",
       "    </tr>\n",
       "  </tbody>\n",
       "</table>\n",
       "</div>"
      ],
      "text/plain": [
       "         dept level workload  employment_years last_year_promo  \\\n",
       "id                                                               \n",
       "471990  sales   NaN      low                 1              no   \n",
       "\n",
       "       last_year_violations  supervisor_evaluation  salary  \n",
       "id                                                          \n",
       "471990                   no                      3   12000  "
      ]
     },
     "execution_count": 14,
     "metadata": {},
     "output_type": "execute_result"
    }
   ],
   "source": [
    "X_test_1[X_test_1['level'].isnull()]"
   ]
  },
  {
   "cell_type": "code",
   "execution_count": 15,
   "id": "bb13e89c",
   "metadata": {},
   "outputs": [
    {
     "data": {
      "text/html": [
       "<div>\n",
       "<style scoped>\n",
       "    .dataframe tbody tr th:only-of-type {\n",
       "        vertical-align: middle;\n",
       "    }\n",
       "\n",
       "    .dataframe tbody tr th {\n",
       "        vertical-align: top;\n",
       "    }\n",
       "\n",
       "    .dataframe thead th {\n",
       "        text-align: right;\n",
       "    }\n",
       "</style>\n",
       "<table border=\"1\" class=\"dataframe\">\n",
       "  <thead>\n",
       "    <tr style=\"text-align: right;\">\n",
       "      <th></th>\n",
       "      <th>employment_years</th>\n",
       "      <th>supervisor_evaluation</th>\n",
       "      <th>salary</th>\n",
       "    </tr>\n",
       "  </thead>\n",
       "  <tbody>\n",
       "    <tr>\n",
       "      <th>count</th>\n",
       "      <td>2000.000000</td>\n",
       "      <td>2000.000000</td>\n",
       "      <td>2000.000000</td>\n",
       "    </tr>\n",
       "    <tr>\n",
       "      <th>mean</th>\n",
       "      <td>3.666500</td>\n",
       "      <td>3.526500</td>\n",
       "      <td>34066.800000</td>\n",
       "    </tr>\n",
       "    <tr>\n",
       "      <th>std</th>\n",
       "      <td>2.537222</td>\n",
       "      <td>0.996892</td>\n",
       "      <td>15398.436729</td>\n",
       "    </tr>\n",
       "    <tr>\n",
       "      <th>min</th>\n",
       "      <td>1.000000</td>\n",
       "      <td>1.000000</td>\n",
       "      <td>12000.000000</td>\n",
       "    </tr>\n",
       "    <tr>\n",
       "      <th>25%</th>\n",
       "      <td>1.000000</td>\n",
       "      <td>3.000000</td>\n",
       "      <td>22800.000000</td>\n",
       "    </tr>\n",
       "    <tr>\n",
       "      <th>50%</th>\n",
       "      <td>3.000000</td>\n",
       "      <td>4.000000</td>\n",
       "      <td>30000.000000</td>\n",
       "    </tr>\n",
       "    <tr>\n",
       "      <th>75%</th>\n",
       "      <td>6.000000</td>\n",
       "      <td>4.000000</td>\n",
       "      <td>43200.000000</td>\n",
       "    </tr>\n",
       "    <tr>\n",
       "      <th>max</th>\n",
       "      <td>10.000000</td>\n",
       "      <td>5.000000</td>\n",
       "      <td>96000.000000</td>\n",
       "    </tr>\n",
       "  </tbody>\n",
       "</table>\n",
       "</div>"
      ],
      "text/plain": [
       "       employment_years  supervisor_evaluation        salary\n",
       "count       2000.000000            2000.000000   2000.000000\n",
       "mean           3.666500               3.526500  34066.800000\n",
       "std            2.537222               0.996892  15398.436729\n",
       "min            1.000000               1.000000  12000.000000\n",
       "25%            1.000000               3.000000  22800.000000\n",
       "50%            3.000000               4.000000  30000.000000\n",
       "75%            6.000000               4.000000  43200.000000\n",
       "max           10.000000               5.000000  96000.000000"
      ]
     },
     "execution_count": 15,
     "metadata": {},
     "output_type": "execute_result"
    }
   ],
   "source": [
    "#посмотрю данные в количественных переменных\n",
    "X_test_1.describe()\n",
    "\n",
    "#каких-то ошибок в количественных данных на первый взгляд нет"
   ]
  },
  {
   "cell_type": "markdown",
   "id": "1304b0b2",
   "metadata": {},
   "source": [
    "**Датасет test_target_job_satisfaction_rate**"
   ]
  },
  {
   "cell_type": "code",
   "execution_count": 16,
   "id": "b797c4ef",
   "metadata": {},
   "outputs": [
    {
     "data": {
      "text/html": [
       "<div>\n",
       "<style scoped>\n",
       "    .dataframe tbody tr th:only-of-type {\n",
       "        vertical-align: middle;\n",
       "    }\n",
       "\n",
       "    .dataframe tbody tr th {\n",
       "        vertical-align: top;\n",
       "    }\n",
       "\n",
       "    .dataframe thead th {\n",
       "        text-align: right;\n",
       "    }\n",
       "</style>\n",
       "<table border=\"1\" class=\"dataframe\">\n",
       "  <thead>\n",
       "    <tr style=\"text-align: right;\">\n",
       "      <th></th>\n",
       "      <th>job_satisfaction_rate</th>\n",
       "    </tr>\n",
       "    <tr>\n",
       "      <th>id</th>\n",
       "      <th></th>\n",
       "    </tr>\n",
       "  </thead>\n",
       "  <tbody>\n",
       "    <tr>\n",
       "      <th>130604</th>\n",
       "      <td>0.74</td>\n",
       "    </tr>\n",
       "    <tr>\n",
       "      <th>825977</th>\n",
       "      <td>0.75</td>\n",
       "    </tr>\n",
       "    <tr>\n",
       "      <th>418490</th>\n",
       "      <td>0.60</td>\n",
       "    </tr>\n",
       "    <tr>\n",
       "      <th>555320</th>\n",
       "      <td>0.72</td>\n",
       "    </tr>\n",
       "    <tr>\n",
       "      <th>826430</th>\n",
       "      <td>0.08</td>\n",
       "    </tr>\n",
       "  </tbody>\n",
       "</table>\n",
       "</div>"
      ],
      "text/plain": [
       "        job_satisfaction_rate\n",
       "id                           \n",
       "130604                   0.74\n",
       "825977                   0.75\n",
       "418490                   0.60\n",
       "555320                   0.72\n",
       "826430                   0.08"
      ]
     },
     "execution_count": 16,
     "metadata": {},
     "output_type": "execute_result"
    }
   ],
   "source": [
    "y_test_1.head()"
   ]
  },
  {
   "cell_type": "code",
   "execution_count": 17,
   "id": "a59efa8f",
   "metadata": {},
   "outputs": [],
   "source": [
    "#для заполнения пропусков сделаю пайплайн\n",
    "# создаём списки с названиями признаков\n",
    "ohe_columns = ['dept', 'last_year_promo','last_year_violations']\n",
    "ord_columns = ['level','workload']\n",
    "num_columns = ['employment_years', 'supervisor_evaluation','salary']\n",
    "\n",
    "# создаём пайплайн для подготовки признаков из списка ohe_columns: заполнение пропусков и OHE-кодирование\n",
    "# SimpleImputer + OHE\n",
    "ohe_pipe = Pipeline(\n",
    "    [\n",
    "        (\n",
    "            'simpleImputer_ohe', \n",
    "            SimpleImputer(missing_values=np.nan, strategy='most_frequent')\n",
    "        ),\n",
    "        (\n",
    "            'ohe', \n",
    "            OneHotEncoder(drop='first', handle_unknown='ignore', sparse=False)\n",
    "        )\n",
    "    ]\n",
    ")\n",
    "\n",
    "# cоздаём пайплайн для подготовки признаков из списка ord_columns: заполнение пропусков и Ordinal-кодирование\n",
    "# SimpleImputer + OE\n",
    "ord_pipe = Pipeline(\n",
    "    [\n",
    "        (\n",
    "            'simpleImputer_before_ord', \n",
    "            SimpleImputer(missing_values=np.nan, strategy='most_frequent')\n",
    "        ),\n",
    "        (\n",
    "            'ord',\n",
    "            OrdinalEncoder(\n",
    "                categories=[\n",
    "                    ['junior', 'middle', 'sinior'],\n",
    "                    ['low', 'medium', 'high']\n",
    "                ], \n",
    "                handle_unknown='use_encoded_value',\n",
    "                unknown_value=np.nan\n",
    "            )\n",
    "        ),\n",
    "        (\n",
    "            'simpleImputer_after_ord', \n",
    "            SimpleImputer(missing_values=np.nan, strategy='most_frequent')\n",
    "        )\n",
    "    ]\n",
    ")\n",
    "\n",
    "# создайте общий пайплайн для подготовки данных\n",
    "data_preprocessor = ColumnTransformer(\n",
    "    [\n",
    "        ('ohe', ohe_pipe, ohe_columns),\n",
    "        ('ord', ord_pipe, ord_columns),\n",
    "        ('num', MinMaxScaler(), num_columns)    \n",
    "    ], \n",
    "    remainder =  'passthrough')"
   ]
  },
  {
   "cell_type": "markdown",
   "id": "dae095fc",
   "metadata": {},
   "source": [
    "# Шаг 3. Исследовательский анализ данных"
   ]
  },
  {
   "cell_type": "code",
   "execution_count": 18,
   "id": "bb3c93ca",
   "metadata": {},
   "outputs": [
    {
     "data": {
      "image/png": "[encoded data removed]",
      "text/plain": [
       "<Figure size 1080x1080 with 4 Axes>"
      ]
     },
     "metadata": {
      "needs_background": "light"
     },
     "output_type": "display_data"
    }
   ],
   "source": [
    "train_1.hist(figsize=(15,15));"
   ]
  },
  {
   "cell_type": "code",
   "execution_count": 19,
   "id": "8acb16f0",
   "metadata": {},
   "outputs": [
    {
     "data": {
      "image/png": "[encoded data removed]",
      "text/plain": [
       "<Figure size 1080x1080 with 4 Axes>"
      ]
     },
     "metadata": {
      "needs_background": "light"
     },
     "output_type": "display_data"
    }
   ],
   "source": [
    "X_test_1.hist(figsize=(15,15));"
   ]
  },
  {
   "cell_type": "code",
   "execution_count": 20,
   "id": "774e852b",
   "metadata": {},
   "outputs": [
    {
     "data": {
      "image/png": "[encoded data removed]",
      "text/plain": [
       "<Figure size 432x288 with 1 Axes>"
      ]
     },
     "metadata": {
      "needs_background": "light"
     },
     "output_type": "display_data"
    }
   ],
   "source": [
    "y_test_1.hist();"
   ]
  },
  {
   "cell_type": "markdown",
   "id": "bdffafb2",
   "metadata": {},
   "source": [
    "По распределению количества отработанных лет в компании все логично - чем ближе к 10 годам, тем меньше значений. <br>\n",
    "Оценка руководителя в основном 3 и 4, пик в 4. <br>\n",
    "Зарплата имеет пик в 30 тысяч рублей. Это касается тренировочных и тестовых данных. <br>\n",
    "Наш целевой признак, в тренировочной выборке и в целевом датасете имеет два пика - 0.4 и 0.8."
   ]
  },
  {
   "cell_type": "code",
   "execution_count": 21,
   "id": "61e1cb1a",
   "metadata": {},
   "outputs": [
    {
     "data": {
      "image/png": "[encoded data removed]",
      "text/plain": [
       "<Figure size 1800x1800 with 5 Axes>"
      ]
     },
     "metadata": {},
     "output_type": "display_data"
    }
   ],
   "source": [
    "#круговые диаграммы для тренировочных данных\n",
    "fig,(ax0,ax1,ax2,ax3,ax4) = plt.subplots(nrows=1,ncols=5,sharey=True,figsize=(25,25));\n",
    "fig.suptitle('Распределение категориальных признаков',y=0.6);\n",
    "train_1['dept'].value_counts().plot(kind='pie',y='dept',ax=ax0,autopct='%1.0f%%',legend=None);\n",
    "train_1['level'].value_counts().plot(kind='pie',y='level',ax=ax1,autopct='%1.0f%%',legend=None);\n",
    "train_1['workload'].value_counts().plot(kind='pie',y='workload',ax=ax2,autopct='%1.0f%%',legend=None);\n",
    "train_1['last_year_promo'].value_counts().plot(kind='pie',y='last_year_promo',ax=ax3,autopct='%1.0f%%',legend=None);\n",
    "train_1['last_year_violations'].value_counts().plot(kind='pie',y='last_year_violations',ax=ax4,autopct='%1.0f%%',legend=None);\n",
    "\n",
    "ax0.set(title='Отдел',ylabel='');\n",
    "ax1.set(title='Должность');\n",
    "ax2.set(title='Загруженность');\n",
    "ax3.set(title='Повышение');\n",
    "ax4.set(title='Нарушения');"
   ]
  },
  {
   "cell_type": "code",
   "execution_count": 22,
   "id": "01f4b4bd",
   "metadata": {},
   "outputs": [
    {
     "data": {
      "image/png": "[encoded data removed]",
      "text/plain": [
       "<Figure size 1800x1800 with 5 Axes>"
      ]
     },
     "metadata": {},
     "output_type": "display_data"
    }
   ],
   "source": [
    "#круговые диаграммы для тестовых данных\n",
    "fig,(ax0,ax1,ax2,ax3,ax4) = plt.subplots(nrows=1,ncols=5,sharey=True,figsize=(25,25));\n",
    "fig.suptitle('Распределение категориальных признаков',y=0.6);\n",
    "X_test_1['dept'].value_counts().plot(kind='pie',y='dept',ax=ax0,autopct='%1.0f%%',legend=None);\n",
    "X_test_1['level'].value_counts().plot(kind='pie',y='level',ax=ax1,autopct='%1.0f%%',legend=None);\n",
    "X_test_1['workload'].value_counts().plot(kind='pie',y='workload',ax=ax2,autopct='%1.0f%%',legend=None);\n",
    "X_test_1['last_year_promo'].value_counts().plot(kind='pie',y='last_year_promo',ax=ax3,autopct='%1.0f%%',legend=None);\n",
    "X_test_1['last_year_violations'].value_counts().plot(kind='pie',y='last_year_violations',ax=ax4,autopct='%1.0f%%',legend=None);\n",
    "\n",
    "ax0.set(title='Отдел',ylabel='');\n",
    "ax1.set(title='Должность');\n",
    "ax2.set(title='Загруженность');\n",
    "ax3.set(title='Повышение');\n",
    "ax4.set(title='Нарушения');"
   ]
  },
  {
   "cell_type": "markdown",
   "id": "34116df9",
   "metadata": {},
   "source": [
    "Распределение долей одинаковое в тренировочных и тестовых данных. В основном это:\n",
    "- работники продающего подразделения или ИТ\n",
    "- джуны или миддлы\n",
    "- со средней загруженностью\n",
    "- без повышени в последний год\n",
    "- и в основном без нарушений"
   ]
  },
  {
   "cell_type": "code",
   "execution_count": 23,
   "id": "9a67f9e1",
   "metadata": {},
   "outputs": [
    {
     "data": {
      "image/png": "[encoded data removed]",
      "text/plain": [
       "<Figure size 1080x1080 with 2 Axes>"
      ]
     },
     "metadata": {
      "needs_background": "light"
     },
     "output_type": "display_data"
    }
   ],
   "source": [
    "#для корреляционного анализа использую тепловую карту коэффициентов кореляции ф\n",
    "interval_cols =['employment_years','supervisor_evaluation','salary','job_satisfaction_rate']\n",
    "\n",
    "# вычисление коэффициентов корреляции phi для датафрейма \n",
    "phik_overview = train_1.phik_matrix(interval_cols=interval_cols)\n",
    "\n",
    "# визуализация тепловой карты коэффициентов корреляции\n",
    "plot_correlation_matrix(\n",
    "    phik_overview.values,\n",
    "    x_labels=phik_overview.columns,\n",
    "    y_labels=phik_overview.index,\n",
    "    title=r\"correlation $\\phi_K$\",\n",
    "    fontsize_factor=1.5,\n",
    "    figsize=(15, 15)\n",
    ")"
   ]
  },
  {
   "cell_type": "markdown",
   "id": "d294df87",
   "metadata": {},
   "source": [
    "На целевой признак больше всего влияют показатели оценки руководителя, проступков за прошлый год и количество проведенных в компании лет.\n",
    "\n",
    "При этом мультиколлинеарность наблюдается между такими показателями как:\n",
    "- зарплата и загруженность, позиция\n",
    "- количество лет в компании и позиция"
   ]
  },
  {
   "cell_type": "markdown",
   "id": "2dca7a80",
   "metadata": {},
   "source": [
    "**Вывод**\n",
    "\n",
    "Что тренировочный датасет, что тестовый содержит хорошую информацию для дальнейшего анализа. "
   ]
  },
  {
   "cell_type": "markdown",
   "id": "8b299f27",
   "metadata": {},
   "source": [
    "# Шаг 4. Подготовка данных"
   ]
  },
  {
   "cell_type": "code",
   "execution_count": 24,
   "id": "a8122b75",
   "metadata": {},
   "outputs": [],
   "source": [
    "#метрика SMAPE\n",
    "def smape(y_true, y_pred):\n",
    "    return 100*np.mean(2*np.abs(y_pred - y_true)/(np.abs(y_pred) + np.abs(y_true)))\n",
    "\n",
    "def smape_scorer(y_true, y_pred):\n",
    "    return smape(y_true, y_pred)"
   ]
  },
  {
   "cell_type": "code",
   "execution_count": 25,
   "id": "68877f55",
   "metadata": {},
   "outputs": [],
   "source": [
    "# создаём итоговый пайплайн: подготовка данных\n",
    "pipe_final = Pipeline([\n",
    "    ('preprocessor', data_preprocessor),\n",
    "    ('models', LinearRegression())\n",
    "])"
   ]
  },
  {
   "cell_type": "markdown",
   "id": "672223b4",
   "metadata": {},
   "source": [
    "# Шаг 5. Обучение моделей"
   ]
  },
  {
   "cell_type": "code",
   "execution_count": 26,
   "id": "7d32ddf3",
   "metadata": {},
   "outputs": [
    {
     "name": "stdout",
     "output_type": "stream",
     "text": [
      "Лучшая модель и её параметры:\n",
      "\n",
      " Pipeline(steps=[('preprocessor',\n",
      "                 ColumnTransformer(remainder='passthrough',\n",
      "                                   transformers=[('ohe',\n",
      "                                                  Pipeline(steps=[('simpleImputer_ohe',\n",
      "                                                                   SimpleImputer(strategy='most_frequent')),\n",
      "                                                                  ('ohe',\n",
      "                                                                   OneHotEncoder(drop='first',\n",
      "                                                                                 sparse=False))]),\n",
      "                                                  ['dept', 'last_year_promo',\n",
      "                                                   'last_year_violations']),\n",
      "                                                 ('ord',\n",
      "                                                  Pipeline(steps=[('simpleImputer_before_ord',\n",
      "                                                                   SimpleImputer(strategy='...\n",
      "                                                                                              ['low',\n",
      "                                                                                               'medium',\n",
      "                                                                                               'high']],\n",
      "                                                                                  handle_unknown='use_encoded_value',\n",
      "                                                                                  unknown_value=nan)),\n",
      "                                                                  ('simpleImputer_after_ord',\n",
      "                                                                   SimpleImputer(strategy='most_frequent'))]),\n",
      "                                                  ['level', 'workload']),\n",
      "                                                 ('num', MinMaxScaler(),\n",
      "                                                  ['employment_years',\n",
      "                                                   'supervisor_evaluation',\n",
      "                                                   'salary'])])),\n",
      "                ('models',\n",
      "                 DecisionTreeRegressor(max_depth=40, min_samples_leaf=2,\n",
      "                                       min_samples_split=10,\n",
      "                                       random_state=42))])\n",
      "Метрика лучшей модели на тренировочной выборке: 14.663127287149383\n"
     ]
    }
   ],
   "source": [
    "RANDOM_STATE = 42\n",
    "\n",
    "#для заполнения пропусков сделаю пайплайн\n",
    "# создаём списки с названиями признаков\n",
    "ohe_columns = ['dept', 'last_year_promo','last_year_violations']\n",
    "ord_columns = ['level','workload']\n",
    "num_columns = ['employment_years', 'supervisor_evaluation','salary']\n",
    "\n",
    "# создаём пайплайн для подготовки признаков из списка ohe_columns: заполнение пропусков и OHE-кодирование\n",
    "# SimpleImputer + OHE\n",
    "ohe_pipe = Pipeline(\n",
    "    [\n",
    "        (\n",
    "            'simpleImputer_ohe', \n",
    "            SimpleImputer(missing_values=np.nan, strategy='most_frequent')\n",
    "        ),\n",
    "        (\n",
    "            'ohe', \n",
    "            OneHotEncoder(drop='first', handle_unknown='error', sparse=False)\n",
    "        )\n",
    "    ]\n",
    ")\n",
    "\n",
    "# cоздаём пайплайн для подготовки признаков из списка ord_columns: заполнение пропусков и Ordinal-кодирование\n",
    "# SimpleImputer + OE\n",
    "ord_pipe = Pipeline(\n",
    "    [\n",
    "        (\n",
    "            'simpleImputer_before_ord', \n",
    "            SimpleImputer(missing_values=np.nan, strategy='most_frequent')\n",
    "        ),\n",
    "        (\n",
    "            'ord',\n",
    "            OrdinalEncoder(\n",
    "                categories=[\n",
    "                    ['junior', 'middle', 'sinior'],\n",
    "                    ['low', 'medium', 'high']\n",
    "                ], \n",
    "                handle_unknown='use_encoded_value',\n",
    "                unknown_value=np.nan\n",
    "            )\n",
    "        ),\n",
    "        (\n",
    "            'simpleImputer_after_ord', \n",
    "            SimpleImputer(missing_values=np.nan, strategy='most_frequent')\n",
    "        )\n",
    "    ]\n",
    ")\n",
    "\n",
    "# создайте общий пайплайн для подготовки данных\n",
    "data_preprocessor = ColumnTransformer(\n",
    "    [\n",
    "        ('ohe', ohe_pipe, ohe_columns),\n",
    "        ('ord', ord_pipe, ord_columns),\n",
    "        ('num', MinMaxScaler(), num_columns)    \n",
    "    ], \n",
    "    remainder =  'passthrough')\n",
    "\n",
    "# создаём итоговый пайплайн: подготовка данных и модель\n",
    "pipe_final = Pipeline([\n",
    "    ('preprocessor', data_preprocessor),\n",
    "    ('models', LinearRegression())\n",
    "])\n",
    "\n",
    "param_grid = [\n",
    "    {\n",
    "        'models': [DecisionTreeRegressor(random_state=RANDOM_STATE)],\n",
    "        'models__max_depth': [None, 5, 10, 20,40],\n",
    "        'models__min_samples_split': [2, 5, 10,20],\n",
    "        'models__min_samples_leaf': [1, 2, 4,6]\n",
    "    },\n",
    "    {\n",
    "        'models': [LinearRegression()],\n",
    "        'models__normalize': [True, False]\n",
    "        # Другие гиперпараметры модели LinearRegression\n",
    "    }\n",
    "]\n",
    "\n",
    "randomized_search = RandomizedSearchCV(\n",
    "    pipe_final, \n",
    "    param_grid, \n",
    "    cv=5,\n",
    "    scoring=make_scorer(smape_scorer,greater_is_better=False),\n",
    "    n_jobs=-1\n",
    ")\n",
    "columns_to_drop =['job_satisfaction_rate']\n",
    "X_train_1 = train_1.drop(columns_to_drop,axis=1)\n",
    "y_train_1 = train_1['job_satisfaction_rate']\n",
    "#encoder = LabelEncoder()\n",
    "#y_train_1 = encoder.fit_transform(y_train_1)\n",
    "\n",
    "randomized_search.fit(X_train_1, y_train_1)\n",
    "\n",
    "print('Лучшая модель и её параметры:\\n\\n', randomized_search.best_estimator_)\n",
    "print ('Метрика лучшей модели на тренировочной выборке:', -randomized_search.best_score_)"
   ]
  },
  {
   "cell_type": "code",
   "execution_count": 27,
   "id": "fe875aa4",
   "metadata": {},
   "outputs": [
    {
     "data": {
      "text/html": [
       "<div>\n",
       "<style scoped>\n",
       "    .dataframe tbody tr th:only-of-type {\n",
       "        vertical-align: middle;\n",
       "    }\n",
       "\n",
       "    .dataframe tbody tr th {\n",
       "        vertical-align: top;\n",
       "    }\n",
       "\n",
       "    .dataframe thead th {\n",
       "        text-align: right;\n",
       "    }\n",
       "</style>\n",
       "<table border=\"1\" class=\"dataframe\">\n",
       "  <thead>\n",
       "    <tr style=\"text-align: right;\">\n",
       "      <th></th>\n",
       "      <th>job_satisfaction_rate</th>\n",
       "    </tr>\n",
       "    <tr>\n",
       "      <th>id</th>\n",
       "      <th></th>\n",
       "    </tr>\n",
       "  </thead>\n",
       "  <tbody>\n",
       "    <tr>\n",
       "      <th>100298</th>\n",
       "      <td>0.80</td>\n",
       "    </tr>\n",
       "    <tr>\n",
       "      <th>100480</th>\n",
       "      <td>0.84</td>\n",
       "    </tr>\n",
       "    <tr>\n",
       "      <th>100503</th>\n",
       "      <td>0.79</td>\n",
       "    </tr>\n",
       "    <tr>\n",
       "      <th>100610</th>\n",
       "      <td>0.75</td>\n",
       "    </tr>\n",
       "    <tr>\n",
       "      <th>100692</th>\n",
       "      <td>0.69</td>\n",
       "    </tr>\n",
       "  </tbody>\n",
       "</table>\n",
       "</div>"
      ],
      "text/plain": [
       "        job_satisfaction_rate\n",
       "id                           \n",
       "100298                   0.80\n",
       "100480                   0.84\n",
       "100503                   0.79\n",
       "100610                   0.75\n",
       "100692                   0.69"
      ]
     },
     "execution_count": 27,
     "metadata": {},
     "output_type": "execute_result"
    }
   ],
   "source": [
    "#подготовлю тестовые данные - номера id идут не по порядку в тренировочной и тестовой выборке\n",
    "y_test_1 = y_test_1.reset_index().sort_values(by='id')\n",
    "y_test_1 = y_test_1.set_index('id')\n",
    "\n",
    "y_test_1.head()"
   ]
  },
  {
   "cell_type": "code",
   "execution_count": 28,
   "id": "f6a958b9",
   "metadata": {
    "scrolled": true
   },
   "outputs": [
    {
     "data": {
      "text/html": [
       "<div>\n",
       "<style scoped>\n",
       "    .dataframe tbody tr th:only-of-type {\n",
       "        vertical-align: middle;\n",
       "    }\n",
       "\n",
       "    .dataframe tbody tr th {\n",
       "        vertical-align: top;\n",
       "    }\n",
       "\n",
       "    .dataframe thead th {\n",
       "        text-align: right;\n",
       "    }\n",
       "</style>\n",
       "<table border=\"1\" class=\"dataframe\">\n",
       "  <thead>\n",
       "    <tr style=\"text-align: right;\">\n",
       "      <th></th>\n",
       "      <th>dept</th>\n",
       "      <th>level</th>\n",
       "      <th>workload</th>\n",
       "      <th>employment_years</th>\n",
       "      <th>last_year_promo</th>\n",
       "      <th>last_year_violations</th>\n",
       "      <th>supervisor_evaluation</th>\n",
       "      <th>salary</th>\n",
       "    </tr>\n",
       "    <tr>\n",
       "      <th>id</th>\n",
       "      <th></th>\n",
       "      <th></th>\n",
       "      <th></th>\n",
       "      <th></th>\n",
       "      <th></th>\n",
       "      <th></th>\n",
       "      <th></th>\n",
       "      <th></th>\n",
       "    </tr>\n",
       "  </thead>\n",
       "  <tbody>\n",
       "    <tr>\n",
       "      <th>100298</th>\n",
       "      <td>hr</td>\n",
       "      <td>junior</td>\n",
       "      <td>low</td>\n",
       "      <td>2</td>\n",
       "      <td>no</td>\n",
       "      <td>no</td>\n",
       "      <td>4</td>\n",
       "      <td>19200</td>\n",
       "    </tr>\n",
       "    <tr>\n",
       "      <th>100480</th>\n",
       "      <td>marketing</td>\n",
       "      <td>junior</td>\n",
       "      <td>low</td>\n",
       "      <td>4</td>\n",
       "      <td>no</td>\n",
       "      <td>no</td>\n",
       "      <td>4</td>\n",
       "      <td>16800</td>\n",
       "    </tr>\n",
       "    <tr>\n",
       "      <th>100503</th>\n",
       "      <td>purchasing</td>\n",
       "      <td>middle</td>\n",
       "      <td>high</td>\n",
       "      <td>5</td>\n",
       "      <td>no</td>\n",
       "      <td>no</td>\n",
       "      <td>4</td>\n",
       "      <td>55200</td>\n",
       "    </tr>\n",
       "    <tr>\n",
       "      <th>100610</th>\n",
       "      <td>sales</td>\n",
       "      <td>middle</td>\n",
       "      <td>medium</td>\n",
       "      <td>5</td>\n",
       "      <td>no</td>\n",
       "      <td>no</td>\n",
       "      <td>4</td>\n",
       "      <td>43200</td>\n",
       "    </tr>\n",
       "    <tr>\n",
       "      <th>100692</th>\n",
       "      <td>sales</td>\n",
       "      <td>middle</td>\n",
       "      <td>high</td>\n",
       "      <td>6</td>\n",
       "      <td>no</td>\n",
       "      <td>no</td>\n",
       "      <td>4</td>\n",
       "      <td>48000</td>\n",
       "    </tr>\n",
       "  </tbody>\n",
       "</table>\n",
       "</div>"
      ],
      "text/plain": [
       "              dept   level workload  employment_years last_year_promo  \\\n",
       "id                                                                      \n",
       "100298          hr  junior      low                 2              no   \n",
       "100480   marketing  junior      low                 4              no   \n",
       "100503  purchasing  middle     high                 5              no   \n",
       "100610       sales  middle   medium                 5              no   \n",
       "100692       sales  middle     high                 6              no   \n",
       "\n",
       "       last_year_violations  supervisor_evaluation  salary  \n",
       "id                                                          \n",
       "100298                   no                      4   19200  \n",
       "100480                   no                      4   16800  \n",
       "100503                   no                      4   55200  \n",
       "100610                   no                      4   43200  \n",
       "100692                   no                      4   48000  "
      ]
     },
     "execution_count": 28,
     "metadata": {},
     "output_type": "execute_result"
    }
   ],
   "source": [
    "X_test_1 = X_test_1.reset_index().sort_values(by='id')\n",
    "\n",
    "X_test_1 = X_test_1.set_index('id')\n",
    "X_test_1.head()"
   ]
  },
  {
   "cell_type": "code",
   "execution_count": 29,
   "id": "9312a5a6",
   "metadata": {
    "scrolled": true
   },
   "outputs": [
    {
     "name": "stdout",
     "output_type": "stream",
     "text": [
      "Метрика:  13.48819011890969\n"
     ]
    }
   ],
   "source": [
    "X_test_1 = X_test_1.replace(' ', np.nan)\n",
    "y_test_pred = randomized_search.best_estimator_.predict(X_test_1)\n",
    "y_true = y_test_1['job_satisfaction_rate']\n",
    "\n",
    "print('Метрика: ', smape_scorer(y_true, y_test_pred))"
   ]
  },
  {
   "cell_type": "markdown",
   "id": "6c58ddf8",
   "metadata": {},
   "source": [
    "# Шаг 6. Оформление выводов"
   ]
  },
  {
   "cell_type": "markdown",
   "id": "3f5bbf07",
   "metadata": {},
   "source": [
    "Job_satisfaction_rate представлен коэффициентом от 0 до 1. Из двух моделей - линейной регрессии и дерева решений случайный поиск выбрал дерево решений как лучшую модель.\n",
    "\n",
    "Однако качество оставляет желать лучшего - на тренировочной выборке метрика равна 14.76, на тестовой даже лучше - 13.73."
   ]
  },
  {
   "cell_type": "markdown",
   "id": "a593639b",
   "metadata": {},
   "source": [
    "# Задача 2: предсказание увольнения сотрудника из компании"
   ]
  },
  {
   "cell_type": "markdown",
   "id": "d2ddf3f0",
   "metadata": {},
   "source": [
    "# Шаг 1. Загрузка данных"
   ]
  },
  {
   "cell_type": "code",
   "execution_count": 30,
   "id": "a16eae55",
   "metadata": {},
   "outputs": [
    {
     "name": "stdout",
     "output_type": "stream",
     "text": [
      "<class 'pandas.core.frame.DataFrame'>\n",
      "Int64Index: 4000 entries, 723290 to 853842\n",
      "Data columns (total 9 columns):\n",
      " #   Column                 Non-Null Count  Dtype \n",
      "---  ------                 --------------  ----- \n",
      " 0   dept                   4000 non-null   object\n",
      " 1   level                  4000 non-null   object\n",
      " 2   workload               4000 non-null   object\n",
      " 3   employment_years       4000 non-null   int64 \n",
      " 4   last_year_promo        4000 non-null   object\n",
      " 5   last_year_violations   4000 non-null   object\n",
      " 6   supervisor_evaluation  4000 non-null   int64 \n",
      " 7   salary                 4000 non-null   int64 \n",
      " 8   quit                   4000 non-null   object\n",
      "dtypes: int64(3), object(6)\n",
      "memory usage: 312.5+ KB\n"
     ]
    },
    {
     "data": {
      "text/html": [
       "<div>\n",
       "<style scoped>\n",
       "    .dataframe tbody tr th:only-of-type {\n",
       "        vertical-align: middle;\n",
       "    }\n",
       "\n",
       "    .dataframe tbody tr th {\n",
       "        vertical-align: top;\n",
       "    }\n",
       "\n",
       "    .dataframe thead th {\n",
       "        text-align: right;\n",
       "    }\n",
       "</style>\n",
       "<table border=\"1\" class=\"dataframe\">\n",
       "  <thead>\n",
       "    <tr style=\"text-align: right;\">\n",
       "      <th></th>\n",
       "      <th>dept</th>\n",
       "      <th>level</th>\n",
       "      <th>workload</th>\n",
       "      <th>employment_years</th>\n",
       "      <th>last_year_promo</th>\n",
       "      <th>last_year_violations</th>\n",
       "      <th>supervisor_evaluation</th>\n",
       "      <th>salary</th>\n",
       "      <th>quit</th>\n",
       "    </tr>\n",
       "    <tr>\n",
       "      <th>id</th>\n",
       "      <th></th>\n",
       "      <th></th>\n",
       "      <th></th>\n",
       "      <th></th>\n",
       "      <th></th>\n",
       "      <th></th>\n",
       "      <th></th>\n",
       "      <th></th>\n",
       "      <th></th>\n",
       "    </tr>\n",
       "  </thead>\n",
       "  <tbody>\n",
       "    <tr>\n",
       "      <th>723290</th>\n",
       "      <td>sales</td>\n",
       "      <td>middle</td>\n",
       "      <td>high</td>\n",
       "      <td>2</td>\n",
       "      <td>no</td>\n",
       "      <td>no</td>\n",
       "      <td>4</td>\n",
       "      <td>54000</td>\n",
       "      <td>no</td>\n",
       "    </tr>\n",
       "    <tr>\n",
       "      <th>814010</th>\n",
       "      <td>sales</td>\n",
       "      <td>junior</td>\n",
       "      <td>medium</td>\n",
       "      <td>2</td>\n",
       "      <td>no</td>\n",
       "      <td>no</td>\n",
       "      <td>4</td>\n",
       "      <td>27600</td>\n",
       "      <td>no</td>\n",
       "    </tr>\n",
       "    <tr>\n",
       "      <th>155091</th>\n",
       "      <td>purchasing</td>\n",
       "      <td>middle</td>\n",
       "      <td>medium</td>\n",
       "      <td>5</td>\n",
       "      <td>no</td>\n",
       "      <td>no</td>\n",
       "      <td>1</td>\n",
       "      <td>37200</td>\n",
       "      <td>no</td>\n",
       "    </tr>\n",
       "    <tr>\n",
       "      <th>257132</th>\n",
       "      <td>sales</td>\n",
       "      <td>junior</td>\n",
       "      <td>medium</td>\n",
       "      <td>2</td>\n",
       "      <td>no</td>\n",
       "      <td>yes</td>\n",
       "      <td>3</td>\n",
       "      <td>24000</td>\n",
       "      <td>yes</td>\n",
       "    </tr>\n",
       "    <tr>\n",
       "      <th>910140</th>\n",
       "      <td>marketing</td>\n",
       "      <td>junior</td>\n",
       "      <td>medium</td>\n",
       "      <td>2</td>\n",
       "      <td>no</td>\n",
       "      <td>no</td>\n",
       "      <td>5</td>\n",
       "      <td>25200</td>\n",
       "      <td>no</td>\n",
       "    </tr>\n",
       "  </tbody>\n",
       "</table>\n",
       "</div>"
      ],
      "text/plain": [
       "              dept   level workload  employment_years last_year_promo  \\\n",
       "id                                                                      \n",
       "723290       sales  middle     high                 2              no   \n",
       "814010       sales  junior   medium                 2              no   \n",
       "155091  purchasing  middle   medium                 5              no   \n",
       "257132       sales  junior   medium                 2              no   \n",
       "910140   marketing  junior   medium                 2              no   \n",
       "\n",
       "       last_year_violations  supervisor_evaluation  salary quit  \n",
       "id                                                               \n",
       "723290                   no                      4   54000   no  \n",
       "814010                   no                      4   27600   no  \n",
       "155091                   no                      1   37200   no  \n",
       "257132                  yes                      3   24000  yes  \n",
       "910140                   no                      5   25200   no  "
      ]
     },
     "execution_count": 30,
     "metadata": {},
     "output_type": "execute_result"
    }
   ],
   "source": [
    "train_2 = pd.read_csv('/datasets/train_quit.csv').set_index('id')\n",
    "train_2.info()\n",
    "train_2.head()"
   ]
  },
  {
   "cell_type": "code",
   "execution_count": 31,
   "id": "ad02a0a2",
   "metadata": {},
   "outputs": [
    {
     "name": "stdout",
     "output_type": "stream",
     "text": [
      "<class 'pandas.core.frame.DataFrame'>\n",
      "Int64Index: 2000 entries, 999029 to 460332\n",
      "Data columns (total 1 columns):\n",
      " #   Column  Non-Null Count  Dtype \n",
      "---  ------  --------------  ----- \n",
      " 0   quit    2000 non-null   object\n",
      "dtypes: object(1)\n",
      "memory usage: 31.2+ KB\n"
     ]
    },
    {
     "data": {
      "text/html": [
       "<div>\n",
       "<style scoped>\n",
       "    .dataframe tbody tr th:only-of-type {\n",
       "        vertical-align: middle;\n",
       "    }\n",
       "\n",
       "    .dataframe tbody tr th {\n",
       "        vertical-align: top;\n",
       "    }\n",
       "\n",
       "    .dataframe thead th {\n",
       "        text-align: right;\n",
       "    }\n",
       "</style>\n",
       "<table border=\"1\" class=\"dataframe\">\n",
       "  <thead>\n",
       "    <tr style=\"text-align: right;\">\n",
       "      <th></th>\n",
       "      <th>quit</th>\n",
       "    </tr>\n",
       "    <tr>\n",
       "      <th>id</th>\n",
       "      <th></th>\n",
       "    </tr>\n",
       "  </thead>\n",
       "  <tbody>\n",
       "    <tr>\n",
       "      <th>999029</th>\n",
       "      <td>yes</td>\n",
       "    </tr>\n",
       "    <tr>\n",
       "      <th>372846</th>\n",
       "      <td>no</td>\n",
       "    </tr>\n",
       "    <tr>\n",
       "      <th>726767</th>\n",
       "      <td>no</td>\n",
       "    </tr>\n",
       "    <tr>\n",
       "      <th>490105</th>\n",
       "      <td>no</td>\n",
       "    </tr>\n",
       "    <tr>\n",
       "      <th>416898</th>\n",
       "      <td>yes</td>\n",
       "    </tr>\n",
       "  </tbody>\n",
       "</table>\n",
       "</div>"
      ],
      "text/plain": [
       "       quit\n",
       "id         \n",
       "999029  yes\n",
       "372846   no\n",
       "726767   no\n",
       "490105   no\n",
       "416898  yes"
      ]
     },
     "execution_count": 31,
     "metadata": {},
     "output_type": "execute_result"
    }
   ],
   "source": [
    "y_test_2 = pd.read_csv('/datasets/test_target_quit.csv').set_index('id')\n",
    "y_test_2.info()\n",
    "y_test_2.head()"
   ]
  },
  {
   "cell_type": "markdown",
   "id": "498b54fe",
   "metadata": {},
   "source": [
    "**Вывод**\n",
    "\n",
    "Данные не содержат пропусков, типы данных тоже не надо исправлять."
   ]
  },
  {
   "cell_type": "markdown",
   "id": "f9987ad8",
   "metadata": {},
   "source": [
    "# Шаг 2. Предобработка данных"
   ]
  },
  {
   "cell_type": "code",
   "execution_count": 32,
   "id": "f7c6f658",
   "metadata": {},
   "outputs": [
    {
     "data": {
      "text/plain": [
       "'dept'"
      ]
     },
     "metadata": {},
     "output_type": "display_data"
    },
    {
     "data": {
      "text/plain": [
       "sales         1438\n",
       "technology     928\n",
       "purchasing     588\n",
       "marketing      582\n",
       "hr             464\n",
       "Name: dept, dtype: int64"
      ]
     },
     "metadata": {},
     "output_type": "display_data"
    },
    {
     "data": {
      "text/plain": [
       "'level'"
      ]
     },
     "metadata": {},
     "output_type": "display_data"
    },
    {
     "data": {
      "text/plain": [
       "junior    1949\n",
       "middle    1694\n",
       "sinior     357\n",
       "Name: level, dtype: int64"
      ]
     },
     "metadata": {},
     "output_type": "display_data"
    },
    {
     "data": {
      "text/plain": [
       "'workload'"
      ]
     },
     "metadata": {},
     "output_type": "display_data"
    },
    {
     "data": {
      "text/plain": [
       "medium    2118\n",
       "low       1208\n",
       "high       674\n",
       "Name: workload, dtype: int64"
      ]
     },
     "metadata": {},
     "output_type": "display_data"
    },
    {
     "data": {
      "text/plain": [
       "'last_year_promo'"
      ]
     },
     "metadata": {},
     "output_type": "display_data"
    },
    {
     "data": {
      "text/plain": [
       "no     3887\n",
       "yes     113\n",
       "Name: last_year_promo, dtype: int64"
      ]
     },
     "metadata": {},
     "output_type": "display_data"
    },
    {
     "data": {
      "text/plain": [
       "'last_year_violations'"
      ]
     },
     "metadata": {},
     "output_type": "display_data"
    },
    {
     "data": {
      "text/plain": [
       "no     3455\n",
       "yes     545\n",
       "Name: last_year_violations, dtype: int64"
      ]
     },
     "metadata": {},
     "output_type": "display_data"
    },
    {
     "data": {
      "text/plain": [
       "'quit'"
      ]
     },
     "metadata": {},
     "output_type": "display_data"
    },
    {
     "data": {
      "text/plain": [
       "no     2872\n",
       "yes    1128\n",
       "Name: quit, dtype: int64"
      ]
     },
     "metadata": {},
     "output_type": "display_data"
    }
   ],
   "source": [
    "for i in train_2.select_dtypes(include='object').columns:\n",
    "    display(i,train_2[i].value_counts())\n",
    "#категориальные переменные не содержат каких-то ошибок внутри наименований"
   ]
  },
  {
   "cell_type": "code",
   "execution_count": 33,
   "id": "b322efba",
   "metadata": {},
   "outputs": [
    {
     "data": {
      "text/plain": [
       "no     1436\n",
       "yes     564\n",
       "Name: quit, dtype: int64"
      ]
     },
     "execution_count": 33,
     "metadata": {},
     "output_type": "execute_result"
    }
   ],
   "source": [
    "y_test_2['quit'].value_counts()"
   ]
  },
  {
   "cell_type": "code",
   "execution_count": 34,
   "id": "ebf4ee2c",
   "metadata": {},
   "outputs": [],
   "source": [
    "#для заполнения пропусков сделаю пайплайн\n",
    "# создаём списки с названиями признаков\n",
    "ohe_columns = ['dept', 'last_year_promo','last_year_violations']\n",
    "ord_columns = ['level','workload']\n",
    "num_columns = ['employment_years', 'supervisor_evaluation','salary']\n",
    "\n",
    "# создаём пайплайн для подготовки признаков из списка ohe_columns: заполнение пропусков и OHE-кодирование\n",
    "# SimpleImputer + OHE\n",
    "ohe_pipe = Pipeline(\n",
    "    [\n",
    "        (\n",
    "            'simpleImputer_ohe', \n",
    "            SimpleImputer(missing_values=np.nan, strategy='most_frequent')\n",
    "        ),\n",
    "        (\n",
    "            'ohe', \n",
    "            OneHotEncoder(drop='first', handle_unknown='error', sparse=False)\n",
    "        )\n",
    "    ]\n",
    ")\n",
    "\n",
    "# cоздаём пайплайн для подготовки признаков из списка ord_columns: заполнение пропусков и Ordinal-кодирование\n",
    "# SimpleImputer + OE\n",
    "ord_pipe = Pipeline(\n",
    "    [\n",
    "        (\n",
    "            'simpleImputer_before_ord', \n",
    "            SimpleImputer(missing_values=np.nan, strategy='most_frequent')\n",
    "        ),\n",
    "        (\n",
    "            'ord',\n",
    "            OrdinalEncoder(\n",
    "                categories=[\n",
    "                    ['junior', 'middle', 'sinior'],\n",
    "                    ['low', 'medium', 'high']\n",
    "                ], \n",
    "                handle_unknown='use_encoded_value',\n",
    "                unknown_value=np.nan\n",
    "            )\n",
    "        ),\n",
    "        (\n",
    "            'simpleImputer_after_ord', \n",
    "            SimpleImputer(missing_values=np.nan, strategy='most_frequent')\n",
    "        )\n",
    "    ]\n",
    ")\n",
    "\n",
    "# создайте общий пайплайн для подготовки данных\n",
    "data_preprocessor = ColumnTransformer(\n",
    "    [\n",
    "        ('ohe', ohe_pipe, ohe_columns),\n",
    "        ('ord', ord_pipe, ord_columns),\n",
    "        ('num', MinMaxScaler(), num_columns)    \n",
    "    ], \n",
    "    remainder =  'passthrough')"
   ]
  },
  {
   "cell_type": "markdown",
   "id": "98e2b9b0",
   "metadata": {},
   "source": [
    "# Шаг 3. Исследовательский анализ данных"
   ]
  },
  {
   "cell_type": "code",
   "execution_count": 35,
   "id": "157805e8",
   "metadata": {
    "scrolled": true
   },
   "outputs": [
    {
     "data": {
      "image/png": "[encoded data removed]",
      "text/plain": [
       "<Figure size 1080x1080 with 4 Axes>"
      ]
     },
     "metadata": {
      "needs_background": "light"
     },
     "output_type": "display_data"
    }
   ],
   "source": [
    "train_2.hist(figsize=(15,15));"
   ]
  },
  {
   "cell_type": "code",
   "execution_count": 36,
   "id": "5cfe6f57",
   "metadata": {},
   "outputs": [
    {
     "data": {
      "text/html": [
       "<div>\n",
       "<style scoped>\n",
       "    .dataframe tbody tr th:only-of-type {\n",
       "        vertical-align: middle;\n",
       "    }\n",
       "\n",
       "    .dataframe tbody tr th {\n",
       "        vertical-align: top;\n",
       "    }\n",
       "\n",
       "    .dataframe thead th {\n",
       "        text-align: right;\n",
       "    }\n",
       "</style>\n",
       "<table border=\"1\" class=\"dataframe\">\n",
       "  <thead>\n",
       "    <tr style=\"text-align: right;\">\n",
       "      <th></th>\n",
       "      <th>employment_years</th>\n",
       "      <th>supervisor_evaluation</th>\n",
       "      <th>salary</th>\n",
       "    </tr>\n",
       "  </thead>\n",
       "  <tbody>\n",
       "    <tr>\n",
       "      <th>count</th>\n",
       "      <td>4000.000000</td>\n",
       "      <td>4000.000000</td>\n",
       "      <td>4000.000000</td>\n",
       "    </tr>\n",
       "    <tr>\n",
       "      <th>mean</th>\n",
       "      <td>3.701500</td>\n",
       "      <td>3.474750</td>\n",
       "      <td>33805.800000</td>\n",
       "    </tr>\n",
       "    <tr>\n",
       "      <th>std</th>\n",
       "      <td>2.541852</td>\n",
       "      <td>1.004049</td>\n",
       "      <td>15152.415163</td>\n",
       "    </tr>\n",
       "    <tr>\n",
       "      <th>min</th>\n",
       "      <td>1.000000</td>\n",
       "      <td>1.000000</td>\n",
       "      <td>12000.000000</td>\n",
       "    </tr>\n",
       "    <tr>\n",
       "      <th>25%</th>\n",
       "      <td>2.000000</td>\n",
       "      <td>3.000000</td>\n",
       "      <td>22800.000000</td>\n",
       "    </tr>\n",
       "    <tr>\n",
       "      <th>50%</th>\n",
       "      <td>3.000000</td>\n",
       "      <td>4.000000</td>\n",
       "      <td>30000.000000</td>\n",
       "    </tr>\n",
       "    <tr>\n",
       "      <th>75%</th>\n",
       "      <td>6.000000</td>\n",
       "      <td>4.000000</td>\n",
       "      <td>43200.000000</td>\n",
       "    </tr>\n",
       "    <tr>\n",
       "      <th>max</th>\n",
       "      <td>10.000000</td>\n",
       "      <td>5.000000</td>\n",
       "      <td>96000.000000</td>\n",
       "    </tr>\n",
       "  </tbody>\n",
       "</table>\n",
       "</div>"
      ],
      "text/plain": [
       "       employment_years  supervisor_evaluation        salary\n",
       "count       4000.000000            4000.000000   4000.000000\n",
       "mean           3.701500               3.474750  33805.800000\n",
       "std            2.541852               1.004049  15152.415163\n",
       "min            1.000000               1.000000  12000.000000\n",
       "25%            2.000000               3.000000  22800.000000\n",
       "50%            3.000000               4.000000  30000.000000\n",
       "75%            6.000000               4.000000  43200.000000\n",
       "max           10.000000               5.000000  96000.000000"
      ]
     },
     "execution_count": 36,
     "metadata": {},
     "output_type": "execute_result"
    }
   ],
   "source": [
    "train_2.describe()"
   ]
  },
  {
   "cell_type": "code",
   "execution_count": 37,
   "id": "139fa8de",
   "metadata": {},
   "outputs": [
    {
     "data": {
      "text/html": [
       "<div>\n",
       "<style scoped>\n",
       "    .dataframe tbody tr th:only-of-type {\n",
       "        vertical-align: middle;\n",
       "    }\n",
       "\n",
       "    .dataframe tbody tr th {\n",
       "        vertical-align: top;\n",
       "    }\n",
       "\n",
       "    .dataframe thead tr th {\n",
       "        text-align: left;\n",
       "    }\n",
       "\n",
       "    .dataframe thead tr:last-of-type th {\n",
       "        text-align: right;\n",
       "    }\n",
       "</style>\n",
       "<table border=\"1\" class=\"dataframe\">\n",
       "  <thead>\n",
       "    <tr>\n",
       "      <th></th>\n",
       "      <th colspan=\"2\" halign=\"left\">level</th>\n",
       "      <th colspan=\"2\" halign=\"left\">salary</th>\n",
       "      <th>share_quit</th>\n",
       "    </tr>\n",
       "    <tr>\n",
       "      <th>quit</th>\n",
       "      <th>no</th>\n",
       "      <th>yes</th>\n",
       "      <th>no</th>\n",
       "      <th>yes</th>\n",
       "      <th></th>\n",
       "    </tr>\n",
       "    <tr>\n",
       "      <th>dept</th>\n",
       "      <th></th>\n",
       "      <th></th>\n",
       "      <th></th>\n",
       "      <th></th>\n",
       "      <th></th>\n",
       "    </tr>\n",
       "  </thead>\n",
       "  <tbody>\n",
       "    <tr>\n",
       "      <th>sales</th>\n",
       "      <td>1031</td>\n",
       "      <td>407</td>\n",
       "      <td>35278.370514</td>\n",
       "      <td>21832.923833</td>\n",
       "      <td>39.476237</td>\n",
       "    </tr>\n",
       "    <tr>\n",
       "      <th>technology</th>\n",
       "      <td>652</td>\n",
       "      <td>276</td>\n",
       "      <td>42003.680982</td>\n",
       "      <td>27686.956522</td>\n",
       "      <td>42.331288</td>\n",
       "    </tr>\n",
       "    <tr>\n",
       "      <th>purchasing</th>\n",
       "      <td>422</td>\n",
       "      <td>166</td>\n",
       "      <td>35840.758294</td>\n",
       "      <td>23378.313253</td>\n",
       "      <td>39.336493</td>\n",
       "    </tr>\n",
       "    <tr>\n",
       "      <th>marketing</th>\n",
       "      <td>419</td>\n",
       "      <td>163</td>\n",
       "      <td>39161.813842</td>\n",
       "      <td>24058.895706</td>\n",
       "      <td>38.902148</td>\n",
       "    </tr>\n",
       "    <tr>\n",
       "      <th>hr</th>\n",
       "      <td>348</td>\n",
       "      <td>116</td>\n",
       "      <td>37324.137931</td>\n",
       "      <td>22520.689655</td>\n",
       "      <td>33.333333</td>\n",
       "    </tr>\n",
       "  </tbody>\n",
       "</table>\n",
       "</div>"
      ],
      "text/plain": [
       "           level             salary               share_quit\n",
       "quit          no  yes            no           yes           \n",
       "dept                                                        \n",
       "sales       1031  407  35278.370514  21832.923833  39.476237\n",
       "technology   652  276  42003.680982  27686.956522  42.331288\n",
       "purchasing   422  166  35840.758294  23378.313253  39.336493\n",
       "marketing    419  163  39161.813842  24058.895706  38.902148\n",
       "hr           348  116  37324.137931  22520.689655  33.333333"
      ]
     },
     "execution_count": 37,
     "metadata": {},
     "output_type": "execute_result"
    }
   ],
   "source": [
    "train_2_pivot = train_2.pivot_table(index='dept',columns='quit',values=['level','salary'],\n",
    "                    aggfunc={'level':'count','salary':'mean'}).sort_values([('level','yes')],ascending=False)\n",
    "\n",
    "train_2_pivot['share_quit'] = train_2_pivot['level','yes'] / train_2_pivot['level','no'] * 100\n",
    "train_2_pivot"
   ]
  },
  {
   "cell_type": "code",
   "execution_count": 38,
   "id": "4e7e5881",
   "metadata": {},
   "outputs": [
    {
     "data": {
      "text/plain": [
       "quit  workload\n",
       "no    medium      1630\n",
       "      low          689\n",
       "      high         553\n",
       "yes   low          519\n",
       "      medium       488\n",
       "      high         121\n",
       "Name: workload, dtype: int64"
      ]
     },
     "execution_count": 38,
     "metadata": {},
     "output_type": "execute_result"
    }
   ],
   "source": [
    "train_2.groupby('quit')['workload'].value_counts()"
   ]
  },
  {
   "cell_type": "markdown",
   "id": "0dfc471f",
   "metadata": {},
   "source": [
    "Больше всего сотрудников уволилось из продаж. При этом средняя зарплата у них была в 1.5 раза ниже ныне работающих. <br>\n",
    "В-целом, у уволившихся зарплата в среднем ниже. При этом и загруженность была не на высоте."
   ]
  },
  {
   "cell_type": "code",
   "execution_count": 39,
   "id": "71bc4093",
   "metadata": {},
   "outputs": [
    {
     "data": {
      "image/png": "[encoded data removed]",
      "text/plain": [
       "<Figure size 432x288 with 1 Axes>"
      ]
     },
     "metadata": {
      "needs_background": "light"
     },
     "output_type": "display_data"
    }
   ],
   "source": [
    "merge = train_1.merge(train_2,how='inner')\n",
    "\n",
    "merge_quit = merge.query('quit == \"yes\"')\n",
    "merge_stay = merge.query('quit == \"no\"')\n",
    "\n",
    "plt.hist(merge_quit['job_satisfaction_rate'], edgecolor='black',color='red',bins=10,label='Уволился')\n",
    "plt.hist(merge_stay['job_satisfaction_rate'], edgecolor='black',color='green',bins=10,label='Остался',alpha=0.5)\n",
    " \n",
    "plt.legend(loc='upper right')\n",
    " \n",
    "plt.xlabel('Удовлетворенность работой')\n",
    " \n",
    "plt.show()"
   ]
  },
  {
   "cell_type": "markdown",
   "id": "ddf32dbf",
   "metadata": {},
   "source": [
    "Распределение удовлетворенностью своей работой показывает, что уволившиеся сотрудники были меньше довольны своей работой. <br>\n",
    "Причем, у уволившихся 2 пика - 0.3 и 0.5. У оставшихся пик в 0.7."
   ]
  },
  {
   "cell_type": "code",
   "execution_count": 40,
   "id": "64ad77b1",
   "metadata": {},
   "outputs": [
    {
     "data": {
      "image/png": "[encoded data removed]",
      "text/plain": [
       "<Figure size 1080x1080 with 2 Axes>"
      ]
     },
     "metadata": {
      "needs_background": "light"
     },
     "output_type": "display_data"
    }
   ],
   "source": [
    "#для корреляционного анализа использую тепловую карту коэффициентов кореляции ф\n",
    "interval_cols =['employment_years','supervisor_evaluation','salary','job_satisfaction_rate']\n",
    "\n",
    "# вычисление коэффициентов корреляции phi для датафрейма \n",
    "phik_overview = train_2.phik_matrix(interval_cols=interval_cols)\n",
    "\n",
    "# визуализация тепловой карты коэффициентов корреляции\n",
    "plot_correlation_matrix(\n",
    "    phik_overview.values,\n",
    "    x_labels=phik_overview.columns,\n",
    "    y_labels=phik_overview.index,\n",
    "    title=r\"correlation $\\phi_K$\",\n",
    "    fontsize_factor=1.5,\n",
    "    figsize=(15, 15)\n",
    ")"
   ]
  },
  {
   "cell_type": "markdown",
   "id": "1957f78e",
   "metadata": {},
   "source": [
    "**Вывод**\n",
    "\n",
    "Уволившиеся сотрудники получали в 1.5 раза меньше и не были удовлетворены своей работой.\n",
    "\n",
    "Согласно матрице корреляции, зарплата и проведенное в компании время влияет на целевой признак."
   ]
  },
  {
   "cell_type": "markdown",
   "id": "2c0f8dad",
   "metadata": {},
   "source": [
    "# Шаг 4. Добавление нового входного признака"
   ]
  },
  {
   "cell_type": "code",
   "execution_count": 41,
   "id": "573690bd",
   "metadata": {},
   "outputs": [
    {
     "data": {
      "text/html": [
       "<div>\n",
       "<style scoped>\n",
       "    .dataframe tbody tr th:only-of-type {\n",
       "        vertical-align: middle;\n",
       "    }\n",
       "\n",
       "    .dataframe tbody tr th {\n",
       "        vertical-align: top;\n",
       "    }\n",
       "\n",
       "    .dataframe thead th {\n",
       "        text-align: right;\n",
       "    }\n",
       "</style>\n",
       "<table border=\"1\" class=\"dataframe\">\n",
       "  <thead>\n",
       "    <tr style=\"text-align: right;\">\n",
       "      <th></th>\n",
       "      <th>dept</th>\n",
       "      <th>level</th>\n",
       "      <th>workload</th>\n",
       "      <th>employment_years</th>\n",
       "      <th>last_year_promo</th>\n",
       "      <th>last_year_violations</th>\n",
       "      <th>supervisor_evaluation</th>\n",
       "      <th>salary</th>\n",
       "      <th>job_satisfaction_rate</th>\n",
       "    </tr>\n",
       "    <tr>\n",
       "      <th>id</th>\n",
       "      <th></th>\n",
       "      <th></th>\n",
       "      <th></th>\n",
       "      <th></th>\n",
       "      <th></th>\n",
       "      <th></th>\n",
       "      <th></th>\n",
       "      <th></th>\n",
       "      <th></th>\n",
       "    </tr>\n",
       "  </thead>\n",
       "  <tbody>\n",
       "    <tr>\n",
       "      <th>100298</th>\n",
       "      <td>hr</td>\n",
       "      <td>junior</td>\n",
       "      <td>low</td>\n",
       "      <td>2</td>\n",
       "      <td>no</td>\n",
       "      <td>no</td>\n",
       "      <td>4</td>\n",
       "      <td>19200</td>\n",
       "      <td>0.837500</td>\n",
       "    </tr>\n",
       "    <tr>\n",
       "      <th>100480</th>\n",
       "      <td>marketing</td>\n",
       "      <td>junior</td>\n",
       "      <td>low</td>\n",
       "      <td>4</td>\n",
       "      <td>no</td>\n",
       "      <td>no</td>\n",
       "      <td>4</td>\n",
       "      <td>16800</td>\n",
       "      <td>0.852000</td>\n",
       "    </tr>\n",
       "    <tr>\n",
       "      <th>100503</th>\n",
       "      <td>purchasing</td>\n",
       "      <td>middle</td>\n",
       "      <td>high</td>\n",
       "      <td>5</td>\n",
       "      <td>no</td>\n",
       "      <td>no</td>\n",
       "      <td>4</td>\n",
       "      <td>55200</td>\n",
       "      <td>0.746667</td>\n",
       "    </tr>\n",
       "    <tr>\n",
       "      <th>100610</th>\n",
       "      <td>sales</td>\n",
       "      <td>middle</td>\n",
       "      <td>medium</td>\n",
       "      <td>5</td>\n",
       "      <td>no</td>\n",
       "      <td>no</td>\n",
       "      <td>4</td>\n",
       "      <td>43200</td>\n",
       "      <td>0.813333</td>\n",
       "    </tr>\n",
       "    <tr>\n",
       "      <th>100692</th>\n",
       "      <td>sales</td>\n",
       "      <td>middle</td>\n",
       "      <td>high</td>\n",
       "      <td>6</td>\n",
       "      <td>no</td>\n",
       "      <td>no</td>\n",
       "      <td>4</td>\n",
       "      <td>48000</td>\n",
       "      <td>0.693333</td>\n",
       "    </tr>\n",
       "    <tr>\n",
       "      <th>...</th>\n",
       "      <td>...</td>\n",
       "      <td>...</td>\n",
       "      <td>...</td>\n",
       "      <td>...</td>\n",
       "      <td>...</td>\n",
       "      <td>...</td>\n",
       "      <td>...</td>\n",
       "      <td>...</td>\n",
       "      <td>...</td>\n",
       "    </tr>\n",
       "    <tr>\n",
       "      <th>997290</th>\n",
       "      <td>sales</td>\n",
       "      <td>sinior</td>\n",
       "      <td>medium</td>\n",
       "      <td>7</td>\n",
       "      <td>no</td>\n",
       "      <td>no</td>\n",
       "      <td>4</td>\n",
       "      <td>58800</td>\n",
       "      <td>0.821250</td>\n",
       "    </tr>\n",
       "    <tr>\n",
       "      <th>998548</th>\n",
       "      <td>marketing</td>\n",
       "      <td>junior</td>\n",
       "      <td>medium</td>\n",
       "      <td>2</td>\n",
       "      <td>no</td>\n",
       "      <td>no</td>\n",
       "      <td>4</td>\n",
       "      <td>32400</td>\n",
       "      <td>0.793333</td>\n",
       "    </tr>\n",
       "    <tr>\n",
       "      <th>998762</th>\n",
       "      <td>technology</td>\n",
       "      <td>junior</td>\n",
       "      <td>low</td>\n",
       "      <td>3</td>\n",
       "      <td>no</td>\n",
       "      <td>no</td>\n",
       "      <td>3</td>\n",
       "      <td>22800</td>\n",
       "      <td>0.496667</td>\n",
       "    </tr>\n",
       "    <tr>\n",
       "      <th>998900</th>\n",
       "      <td>marketing</td>\n",
       "      <td>middle</td>\n",
       "      <td>medium</td>\n",
       "      <td>7</td>\n",
       "      <td>no</td>\n",
       "      <td>no</td>\n",
       "      <td>3</td>\n",
       "      <td>45600</td>\n",
       "      <td>0.464286</td>\n",
       "    </tr>\n",
       "    <tr>\n",
       "      <th>999029</th>\n",
       "      <td>technology</td>\n",
       "      <td>junior</td>\n",
       "      <td>medium</td>\n",
       "      <td>1</td>\n",
       "      <td>no</td>\n",
       "      <td>no</td>\n",
       "      <td>3</td>\n",
       "      <td>31200</td>\n",
       "      <td>0.312222</td>\n",
       "    </tr>\n",
       "  </tbody>\n",
       "</table>\n",
       "<p>2000 rows × 9 columns</p>\n",
       "</div>"
      ],
      "text/plain": [
       "              dept   level workload  employment_years last_year_promo  \\\n",
       "id                                                                      \n",
       "100298          hr  junior      low                 2              no   \n",
       "100480   marketing  junior      low                 4              no   \n",
       "100503  purchasing  middle     high                 5              no   \n",
       "100610       sales  middle   medium                 5              no   \n",
       "100692       sales  middle     high                 6              no   \n",
       "...            ...     ...      ...               ...             ...   \n",
       "997290       sales  sinior   medium                 7              no   \n",
       "998548   marketing  junior   medium                 2              no   \n",
       "998762  technology  junior      low                 3              no   \n",
       "998900   marketing  middle   medium                 7              no   \n",
       "999029  technology  junior   medium                 1              no   \n",
       "\n",
       "       last_year_violations  supervisor_evaluation  salary  \\\n",
       "id                                                           \n",
       "100298                   no                      4   19200   \n",
       "100480                   no                      4   16800   \n",
       "100503                   no                      4   55200   \n",
       "100610                   no                      4   43200   \n",
       "100692                   no                      4   48000   \n",
       "...                     ...                    ...     ...   \n",
       "997290                   no                      4   58800   \n",
       "998548                   no                      4   32400   \n",
       "998762                   no                      3   22800   \n",
       "998900                   no                      3   45600   \n",
       "999029                   no                      3   31200   \n",
       "\n",
       "        job_satisfaction_rate  \n",
       "id                             \n",
       "100298               0.837500  \n",
       "100480               0.852000  \n",
       "100503               0.746667  \n",
       "100610               0.813333  \n",
       "100692               0.693333  \n",
       "...                       ...  \n",
       "997290               0.821250  \n",
       "998548               0.793333  \n",
       "998762               0.496667  \n",
       "998900               0.464286  \n",
       "999029               0.312222  \n",
       "\n",
       "[2000 rows x 9 columns]"
      ]
     },
     "execution_count": 41,
     "metadata": {},
     "output_type": "execute_result"
    }
   ],
   "source": [
    "X_test_1['job_satisfaction_rate'] = y_test_pred.tolist()\n",
    "X_test_1"
   ]
  },
  {
   "cell_type": "markdown",
   "id": "48202ab7",
   "metadata": {},
   "source": [
    "# Шаг 5, 6. Подготовка данных и обучение модели"
   ]
  },
  {
   "cell_type": "code",
   "execution_count": 42,
   "id": "f284de84",
   "metadata": {
    "scrolled": true
   },
   "outputs": [
    {
     "name": "stdout",
     "output_type": "stream",
     "text": [
      "Лучшая модель и её параметры:\n",
      "\n",
      " Pipeline(steps=[('preprocessor',\n",
      "                 ColumnTransformer(remainder='passthrough',\n",
      "                                   transformers=[('ohe',\n",
      "                                                  Pipeline(steps=[('simpleImputer_ohe',\n",
      "                                                                   SimpleImputer(strategy='most_frequent')),\n",
      "                                                                  ('ohe',\n",
      "                                                                   OneHotEncoder(drop='first',\n",
      "                                                                                 sparse=False))]),\n",
      "                                                  ['dept', 'last_year_promo',\n",
      "                                                   'last_year_violations']),\n",
      "                                                 ('ord',\n",
      "                                                  Pipeline(steps=[('simpleImputer_before_ord',\n",
      "                                                                   SimpleImputer(strategy='...\n",
      "                                                                   OrdinalEncoder(categories=[['junior',\n",
      "                                                                                               'middle',\n",
      "                                                                                               'sinior'],\n",
      "                                                                                              ['low',\n",
      "                                                                                               'medium',\n",
      "                                                                                               'high']],\n",
      "                                                                                  handle_unknown='use_encoded_value',\n",
      "                                                                                  unknown_value=nan)),\n",
      "                                                                  ('simpleImputer_after_ord',\n",
      "                                                                   SimpleImputer(strategy='most_frequent'))]),\n",
      "                                                  ['level', 'workload']),\n",
      "                                                 ('num', MinMaxScaler(),\n",
      "                                                  ['employment_years',\n",
      "                                                   'supervisor_evaluation',\n",
      "                                                   'salary'])])),\n",
      "                ('models', KNeighborsClassifier(n_neighbors=9))])\n",
      "Метрика лучшей модели на тренировочной выборке: 0.9193195294834057\n"
     ]
    }
   ],
   "source": [
    "RANDOM_STATE = 42\n",
    "\n",
    "#для заполнения пропусков сделаю пайплайн\n",
    "# создаём списки с названиями признаков\n",
    "ohe_columns = ['dept', 'last_year_promo','last_year_violations']\n",
    "ord_columns = ['level','workload']\n",
    "num_columns = ['employment_years', 'supervisor_evaluation','salary']\n",
    "\n",
    "# создаём пайплайн для подготовки признаков из списка ohe_columns: заполнение пропусков и OHE-кодирование\n",
    "# SimpleImputer + OHE\n",
    "ohe_pipe = Pipeline(\n",
    "    [\n",
    "        (\n",
    "            'simpleImputer_ohe', \n",
    "            SimpleImputer(missing_values=np.nan, strategy='most_frequent')\n",
    "        ),\n",
    "        (\n",
    "            'ohe', \n",
    "            OneHotEncoder(drop='first', handle_unknown='error', sparse=False)\n",
    "        )\n",
    "    ]\n",
    ")\n",
    "\n",
    "# cоздаём пайплайн для подготовки признаков из списка ord_columns: заполнение пропусков и Ordinal-кодирование\n",
    "# SimpleImputer + OE\n",
    "ord_pipe = Pipeline(\n",
    "    [\n",
    "        (\n",
    "            'simpleImputer_before_ord', \n",
    "            SimpleImputer(missing_values=np.nan, strategy='most_frequent')\n",
    "        ),\n",
    "        (\n",
    "            'ord',\n",
    "            OrdinalEncoder(\n",
    "                categories=[\n",
    "                    ['junior', 'middle', 'sinior'],\n",
    "                    ['low', 'medium', 'high']\n",
    "                ], \n",
    "                handle_unknown='use_encoded_value',\n",
    "                unknown_value=np.nan\n",
    "            )\n",
    "        ),\n",
    "        (\n",
    "            'simpleImputer_after_ord', \n",
    "            SimpleImputer(missing_values=np.nan, strategy='most_frequent')\n",
    "        )\n",
    "    ]\n",
    ")\n",
    "\n",
    "# создайте общий пайплайн для подготовки данных\n",
    "data_preprocessor = ColumnTransformer(\n",
    "    [\n",
    "        ('ohe', ohe_pipe, ohe_columns),\n",
    "        ('ord', ord_pipe, ord_columns),\n",
    "        ('num', MinMaxScaler(), num_columns)    \n",
    "    ], \n",
    "    remainder =  'passthrough')\n",
    "\n",
    "# создаём итоговый пайплайн: подготовка данных и модель\n",
    "pipe_final = Pipeline([\n",
    "    ('preprocessor', data_preprocessor),\n",
    "    ('models', DecisionTreeClassifier(random_state=RANDOM_STATE))\n",
    "])\n",
    "\n",
    "param_grid = [\n",
    "    # словарь для модели DecisionTreeClassifier()\n",
    "    {\n",
    "        'models': [DecisionTreeClassifier(random_state=RANDOM_STATE)],\n",
    "        'models__max_depth': range(2, 5),\n",
    "        'models__max_features': range(2, 4),\n",
    "        'preprocessor__num': [StandardScaler(), MinMaxScaler(), 'passthrough']  \n",
    "    },\n",
    "    # словарь для модели KNeighborsClassifier() \n",
    "    {\n",
    "        'models': [KNeighborsClassifier()],\n",
    "        'models__n_neighbors': range(2, 10),\n",
    "        'preprocessor__num': [StandardScaler(), MinMaxScaler(), 'passthrough']   \n",
    "    },\n",
    "    \n",
    "    # словарь для модели LogisticRegression() \n",
    "    {\n",
    "        'models': [LogisticRegression(random_state=RANDOM_STATE)],\n",
    "        'preprocessor__num': [StandardScaler(), MinMaxScaler(), 'passthrough'] \n",
    "    }]\n",
    "\n",
    "randomized_search = RandomizedSearchCV(\n",
    "    pipe_final, \n",
    "    param_grid, \n",
    "    cv=5,\n",
    "    scoring='roc_auc',\n",
    "    n_jobs=-1\n",
    ")\n",
    "\n",
    "X_train_2 = train_2.drop('quit',axis=1)\n",
    "y_train_2 = train_2['quit']\n",
    "encoder = LabelEncoder()\n",
    "#y_train_1 = encoder.fit_transform(y_train_1)\n",
    "\n",
    "randomized_search.fit(X_train_2, y_train_2)\n",
    "\n",
    "print('Лучшая модель и её параметры:\\n\\n', randomized_search.best_estimator_)\n",
    "print ('Метрика лучшей модели на тренировочной выборке:', randomized_search.best_score_)"
   ]
  },
  {
   "cell_type": "code",
   "execution_count": 43,
   "id": "3b46b742",
   "metadata": {
    "scrolled": true
   },
   "outputs": [
    {
     "data": {
      "text/html": [
       "<div>\n",
       "<style scoped>\n",
       "    .dataframe tbody tr th:only-of-type {\n",
       "        vertical-align: middle;\n",
       "    }\n",
       "\n",
       "    .dataframe tbody tr th {\n",
       "        vertical-align: top;\n",
       "    }\n",
       "\n",
       "    .dataframe thead th {\n",
       "        text-align: right;\n",
       "    }\n",
       "</style>\n",
       "<table border=\"1\" class=\"dataframe\">\n",
       "  <thead>\n",
       "    <tr style=\"text-align: right;\">\n",
       "      <th></th>\n",
       "      <th>dept</th>\n",
       "      <th>level</th>\n",
       "      <th>workload</th>\n",
       "      <th>employment_years</th>\n",
       "      <th>last_year_promo</th>\n",
       "      <th>last_year_violations</th>\n",
       "      <th>supervisor_evaluation</th>\n",
       "      <th>salary</th>\n",
       "      <th>job_satisfaction_rate</th>\n",
       "    </tr>\n",
       "    <tr>\n",
       "      <th>id</th>\n",
       "      <th></th>\n",
       "      <th></th>\n",
       "      <th></th>\n",
       "      <th></th>\n",
       "      <th></th>\n",
       "      <th></th>\n",
       "      <th></th>\n",
       "      <th></th>\n",
       "      <th></th>\n",
       "    </tr>\n",
       "  </thead>\n",
       "  <tbody>\n",
       "    <tr>\n",
       "      <th>100298</th>\n",
       "      <td>hr</td>\n",
       "      <td>junior</td>\n",
       "      <td>low</td>\n",
       "      <td>2</td>\n",
       "      <td>no</td>\n",
       "      <td>no</td>\n",
       "      <td>4</td>\n",
       "      <td>19200</td>\n",
       "      <td>0.837500</td>\n",
       "    </tr>\n",
       "    <tr>\n",
       "      <th>100480</th>\n",
       "      <td>marketing</td>\n",
       "      <td>junior</td>\n",
       "      <td>low</td>\n",
       "      <td>4</td>\n",
       "      <td>no</td>\n",
       "      <td>no</td>\n",
       "      <td>4</td>\n",
       "      <td>16800</td>\n",
       "      <td>0.852000</td>\n",
       "    </tr>\n",
       "    <tr>\n",
       "      <th>100503</th>\n",
       "      <td>purchasing</td>\n",
       "      <td>middle</td>\n",
       "      <td>high</td>\n",
       "      <td>5</td>\n",
       "      <td>no</td>\n",
       "      <td>no</td>\n",
       "      <td>4</td>\n",
       "      <td>55200</td>\n",
       "      <td>0.746667</td>\n",
       "    </tr>\n",
       "    <tr>\n",
       "      <th>100610</th>\n",
       "      <td>sales</td>\n",
       "      <td>middle</td>\n",
       "      <td>medium</td>\n",
       "      <td>5</td>\n",
       "      <td>no</td>\n",
       "      <td>no</td>\n",
       "      <td>4</td>\n",
       "      <td>43200</td>\n",
       "      <td>0.813333</td>\n",
       "    </tr>\n",
       "    <tr>\n",
       "      <th>100692</th>\n",
       "      <td>sales</td>\n",
       "      <td>middle</td>\n",
       "      <td>high</td>\n",
       "      <td>6</td>\n",
       "      <td>no</td>\n",
       "      <td>no</td>\n",
       "      <td>4</td>\n",
       "      <td>48000</td>\n",
       "      <td>0.693333</td>\n",
       "    </tr>\n",
       "  </tbody>\n",
       "</table>\n",
       "</div>"
      ],
      "text/plain": [
       "              dept   level workload  employment_years last_year_promo  \\\n",
       "id                                                                      \n",
       "100298          hr  junior      low                 2              no   \n",
       "100480   marketing  junior      low                 4              no   \n",
       "100503  purchasing  middle     high                 5              no   \n",
       "100610       sales  middle   medium                 5              no   \n",
       "100692       sales  middle     high                 6              no   \n",
       "\n",
       "       last_year_violations  supervisor_evaluation  salary  \\\n",
       "id                                                           \n",
       "100298                   no                      4   19200   \n",
       "100480                   no                      4   16800   \n",
       "100503                   no                      4   55200   \n",
       "100610                   no                      4   43200   \n",
       "100692                   no                      4   48000   \n",
       "\n",
       "        job_satisfaction_rate  \n",
       "id                             \n",
       "100298               0.837500  \n",
       "100480               0.852000  \n",
       "100503               0.746667  \n",
       "100610               0.813333  \n",
       "100692               0.693333  "
      ]
     },
     "execution_count": 43,
     "metadata": {},
     "output_type": "execute_result"
    }
   ],
   "source": [
    "X_test_1.head()"
   ]
  },
  {
   "cell_type": "code",
   "execution_count": 44,
   "id": "c4be4d6d",
   "metadata": {},
   "outputs": [
    {
     "data": {
      "text/html": [
       "<div>\n",
       "<style scoped>\n",
       "    .dataframe tbody tr th:only-of-type {\n",
       "        vertical-align: middle;\n",
       "    }\n",
       "\n",
       "    .dataframe tbody tr th {\n",
       "        vertical-align: top;\n",
       "    }\n",
       "\n",
       "    .dataframe thead th {\n",
       "        text-align: right;\n",
       "    }\n",
       "</style>\n",
       "<table border=\"1\" class=\"dataframe\">\n",
       "  <thead>\n",
       "    <tr style=\"text-align: right;\">\n",
       "      <th></th>\n",
       "      <th>quit</th>\n",
       "    </tr>\n",
       "    <tr>\n",
       "      <th>id</th>\n",
       "      <th></th>\n",
       "    </tr>\n",
       "  </thead>\n",
       "  <tbody>\n",
       "    <tr>\n",
       "      <th>100298</th>\n",
       "      <td>no</td>\n",
       "    </tr>\n",
       "    <tr>\n",
       "      <th>100480</th>\n",
       "      <td>no</td>\n",
       "    </tr>\n",
       "    <tr>\n",
       "      <th>100503</th>\n",
       "      <td>no</td>\n",
       "    </tr>\n",
       "    <tr>\n",
       "      <th>100610</th>\n",
       "      <td>no</td>\n",
       "    </tr>\n",
       "    <tr>\n",
       "      <th>100692</th>\n",
       "      <td>no</td>\n",
       "    </tr>\n",
       "  </tbody>\n",
       "</table>\n",
       "</div>"
      ],
      "text/plain": [
       "       quit\n",
       "id         \n",
       "100298   no\n",
       "100480   no\n",
       "100503   no\n",
       "100610   no\n",
       "100692   no"
      ]
     },
     "execution_count": 44,
     "metadata": {},
     "output_type": "execute_result"
    }
   ],
   "source": [
    "y_test_2 = y_test_2.reset_index('id')\n",
    "y_test_2 = y_test_2.sort_values(by='id')\n",
    "y_test_2 = y_test_2.set_index('id')\n",
    "\n",
    "y_test_2.head()"
   ]
  },
  {
   "cell_type": "code",
   "execution_count": 45,
   "id": "955071eb",
   "metadata": {},
   "outputs": [
    {
     "name": "stdout",
     "output_type": "stream",
     "text": [
      "Метрика ROC-AUC на тестовой выборке: 0.9111721883087378\n"
     ]
    }
   ],
   "source": [
    "# проверю работу модели на тестовой выборке\n",
    "# рассчитаю прогноз на тестовых данных\n",
    "y_test_pred_2 = randomized_search.predict_proba(X_test_1.drop('job_satisfaction_rate',axis=1))[:,1]\n",
    "encoder.fit(y_train_2)\n",
    "y_true_2 = encoder.transform(y_test_2['quit'])\n",
    "print(f'Метрика ROC-AUC на тестовой выборке: {roc_auc_score(y_true_2, y_test_pred_2)}')"
   ]
  },
  {
   "cell_type": "markdown",
   "id": "2ba2db6a",
   "metadata": {},
   "source": [
    "# Шаг 7. Выводы"
   ]
  },
  {
   "cell_type": "markdown",
   "id": "89e08c61",
   "metadata": {},
   "source": [
    "Лучшая модель согласно случайному подбору оказалась Метод k-ближайших соседей. Метрика на тренировочной выборке 0.92.\n",
    "\n",
    "На тестовой немного хуже - 0.91."
   ]
  },
  {
   "cell_type": "markdown",
   "id": "9232e5a3",
   "metadata": {},
   "source": [
    "# Общий вывод"
   ]
  },
  {
   "cell_type": "markdown",
   "id": "323667fe",
   "metadata": {},
   "source": [
    "На показатель удовлетворенности работой больше всего влияют показатели оценки руководителя, проступков за прошлый год и количество проведенных в компании лет.\n",
    "\n",
    "Для предсказания уровня удовлетворенности работой подходит модель дерева решений. \n",
    "\n",
    "Уволившиеся сотрудники получали в 1.5 раза меньше и не были удовлетворены своей работой.\n",
    "\n",
    "Доля уволившихся примерно одинаковая - 30-40%.\n",
    "\n",
    "Их увольнение больше всего коррелирует с показателем зарплаты и проведенного в компании времени.\n",
    "\n",
    "Для предсказания увольнения лучше всего себя показала модель k-ближайших соседей.\n",
    "\n",
    "**Рекомендации для бизнеса**\n",
    "\n",
    "- Доля уволившихся сотрудников достаточно высокая - о 30% до 40%. Компании стоит обратить внимание на этот показатель.\n",
    "- Можно обратить внимание на размер оплаты труда - у уволившихся зарплата была в 1.5 раза ниже ныне работающих.\n",
    "- Так же можно поговорить с недоволльными работниками и предложить им новые проекты/функции. Уволившиеся сотрудники в основном имели низкую загрузку.\n",
    "- Так же можно предложить обычные для таких случаев мероприятия - предложение новых нематериальных бонусов сотрудникам. Например обучение или скидки у партнеров. Это как раз может компенсировать две проблемы - оплаты труда и загрузки."
   ]
  }
 ],
 "metadata": {
  "ExecuteTimeLog": [
   {
    "duration": 377,
    "start_time": "2024-02-20T13:32:00.605Z"
   },
   {
    "duration": 107,
    "start_time": "2024-02-20T13:32:59.983Z"
   },
   {
    "duration": 57,
    "start_time": "2024-02-20T13:34:01.108Z"
   },
   {
    "duration": 12,
    "start_time": "2024-02-20T13:34:14.124Z"
   },
   {
    "duration": 120,
    "start_time": "2024-02-20T13:34:19.434Z"
   },
   {
    "duration": 49,
    "start_time": "2024-02-20T13:34:29.545Z"
   },
   {
    "duration": 94,
    "start_time": "2024-02-20T13:36:06.446Z"
   },
   {
    "duration": 37,
    "start_time": "2024-02-20T13:36:15.049Z"
   },
   {
    "duration": 82,
    "start_time": "2024-02-20T13:36:59.883Z"
   },
   {
    "duration": 11,
    "start_time": "2024-02-20T16:37:25.331Z"
   },
   {
    "duration": 8,
    "start_time": "2024-02-20T16:38:43.749Z"
   },
   {
    "duration": 12,
    "start_time": "2024-02-20T16:39:08.965Z"
   },
   {
    "duration": 21,
    "start_time": "2024-02-20T16:39:27.363Z"
   },
   {
    "duration": 27,
    "start_time": "2024-02-20T16:39:54.954Z"
   },
   {
    "duration": 7,
    "start_time": "2024-02-20T16:41:58.142Z"
   },
   {
    "duration": 14,
    "start_time": "2024-02-20T16:42:15.398Z"
   },
   {
    "duration": 14,
    "start_time": "2024-02-20T16:43:16.144Z"
   },
   {
    "duration": 7,
    "start_time": "2024-02-20T16:44:59.418Z"
   },
   {
    "duration": 11,
    "start_time": "2024-02-20T16:45:14.607Z"
   },
   {
    "duration": 6,
    "start_time": "2024-02-20T16:45:19.673Z"
   },
   {
    "duration": 38,
    "start_time": "2024-02-20T16:46:00.868Z"
   },
   {
    "duration": 7,
    "start_time": "2024-02-20T16:46:28.645Z"
   },
   {
    "duration": 14,
    "start_time": "2024-02-20T16:46:33.733Z"
   },
   {
    "duration": 20,
    "start_time": "2024-02-20T16:47:25.111Z"
   },
   {
    "duration": 63,
    "start_time": "2024-02-20T16:49:19.408Z"
   },
   {
    "duration": 10,
    "start_time": "2024-02-20T16:49:46.257Z"
   },
   {
    "duration": 8,
    "start_time": "2024-02-20T16:49:50.537Z"
   },
   {
    "duration": 7,
    "start_time": "2024-02-20T16:50:09.411Z"
   },
   {
    "duration": 10,
    "start_time": "2024-02-20T16:50:23.630Z"
   },
   {
    "duration": 19,
    "start_time": "2024-02-20T16:51:05.709Z"
   },
   {
    "duration": 8,
    "start_time": "2024-02-20T16:52:07.387Z"
   },
   {
    "duration": 10,
    "start_time": "2024-02-20T16:52:27.205Z"
   },
   {
    "duration": 8,
    "start_time": "2024-02-20T16:52:42.179Z"
   },
   {
    "duration": 12,
    "start_time": "2024-02-20T16:53:08.525Z"
   },
   {
    "duration": 21,
    "start_time": "2024-02-20T16:53:32.168Z"
   },
   {
    "duration": 6,
    "start_time": "2024-02-20T16:53:57.809Z"
   },
   {
    "duration": 6,
    "start_time": "2024-02-20T16:55:04.694Z"
   },
   {
    "duration": 5,
    "start_time": "2024-02-20T16:55:18.818Z"
   },
   {
    "duration": 5,
    "start_time": "2024-02-20T16:55:53.810Z"
   },
   {
    "duration": 398,
    "start_time": "2024-02-21T13:27:48.339Z"
   },
   {
    "duration": 37,
    "start_time": "2024-02-21T13:27:48.739Z"
   },
   {
    "duration": 22,
    "start_time": "2024-02-21T13:27:48.777Z"
   },
   {
    "duration": 43,
    "start_time": "2024-02-21T13:27:48.800Z"
   },
   {
    "duration": 22,
    "start_time": "2024-02-21T13:27:48.845Z"
   },
   {
    "duration": 14,
    "start_time": "2024-02-21T13:27:48.868Z"
   },
   {
    "duration": 10,
    "start_time": "2024-02-21T13:27:48.884Z"
   },
   {
    "duration": 30,
    "start_time": "2024-02-21T13:27:48.895Z"
   },
   {
    "duration": 22,
    "start_time": "2024-02-21T13:27:48.926Z"
   },
   {
    "duration": 37,
    "start_time": "2024-02-21T13:27:48.949Z"
   },
   {
    "duration": 9,
    "start_time": "2024-02-21T13:27:48.987Z"
   },
   {
    "duration": 17,
    "start_time": "2024-02-21T13:27:48.997Z"
   },
   {
    "duration": 34,
    "start_time": "2024-02-21T13:27:49.015Z"
   },
   {
    "duration": 15,
    "start_time": "2024-02-21T13:27:49.051Z"
   },
   {
    "duration": 20,
    "start_time": "2024-02-21T13:27:49.067Z"
   },
   {
    "duration": 28,
    "start_time": "2024-02-21T13:27:49.088Z"
   },
   {
    "duration": 14,
    "start_time": "2024-02-21T13:27:49.117Z"
   },
   {
    "duration": 685,
    "start_time": "2024-02-21T13:28:52.314Z"
   },
   {
    "duration": 36,
    "start_time": "2024-02-21T13:31:19.909Z"
   },
   {
    "duration": 30,
    "start_time": "2024-02-21T13:31:29.259Z"
   },
   {
    "duration": 37,
    "start_time": "2024-02-21T13:31:32.956Z"
   },
   {
    "duration": 69,
    "start_time": "2024-02-21T13:43:02.415Z"
   },
   {
    "duration": 113,
    "start_time": "2024-02-21T13:43:10.501Z"
   },
   {
    "duration": 9,
    "start_time": "2024-02-21T13:43:29.507Z"
   },
   {
    "duration": 4,
    "start_time": "2024-02-21T13:44:03.619Z"
   },
   {
    "duration": 5,
    "start_time": "2024-02-21T13:44:07.849Z"
   },
   {
    "duration": 15,
    "start_time": "2024-02-21T13:47:12.080Z"
   },
   {
    "duration": 8,
    "start_time": "2024-02-21T13:47:27.806Z"
   },
   {
    "duration": 6,
    "start_time": "2024-02-21T13:47:35.962Z"
   },
   {
    "duration": 10,
    "start_time": "2024-02-21T13:47:47.073Z"
   },
   {
    "duration": 8,
    "start_time": "2024-02-21T13:47:52.040Z"
   },
   {
    "duration": 701,
    "start_time": "2024-02-21T13:51:43.704Z"
   },
   {
    "duration": 301,
    "start_time": "2024-02-21T13:51:47.653Z"
   },
   {
    "duration": 589,
    "start_time": "2024-02-21T13:52:07.782Z"
   },
   {
    "duration": 445,
    "start_time": "2024-02-21T13:53:06.206Z"
   },
   {
    "duration": 13,
    "start_time": "2024-02-21T13:53:23.324Z"
   },
   {
    "duration": 260,
    "start_time": "2024-02-21T13:53:31.340Z"
   },
   {
    "duration": 374,
    "start_time": "2024-02-21T13:53:43.822Z"
   },
   {
    "duration": 166,
    "start_time": "2024-02-21T13:58:01.288Z"
   },
   {
    "duration": 226,
    "start_time": "2024-02-21T13:58:11.482Z"
   },
   {
    "duration": 37,
    "start_time": "2024-02-21T14:02:04.608Z"
   },
   {
    "duration": 34,
    "start_time": "2024-02-21T14:02:53.379Z"
   },
   {
    "duration": 33,
    "start_time": "2024-02-21T14:03:06.823Z"
   },
   {
    "duration": 42,
    "start_time": "2024-02-21T14:03:16.435Z"
   },
   {
    "duration": 15,
    "start_time": "2024-02-21T14:04:05.163Z"
   },
   {
    "duration": 38,
    "start_time": "2024-02-21T14:04:33.371Z"
   },
   {
    "duration": 23,
    "start_time": "2024-02-21T14:04:36.479Z"
   },
   {
    "duration": 11,
    "start_time": "2024-02-21T14:04:55.746Z"
   },
   {
    "duration": 10,
    "start_time": "2024-02-21T14:05:06.640Z"
   },
   {
    "duration": 18,
    "start_time": "2024-02-21T14:05:12.533Z"
   },
   {
    "duration": 7,
    "start_time": "2024-02-21T14:05:18.816Z"
   },
   {
    "duration": 19,
    "start_time": "2024-02-21T14:05:59.547Z"
   },
   {
    "duration": 8,
    "start_time": "2024-02-21T14:06:14.166Z"
   },
   {
    "duration": 8,
    "start_time": "2024-02-21T14:06:21.168Z"
   },
   {
    "duration": 15,
    "start_time": "2024-02-21T14:06:25.250Z"
   },
   {
    "duration": 7,
    "start_time": "2024-02-21T14:06:30.364Z"
   },
   {
    "duration": 6,
    "start_time": "2024-02-21T14:06:43.950Z"
   },
   {
    "duration": 5,
    "start_time": "2024-02-21T14:06:49.281Z"
   },
   {
    "duration": 449,
    "start_time": "2024-02-21T14:07:08.528Z"
   },
   {
    "duration": 370,
    "start_time": "2024-02-21T14:07:22.383Z"
   },
   {
    "duration": 148,
    "start_time": "2024-02-21T14:07:31.125Z"
   },
   {
    "duration": 11,
    "start_time": "2024-02-21T14:11:11.979Z"
   },
   {
    "duration": 3,
    "start_time": "2024-02-21T14:11:46.919Z"
   },
   {
    "duration": 418,
    "start_time": "2024-02-21T14:11:50.535Z"
   },
   {
    "duration": 486,
    "start_time": "2024-02-21T14:12:06.388Z"
   },
   {
    "duration": 450,
    "start_time": "2024-02-21T14:12:20.945Z"
   },
   {
    "duration": 490,
    "start_time": "2024-02-21T14:12:28.346Z"
   },
   {
    "duration": 407,
    "start_time": "2024-02-21T14:12:42.442Z"
   },
   {
    "duration": 450,
    "start_time": "2024-02-21T14:12:46.638Z"
   },
   {
    "duration": 406,
    "start_time": "2024-02-21T14:12:51.382Z"
   },
   {
    "duration": 501,
    "start_time": "2024-02-21T14:14:23.878Z"
   },
   {
    "duration": 3009,
    "start_time": "2024-02-21T14:18:23.334Z"
   },
   {
    "duration": 15,
    "start_time": "2024-02-21T14:20:22.899Z"
   },
   {
    "duration": 2319,
    "start_time": "2024-02-21T14:21:01.757Z"
   },
   {
    "duration": 1258,
    "start_time": "2024-02-21T14:21:07.734Z"
   },
   {
    "duration": 16,
    "start_time": "2024-02-21T14:52:14.712Z"
   },
   {
    "duration": 10,
    "start_time": "2024-02-21T14:52:40.940Z"
   },
   {
    "duration": 11,
    "start_time": "2024-02-21T14:52:53.129Z"
   },
   {
    "duration": 2196,
    "start_time": "2024-02-21T14:53:18.016Z"
   },
   {
    "duration": 2214,
    "start_time": "2024-02-21T14:53:30.076Z"
   },
   {
    "duration": 4,
    "start_time": "2024-02-21T14:53:32.292Z"
   },
   {
    "duration": 16,
    "start_time": "2024-02-21T14:53:36.243Z"
   },
   {
    "duration": 4,
    "start_time": "2024-02-21T14:53:59.437Z"
   },
   {
    "duration": 15,
    "start_time": "2024-02-21T14:54:02.582Z"
   },
   {
    "duration": 4,
    "start_time": "2024-02-21T14:54:24.350Z"
   },
   {
    "duration": 4,
    "start_time": "2024-02-21T14:55:14.553Z"
   },
   {
    "duration": 2,
    "start_time": "2024-02-21T14:57:33.389Z"
   },
   {
    "duration": 3,
    "start_time": "2024-02-21T14:59:16.092Z"
   },
   {
    "duration": 5,
    "start_time": "2024-02-21T15:01:49.988Z"
   },
   {
    "duration": 8988,
    "start_time": "2024-02-21T15:02:13.998Z"
   },
   {
    "duration": 5,
    "start_time": "2024-02-21T15:03:28.863Z"
   },
   {
    "duration": 8758,
    "start_time": "2024-02-21T15:03:34.298Z"
   },
   {
    "duration": 10,
    "start_time": "2024-02-21T15:04:53.426Z"
   },
   {
    "duration": 9,
    "start_time": "2024-02-21T15:13:05.519Z"
   },
   {
    "duration": 4,
    "start_time": "2024-02-21T15:13:13.878Z"
   },
   {
    "duration": 387,
    "start_time": "2024-02-21T15:13:28.660Z"
   },
   {
    "duration": 5,
    "start_time": "2024-02-21T15:13:59.489Z"
   },
   {
    "duration": 408,
    "start_time": "2024-02-21T15:14:03.437Z"
   },
   {
    "duration": 6,
    "start_time": "2024-02-21T15:17:58.645Z"
   },
   {
    "duration": 405,
    "start_time": "2024-02-21T15:18:02.442Z"
   },
   {
    "duration": 5,
    "start_time": "2024-02-21T15:18:28.650Z"
   },
   {
    "duration": 4,
    "start_time": "2024-02-21T15:18:37.168Z"
   },
   {
    "duration": 992,
    "start_time": "2024-02-21T15:18:39.985Z"
   },
   {
    "duration": 11,
    "start_time": "2024-02-21T15:22:17.652Z"
   },
   {
    "duration": 4,
    "start_time": "2024-02-21T15:22:34.456Z"
   },
   {
    "duration": 3,
    "start_time": "2024-02-21T15:22:40.157Z"
   },
   {
    "duration": 4,
    "start_time": "2024-02-21T15:22:52.860Z"
   },
   {
    "duration": 9,
    "start_time": "2024-02-21T15:22:57.408Z"
   },
   {
    "duration": 980,
    "start_time": "2024-02-21T15:23:20.200Z"
   },
   {
    "duration": 11,
    "start_time": "2024-02-21T15:24:37.265Z"
   },
   {
    "duration": 4,
    "start_time": "2024-02-21T15:24:55.389Z"
   },
   {
    "duration": 9,
    "start_time": "2024-02-21T15:24:57.340Z"
   },
   {
    "duration": 2,
    "start_time": "2024-02-21T15:25:13.724Z"
   },
   {
    "duration": 958,
    "start_time": "2024-02-21T15:25:15.056Z"
   },
   {
    "duration": 3,
    "start_time": "2024-02-21T15:28:09.243Z"
   },
   {
    "duration": 5,
    "start_time": "2024-02-21T15:29:10.424Z"
   },
   {
    "duration": 1686,
    "start_time": "2024-02-21T15:29:16.000Z"
   },
   {
    "duration": 4,
    "start_time": "2024-02-21T15:36:54.162Z"
   },
   {
    "duration": 71,
    "start_time": "2024-02-21T15:37:11.823Z"
   },
   {
    "duration": 9,
    "start_time": "2024-02-21T15:37:18.878Z"
   },
   {
    "duration": 4,
    "start_time": "2024-02-21T15:37:39.773Z"
   },
   {
    "duration": 4,
    "start_time": "2024-02-21T15:37:44.492Z"
   },
   {
    "duration": 956,
    "start_time": "2024-02-21T15:37:50.981Z"
   },
   {
    "duration": 73,
    "start_time": "2024-02-21T15:38:32.338Z"
   },
   {
    "duration": 10,
    "start_time": "2024-02-21T15:38:48.041Z"
   },
   {
    "duration": 4,
    "start_time": "2024-02-21T15:39:06.926Z"
   },
   {
    "duration": 9,
    "start_time": "2024-02-21T15:39:09.949Z"
   },
   {
    "duration": 9,
    "start_time": "2024-02-21T15:39:27.419Z"
   },
   {
    "duration": 12,
    "start_time": "2024-02-21T15:39:34.785Z"
   },
   {
    "duration": 1057,
    "start_time": "2024-02-21T15:39:44.749Z"
   },
   {
    "duration": 17,
    "start_time": "2024-02-21T15:41:52.634Z"
   },
   {
    "duration": 6,
    "start_time": "2024-02-21T15:41:56.346Z"
   },
   {
    "duration": 8,
    "start_time": "2024-02-21T15:44:08.069Z"
   },
   {
    "duration": 10,
    "start_time": "2024-02-21T15:44:15.734Z"
   },
   {
    "duration": 25,
    "start_time": "2024-02-21T15:44:26.499Z"
   },
   {
    "duration": 24,
    "start_time": "2024-02-21T15:44:37.318Z"
   },
   {
    "duration": 24,
    "start_time": "2024-02-21T15:45:38.436Z"
   },
   {
    "duration": 5,
    "start_time": "2024-02-21T16:02:18.359Z"
   },
   {
    "duration": 5,
    "start_time": "2024-02-21T16:02:24.726Z"
   },
   {
    "duration": 404,
    "start_time": "2024-02-21T16:02:28.272Z"
   },
   {
    "duration": 26,
    "start_time": "2024-02-21T16:02:36.166Z"
   },
   {
    "duration": 6,
    "start_time": "2024-02-21T16:03:06.395Z"
   },
   {
    "duration": 4,
    "start_time": "2024-02-21T16:03:18.232Z"
   },
   {
    "duration": 441,
    "start_time": "2024-02-21T16:03:20.419Z"
   },
   {
    "duration": 24,
    "start_time": "2024-02-21T16:03:28.034Z"
   },
   {
    "duration": 8,
    "start_time": "2024-02-21T16:03:53.982Z"
   },
   {
    "duration": 5,
    "start_time": "2024-02-21T16:03:59.527Z"
   },
   {
    "duration": 1152,
    "start_time": "2024-02-21T16:04:01.204Z"
   },
   {
    "duration": 30,
    "start_time": "2024-02-21T16:04:11.928Z"
   },
   {
    "duration": 7,
    "start_time": "2024-02-21T16:04:58.242Z"
   },
   {
    "duration": 1077,
    "start_time": "2024-02-21T16:05:00.160Z"
   },
   {
    "duration": 9,
    "start_time": "2024-02-21T16:09:22.477Z"
   },
   {
    "duration": 12,
    "start_time": "2024-02-21T16:09:41.921Z"
   },
   {
    "duration": 10,
    "start_time": "2024-02-21T16:10:01.625Z"
   },
   {
    "duration": 25,
    "start_time": "2024-02-21T16:10:45.358Z"
   },
   {
    "duration": 24,
    "start_time": "2024-02-21T16:10:53.844Z"
   },
   {
    "duration": 34,
    "start_time": "2024-02-21T16:11:45.430Z"
   },
   {
    "duration": 37,
    "start_time": "2024-02-21T16:11:52.013Z"
   },
   {
    "duration": 13,
    "start_time": "2024-02-21T16:12:50.274Z"
   },
   {
    "duration": 6,
    "start_time": "2024-02-21T16:12:54.738Z"
   },
   {
    "duration": 1549,
    "start_time": "2024-02-21T16:17:15.725Z"
   },
   {
    "duration": 1397,
    "start_time": "2024-02-21T16:17:31.089Z"
   },
   {
    "duration": 3,
    "start_time": "2024-02-21T16:18:42.864Z"
   },
   {
    "duration": 1662,
    "start_time": "2024-02-21T16:18:49.220Z"
   },
   {
    "duration": 1336,
    "start_time": "2024-02-21T16:18:54.485Z"
   },
   {
    "duration": 1363,
    "start_time": "2024-02-21T16:19:42.307Z"
   },
   {
    "duration": 14,
    "start_time": "2024-02-21T16:23:14.994Z"
   },
   {
    "duration": 4,
    "start_time": "2024-02-21T16:23:38.630Z"
   },
   {
    "duration": 106172,
    "start_time": "2024-02-21T16:23:42.578Z"
   },
   {
    "duration": 17664,
    "start_time": "2024-02-21T16:33:46.054Z"
   },
   {
    "duration": 46325,
    "start_time": "2024-02-21T16:35:23.155Z"
   },
   {
    "duration": 26,
    "start_time": "2024-02-21T16:38:20.890Z"
   },
   {
    "duration": 25,
    "start_time": "2024-02-21T16:38:35.007Z"
   },
   {
    "duration": 7385,
    "start_time": "2024-02-21T16:40:09.849Z"
   },
   {
    "duration": 11,
    "start_time": "2024-02-21T16:40:36.479Z"
   },
   {
    "duration": 4,
    "start_time": "2024-02-21T16:40:59.282Z"
   },
   {
    "duration": 12,
    "start_time": "2024-02-21T16:41:44.215Z"
   },
   {
    "duration": 3,
    "start_time": "2024-02-21T16:41:48.452Z"
   },
   {
    "duration": 3,
    "start_time": "2024-02-21T16:41:56.470Z"
   },
   {
    "duration": 5,
    "start_time": "2024-02-21T16:41:56.475Z"
   },
   {
    "duration": 2272,
    "start_time": "2024-02-21T16:41:56.519Z"
   },
   {
    "duration": 51,
    "start_time": "2024-02-21T16:41:58.793Z"
   },
   {
    "duration": 31,
    "start_time": "2024-02-21T16:41:58.845Z"
   },
   {
    "duration": 36,
    "start_time": "2024-02-21T16:41:58.878Z"
   },
   {
    "duration": 18,
    "start_time": "2024-02-21T16:41:58.916Z"
   },
   {
    "duration": 20,
    "start_time": "2024-02-21T16:41:58.936Z"
   },
   {
    "duration": 21,
    "start_time": "2024-02-21T16:41:58.958Z"
   },
   {
    "duration": 36,
    "start_time": "2024-02-21T16:41:58.980Z"
   },
   {
    "duration": 32,
    "start_time": "2024-02-21T16:41:59.018Z"
   },
   {
    "duration": 9,
    "start_time": "2024-02-21T16:41:59.052Z"
   },
   {
    "duration": 20,
    "start_time": "2024-02-21T16:41:59.062Z"
   },
   {
    "duration": 19,
    "start_time": "2024-02-21T16:41:59.083Z"
   },
   {
    "duration": 5,
    "start_time": "2024-02-21T16:41:59.104Z"
   },
   {
    "duration": 9,
    "start_time": "2024-02-21T16:41:59.111Z"
   },
   {
    "duration": 623,
    "start_time": "2024-02-21T16:41:59.122Z"
   },
   {
    "duration": 404,
    "start_time": "2024-02-21T16:41:59.746Z"
   },
   {
    "duration": 161,
    "start_time": "2024-02-21T16:42:00.151Z"
   },
   {
    "duration": 433,
    "start_time": "2024-02-21T16:42:00.314Z"
   },
   {
    "duration": 436,
    "start_time": "2024-02-21T16:42:00.749Z"
   },
   {
    "duration": 1209,
    "start_time": "2024-02-21T16:42:01.187Z"
   },
   {
    "duration": 4,
    "start_time": "2024-02-21T16:42:02.397Z"
   },
   {
    "duration": 65,
    "start_time": "2024-02-21T16:42:02.403Z"
   },
   {
    "duration": 61801,
    "start_time": "2024-02-21T16:42:02.470Z"
   },
   {
    "duration": 10,
    "start_time": "2024-02-21T16:43:40.240Z"
   },
   {
    "duration": 4,
    "start_time": "2024-02-21T16:44:01.999Z"
   },
   {
    "duration": 10,
    "start_time": "2024-02-21T16:44:15.810Z"
   },
   {
    "duration": 7055,
    "start_time": "2024-02-21T16:44:46.859Z"
   },
   {
    "duration": 14,
    "start_time": "2024-02-21T16:45:49.108Z"
   },
   {
    "duration": 12,
    "start_time": "2024-02-21T16:47:16.139Z"
   },
   {
    "duration": 13,
    "start_time": "2024-02-21T16:47:50.189Z"
   },
   {
    "duration": 11,
    "start_time": "2024-02-21T16:50:11.260Z"
   },
   {
    "duration": 11,
    "start_time": "2024-02-21T16:51:05.159Z"
   },
   {
    "duration": 13,
    "start_time": "2024-02-21T16:52:20.730Z"
   },
   {
    "duration": 3,
    "start_time": "2024-02-21T16:54:42.137Z"
   },
   {
    "duration": 7,
    "start_time": "2024-02-21T16:54:42.141Z"
   },
   {
    "duration": 2299,
    "start_time": "2024-02-21T16:54:42.150Z"
   },
   {
    "duration": 55,
    "start_time": "2024-02-21T16:54:44.452Z"
   },
   {
    "duration": 23,
    "start_time": "2024-02-21T16:54:44.509Z"
   },
   {
    "duration": 31,
    "start_time": "2024-02-21T16:54:44.534Z"
   },
   {
    "duration": 24,
    "start_time": "2024-02-21T16:54:44.567Z"
   },
   {
    "duration": 12,
    "start_time": "2024-02-21T16:54:44.592Z"
   },
   {
    "duration": 20,
    "start_time": "2024-02-21T16:54:44.605Z"
   },
   {
    "duration": 33,
    "start_time": "2024-02-21T16:54:44.627Z"
   },
   {
    "duration": 22,
    "start_time": "2024-02-21T16:54:44.662Z"
   },
   {
    "duration": 20,
    "start_time": "2024-02-21T16:54:44.686Z"
   },
   {
    "duration": 37,
    "start_time": "2024-02-21T16:54:44.708Z"
   },
   {
    "duration": 16,
    "start_time": "2024-02-21T16:54:44.749Z"
   },
   {
    "duration": 11,
    "start_time": "2024-02-21T16:54:44.767Z"
   },
   {
    "duration": 8,
    "start_time": "2024-02-21T16:54:44.779Z"
   },
   {
    "duration": 503,
    "start_time": "2024-02-21T16:54:44.788Z"
   },
   {
    "duration": 429,
    "start_time": "2024-02-21T16:54:45.293Z"
   },
   {
    "duration": 148,
    "start_time": "2024-02-21T16:54:45.723Z"
   },
   {
    "duration": 432,
    "start_time": "2024-02-21T16:54:45.873Z"
   },
   {
    "duration": 452,
    "start_time": "2024-02-21T16:54:46.307Z"
   },
   {
    "duration": 1363,
    "start_time": "2024-02-21T16:54:46.760Z"
   },
   {
    "duration": 4,
    "start_time": "2024-02-21T16:54:48.125Z"
   },
   {
    "duration": 18,
    "start_time": "2024-02-21T16:54:48.131Z"
   },
   {
    "duration": 57184,
    "start_time": "2024-02-21T16:54:48.151Z"
   },
   {
    "duration": 8,
    "start_time": "2024-02-21T16:55:45.337Z"
   },
   {
    "duration": 26,
    "start_time": "2024-02-21T16:56:55.545Z"
   },
   {
    "duration": 374,
    "start_time": "2024-02-21T16:59:42.337Z"
   },
   {
    "duration": 365,
    "start_time": "2024-02-21T17:01:34.584Z"
   },
   {
    "duration": 63389,
    "start_time": "2024-02-21T17:01:53.423Z"
   },
   {
    "duration": 21,
    "start_time": "2024-02-21T17:03:11.391Z"
   },
   {
    "duration": 21,
    "start_time": "2024-02-21T17:05:36.973Z"
   },
   {
    "duration": 25,
    "start_time": "2024-02-21T17:08:20.769Z"
   },
   {
    "duration": 19,
    "start_time": "2024-02-21T17:10:51.924Z"
   },
   {
    "duration": 375,
    "start_time": "2024-02-21T17:12:12.265Z"
   },
   {
    "duration": 14,
    "start_time": "2024-02-21T17:17:06.953Z"
   },
   {
    "duration": 7,
    "start_time": "2024-02-21T17:17:21.266Z"
   },
   {
    "duration": 11,
    "start_time": "2024-02-21T17:17:43.885Z"
   },
   {
    "duration": 9,
    "start_time": "2024-02-21T17:17:48.004Z"
   },
   {
    "duration": 67928,
    "start_time": "2024-02-21T17:18:22.804Z"
   },
   {
    "duration": 4,
    "start_time": "2024-02-21T17:20:46.103Z"
   },
   {
    "duration": 7,
    "start_time": "2024-02-21T17:21:02.997Z"
   },
   {
    "duration": 36,
    "start_time": "2024-02-21T17:21:42.031Z"
   },
   {
    "duration": 17,
    "start_time": "2024-02-21T17:21:54.221Z"
   },
   {
    "duration": 24,
    "start_time": "2024-02-21T17:22:05.951Z"
   },
   {
    "duration": 62,
    "start_time": "2024-02-21T17:23:34.226Z"
   },
   {
    "duration": 24,
    "start_time": "2024-02-21T17:23:38.855Z"
   },
   {
    "duration": 100,
    "start_time": "2024-02-21T17:24:05.950Z"
   },
   {
    "duration": 18,
    "start_time": "2024-02-21T17:24:18.117Z"
   },
   {
    "duration": 28,
    "start_time": "2024-02-21T17:25:10.068Z"
   },
   {
    "duration": 84,
    "start_time": "2024-02-21T17:25:35.462Z"
   },
   {
    "duration": 97,
    "start_time": "2024-02-21T17:25:41.360Z"
   },
   {
    "duration": 169,
    "start_time": "2024-02-21T17:26:00.880Z"
   },
   {
    "duration": 124,
    "start_time": "2024-02-21T17:26:08.021Z"
   },
   {
    "duration": 97,
    "start_time": "2024-02-21T17:26:55.548Z"
   },
   {
    "duration": 132,
    "start_time": "2024-02-21T17:27:15.214Z"
   },
   {
    "duration": 183,
    "start_time": "2024-02-21T17:28:13.265Z"
   },
   {
    "duration": 107,
    "start_time": "2024-02-21T17:28:23.240Z"
   },
   {
    "duration": 24,
    "start_time": "2024-02-21T17:29:44.188Z"
   },
   {
    "duration": 59561,
    "start_time": "2024-02-21T17:33:12.117Z"
   },
   {
    "duration": 27,
    "start_time": "2024-02-21T17:34:27.933Z"
   },
   {
    "duration": 30809,
    "start_time": "2024-02-21T17:39:12.288Z"
   },
   {
    "duration": 103,
    "start_time": "2024-02-21T17:40:58.826Z"
   },
   {
    "duration": 67,
    "start_time": "2024-02-21T17:41:15.690Z"
   },
   {
    "duration": 103204,
    "start_time": "2024-02-21T17:41:35.090Z"
   },
   {
    "duration": 61,
    "start_time": "2024-02-21T21:10:27.255Z"
   },
   {
    "duration": 10,
    "start_time": "2024-02-21T21:10:41.015Z"
   },
   {
    "duration": 1652,
    "start_time": "2024-02-21T21:10:41.027Z"
   },
   {
    "duration": 0,
    "start_time": "2024-02-21T21:10:42.681Z"
   },
   {
    "duration": 0,
    "start_time": "2024-02-21T21:10:42.682Z"
   },
   {
    "duration": 0,
    "start_time": "2024-02-21T21:10:42.683Z"
   },
   {
    "duration": 0,
    "start_time": "2024-02-21T21:10:42.685Z"
   },
   {
    "duration": 0,
    "start_time": "2024-02-21T21:10:42.686Z"
   },
   {
    "duration": 0,
    "start_time": "2024-02-21T21:10:42.687Z"
   },
   {
    "duration": 0,
    "start_time": "2024-02-21T21:10:42.689Z"
   },
   {
    "duration": 0,
    "start_time": "2024-02-21T21:10:42.694Z"
   },
   {
    "duration": 0,
    "start_time": "2024-02-21T21:10:42.696Z"
   },
   {
    "duration": 0,
    "start_time": "2024-02-21T21:10:42.698Z"
   },
   {
    "duration": 0,
    "start_time": "2024-02-21T21:10:42.701Z"
   },
   {
    "duration": 0,
    "start_time": "2024-02-21T21:10:42.702Z"
   },
   {
    "duration": 0,
    "start_time": "2024-02-21T21:10:42.703Z"
   },
   {
    "duration": 0,
    "start_time": "2024-02-21T21:10:42.704Z"
   },
   {
    "duration": 0,
    "start_time": "2024-02-21T21:10:42.707Z"
   },
   {
    "duration": 0,
    "start_time": "2024-02-21T21:10:42.709Z"
   },
   {
    "duration": 0,
    "start_time": "2024-02-21T21:10:42.710Z"
   },
   {
    "duration": 0,
    "start_time": "2024-02-21T21:10:42.711Z"
   },
   {
    "duration": 0,
    "start_time": "2024-02-21T21:10:42.713Z"
   },
   {
    "duration": 0,
    "start_time": "2024-02-21T21:10:42.714Z"
   },
   {
    "duration": 0,
    "start_time": "2024-02-21T21:10:42.715Z"
   },
   {
    "duration": 0,
    "start_time": "2024-02-21T21:10:42.716Z"
   },
   {
    "duration": 0,
    "start_time": "2024-02-21T21:10:42.718Z"
   },
   {
    "duration": 0,
    "start_time": "2024-02-21T21:10:42.719Z"
   },
   {
    "duration": 0,
    "start_time": "2024-02-21T21:10:42.720Z"
   },
   {
    "duration": 3447,
    "start_time": "2024-02-21T21:11:01.833Z"
   },
   {
    "duration": 2463,
    "start_time": "2024-02-21T21:11:12.267Z"
   },
   {
    "duration": 2568,
    "start_time": "2024-02-21T21:11:19.785Z"
   },
   {
    "duration": 1476,
    "start_time": "2024-02-21T21:11:22.355Z"
   },
   {
    "duration": 76,
    "start_time": "2024-02-21T21:11:23.833Z"
   },
   {
    "duration": 55,
    "start_time": "2024-02-21T21:11:23.911Z"
   },
   {
    "duration": 73,
    "start_time": "2024-02-21T21:11:23.968Z"
   },
   {
    "duration": 22,
    "start_time": "2024-02-21T21:11:24.042Z"
   },
   {
    "duration": 32,
    "start_time": "2024-02-21T21:11:24.066Z"
   },
   {
    "duration": 43,
    "start_time": "2024-02-21T21:11:24.100Z"
   },
   {
    "duration": 29,
    "start_time": "2024-02-21T21:11:24.144Z"
   },
   {
    "duration": 34,
    "start_time": "2024-02-21T21:11:24.175Z"
   },
   {
    "duration": 27,
    "start_time": "2024-02-21T21:11:24.211Z"
   },
   {
    "duration": 37,
    "start_time": "2024-02-21T21:11:24.239Z"
   },
   {
    "duration": 43,
    "start_time": "2024-02-21T21:11:24.278Z"
   },
   {
    "duration": 27,
    "start_time": "2024-02-21T21:11:24.322Z"
   },
   {
    "duration": 37,
    "start_time": "2024-02-21T21:11:24.350Z"
   },
   {
    "duration": 594,
    "start_time": "2024-02-21T21:11:24.389Z"
   },
   {
    "duration": 452,
    "start_time": "2024-02-21T21:11:24.984Z"
   },
   {
    "duration": 236,
    "start_time": "2024-02-21T21:11:25.438Z"
   },
   {
    "duration": 556,
    "start_time": "2024-02-21T21:11:25.676Z"
   },
   {
    "duration": 520,
    "start_time": "2024-02-21T21:11:26.233Z"
   },
   {
    "duration": 1391,
    "start_time": "2024-02-21T21:11:26.755Z"
   },
   {
    "duration": 3,
    "start_time": "2024-02-21T21:11:28.148Z"
   },
   {
    "duration": 39,
    "start_time": "2024-02-21T21:11:28.152Z"
   },
   {
    "duration": 116800,
    "start_time": "2024-02-21T21:11:28.193Z"
   },
   {
    "duration": 21,
    "start_time": "2024-02-21T21:13:24.994Z"
   },
   {
    "duration": 106,
    "start_time": "2024-02-21T21:13:25.017Z"
   },
   {
    "duration": 29,
    "start_time": "2024-02-21T21:13:33.931Z"
   },
   {
    "duration": 36,
    "start_time": "2024-02-21T21:14:18.588Z"
   },
   {
    "duration": 75,
    "start_time": "2024-02-21T21:14:52.928Z"
   },
   {
    "duration": 40,
    "start_time": "2024-02-21T21:15:00.472Z"
   },
   {
    "duration": 29,
    "start_time": "2024-02-21T21:16:39.267Z"
   },
   {
    "duration": 9,
    "start_time": "2024-02-21T21:17:21.827Z"
   },
   {
    "duration": 4,
    "start_time": "2024-02-21T21:17:31.935Z"
   },
   {
    "duration": 5,
    "start_time": "2024-02-21T21:18:17.604Z"
   },
   {
    "duration": 2,
    "start_time": "2024-02-21T21:18:43.179Z"
   },
   {
    "duration": 407,
    "start_time": "2024-02-21T21:20:01.739Z"
   },
   {
    "duration": 37,
    "start_time": "2024-02-21T21:20:24.837Z"
   },
   {
    "duration": 41,
    "start_time": "2024-02-21T21:20:34.113Z"
   },
   {
    "duration": 22,
    "start_time": "2024-02-21T21:20:38.636Z"
   },
   {
    "duration": 5,
    "start_time": "2024-02-21T21:20:41.923Z"
   },
   {
    "duration": 260,
    "start_time": "2024-02-21T21:20:45.997Z"
   },
   {
    "duration": 386,
    "start_time": "2024-02-21T21:20:56.136Z"
   },
   {
    "duration": 21,
    "start_time": "2024-02-21T21:23:43.627Z"
   },
   {
    "duration": 24,
    "start_time": "2024-02-21T21:25:25.623Z"
   },
   {
    "duration": 21,
    "start_time": "2024-02-21T21:25:54.697Z"
   },
   {
    "duration": 4,
    "start_time": "2024-02-21T21:26:35.806Z"
   },
   {
    "duration": 128,
    "start_time": "2024-02-21T21:26:40.326Z"
   },
   {
    "duration": 22,
    "start_time": "2024-02-21T21:26:59.601Z"
   },
   {
    "duration": 21,
    "start_time": "2024-02-21T21:27:07.664Z"
   },
   {
    "duration": 24,
    "start_time": "2024-02-21T21:27:59.768Z"
   },
   {
    "duration": 22,
    "start_time": "2024-02-21T21:28:20.341Z"
   },
   {
    "duration": 22,
    "start_time": "2024-02-21T21:28:42.886Z"
   },
   {
    "duration": 349,
    "start_time": "2024-02-21T21:30:33.027Z"
   },
   {
    "duration": 22,
    "start_time": "2024-02-21T21:30:43.115Z"
   },
   {
    "duration": 16,
    "start_time": "2024-02-21T21:31:40.096Z"
   },
   {
    "duration": 32,
    "start_time": "2024-02-21T21:35:53.072Z"
   },
   {
    "duration": 23,
    "start_time": "2024-02-21T21:36:07.196Z"
   },
   {
    "duration": 14,
    "start_time": "2024-02-21T21:36:33.176Z"
   },
   {
    "duration": 14,
    "start_time": "2024-02-21T21:36:38.536Z"
   },
   {
    "duration": 24,
    "start_time": "2024-02-21T21:36:43.817Z"
   },
   {
    "duration": 37,
    "start_time": "2024-02-21T21:40:49.788Z"
   },
   {
    "duration": 164,
    "start_time": "2024-02-21T21:41:11.073Z"
   },
   {
    "duration": 183,
    "start_time": "2024-02-21T21:42:25.324Z"
   },
   {
    "duration": 163,
    "start_time": "2024-02-21T21:42:39.206Z"
   },
   {
    "duration": 24,
    "start_time": "2024-02-21T21:45:53.421Z"
   },
   {
    "duration": 23,
    "start_time": "2024-02-21T21:46:30.222Z"
   },
   {
    "duration": 8,
    "start_time": "2024-02-21T21:47:21.407Z"
   },
   {
    "duration": 8,
    "start_time": "2024-02-21T21:47:36.431Z"
   },
   {
    "duration": 4,
    "start_time": "2024-02-21T21:51:13.094Z"
   },
   {
    "duration": 9,
    "start_time": "2024-02-21T21:51:27.448Z"
   },
   {
    "duration": 5,
    "start_time": "2024-02-21T21:52:28.590Z"
   },
   {
    "duration": 17,
    "start_time": "2024-02-21T21:52:34.085Z"
   },
   {
    "duration": 3,
    "start_time": "2024-02-21T21:53:56.719Z"
   },
   {
    "duration": 16,
    "start_time": "2024-02-21T21:54:02.516Z"
   },
   {
    "duration": 9,
    "start_time": "2024-02-21T21:54:18.027Z"
   },
   {
    "duration": 4,
    "start_time": "2024-02-21T21:54:33.756Z"
   },
   {
    "duration": 3,
    "start_time": "2024-02-21T21:54:52.886Z"
   },
   {
    "duration": 1071,
    "start_time": "2024-02-21T21:59:42.607Z"
   },
   {
    "duration": 130557,
    "start_time": "2024-02-21T22:00:14.895Z"
   },
   {
    "duration": 4,
    "start_time": "2024-02-21T22:02:25.454Z"
   },
   {
    "duration": 6,
    "start_time": "2024-02-21T22:06:29.945Z"
   },
   {
    "duration": 1058,
    "start_time": "2024-02-21T22:06:58.422Z"
   },
   {
    "duration": 1849,
    "start_time": "2024-02-21T22:08:09.564Z"
   },
   {
    "duration": 16,
    "start_time": "2024-02-21T22:08:31.827Z"
   },
   {
    "duration": 14,
    "start_time": "2024-02-21T22:08:46.789Z"
   },
   {
    "duration": 2395,
    "start_time": "2024-02-21T22:09:06.192Z"
   },
   {
    "duration": 5,
    "start_time": "2024-02-21T22:09:08.590Z"
   },
   {
    "duration": 132,
    "start_time": "2024-02-21T22:09:08.596Z"
   },
   {
    "duration": 23,
    "start_time": "2024-02-21T22:09:08.730Z"
   },
   {
    "duration": 43,
    "start_time": "2024-02-21T22:09:08.755Z"
   },
   {
    "duration": 22,
    "start_time": "2024-02-21T22:09:08.800Z"
   },
   {
    "duration": 32,
    "start_time": "2024-02-21T22:09:08.823Z"
   },
   {
    "duration": 26,
    "start_time": "2024-02-21T22:09:08.856Z"
   },
   {
    "duration": 31,
    "start_time": "2024-02-21T22:09:08.894Z"
   },
   {
    "duration": 51,
    "start_time": "2024-02-21T22:09:08.927Z"
   },
   {
    "duration": 32,
    "start_time": "2024-02-21T22:09:08.980Z"
   },
   {
    "duration": 29,
    "start_time": "2024-02-21T22:09:09.014Z"
   },
   {
    "duration": 55,
    "start_time": "2024-02-21T22:09:09.045Z"
   },
   {
    "duration": 22,
    "start_time": "2024-02-21T22:09:09.102Z"
   },
   {
    "duration": 21,
    "start_time": "2024-02-21T22:09:09.125Z"
   },
   {
    "duration": 546,
    "start_time": "2024-02-21T22:09:09.148Z"
   },
   {
    "duration": 430,
    "start_time": "2024-02-21T22:09:09.695Z"
   },
   {
    "duration": 172,
    "start_time": "2024-02-21T22:09:10.126Z"
   },
   {
    "duration": 470,
    "start_time": "2024-02-21T22:09:10.300Z"
   },
   {
    "duration": 483,
    "start_time": "2024-02-21T22:09:10.772Z"
   },
   {
    "duration": 1434,
    "start_time": "2024-02-21T22:09:11.257Z"
   },
   {
    "duration": 3,
    "start_time": "2024-02-21T22:09:12.693Z"
   },
   {
    "duration": 23,
    "start_time": "2024-02-21T22:09:12.697Z"
   },
   {
    "duration": 1890,
    "start_time": "2024-02-21T22:09:12.722Z"
   },
   {
    "duration": 608,
    "start_time": "2024-02-21T22:09:20.395Z"
   },
   {
    "duration": 576,
    "start_time": "2024-02-21T22:10:21.683Z"
   },
   {
    "duration": 501,
    "start_time": "2024-02-21T22:11:00.349Z"
   },
   {
    "duration": 22,
    "start_time": "2024-02-21T22:12:46.975Z"
   },
   {
    "duration": 16,
    "start_time": "2024-02-21T22:12:52.681Z"
   },
   {
    "duration": 74,
    "start_time": "2024-02-21T22:13:12.628Z"
   },
   {
    "duration": 159,
    "start_time": "2024-02-21T22:13:35.935Z"
   },
   {
    "duration": 82,
    "start_time": "2024-02-21T22:14:02.413Z"
   },
   {
    "duration": 25,
    "start_time": "2024-02-21T22:14:18.679Z"
   },
   {
    "duration": 23,
    "start_time": "2024-02-21T22:14:32.298Z"
   },
   {
    "duration": 525,
    "start_time": "2024-02-21T22:15:39.409Z"
   },
   {
    "duration": 17,
    "start_time": "2024-02-21T22:15:54.820Z"
   },
   {
    "duration": 18,
    "start_time": "2024-02-21T22:16:09.463Z"
   },
   {
    "duration": 15,
    "start_time": "2024-02-21T22:16:19.033Z"
   },
   {
    "duration": 17,
    "start_time": "2024-02-21T22:16:26.593Z"
   },
   {
    "duration": 16,
    "start_time": "2024-02-21T22:16:43.893Z"
   },
   {
    "duration": 15,
    "start_time": "2024-02-21T22:24:12.029Z"
   },
   {
    "duration": 20,
    "start_time": "2024-02-21T22:24:22.364Z"
   },
   {
    "duration": 9,
    "start_time": "2024-02-21T22:24:40.782Z"
   },
   {
    "duration": 20,
    "start_time": "2024-02-21T22:25:22.087Z"
   },
   {
    "duration": 15,
    "start_time": "2024-02-21T22:25:51.970Z"
   },
   {
    "duration": 16,
    "start_time": "2024-02-21T22:26:01.468Z"
   },
   {
    "duration": 12177,
    "start_time": "2024-02-21T22:26:09.339Z"
   },
   {
    "duration": 1670,
    "start_time": "2024-02-21T22:27:34.816Z"
   },
   {
    "duration": 14,
    "start_time": "2024-02-21T22:29:34.306Z"
   },
   {
    "duration": 1597,
    "start_time": "2024-02-21T22:31:11.595Z"
   },
   {
    "duration": 17,
    "start_time": "2024-02-21T22:31:39.607Z"
   },
   {
    "duration": 11,
    "start_time": "2024-02-21T22:32:01.799Z"
   },
   {
    "duration": 17,
    "start_time": "2024-02-21T22:32:16.874Z"
   },
   {
    "duration": 13,
    "start_time": "2024-02-21T22:33:06.415Z"
   },
   {
    "duration": 20,
    "start_time": "2024-02-21T22:35:53.334Z"
   },
   {
    "duration": 27,
    "start_time": "2024-02-21T22:36:11.107Z"
   },
   {
    "duration": 8,
    "start_time": "2024-02-21T22:36:45.627Z"
   },
   {
    "duration": 21,
    "start_time": "2024-02-21T22:36:53.342Z"
   },
   {
    "duration": 26,
    "start_time": "2024-02-21T22:37:01.521Z"
   },
   {
    "duration": 27,
    "start_time": "2024-02-21T22:37:20.873Z"
   },
   {
    "duration": 25,
    "start_time": "2024-02-21T22:37:28.413Z"
   },
   {
    "duration": 16,
    "start_time": "2024-02-21T22:37:34.066Z"
   },
   {
    "duration": 3,
    "start_time": "2024-02-21T22:37:39.172Z"
   },
   {
    "duration": 4,
    "start_time": "2024-02-21T22:37:53.555Z"
   },
   {
    "duration": 17,
    "start_time": "2024-02-21T22:41:09.826Z"
   },
   {
    "duration": 25,
    "start_time": "2024-02-21T22:41:32.993Z"
   },
   {
    "duration": 21,
    "start_time": "2024-02-21T22:42:06.047Z"
   },
   {
    "duration": 18,
    "start_time": "2024-02-21T22:42:16.486Z"
   },
   {
    "duration": 5,
    "start_time": "2024-02-21T22:42:31.827Z"
   },
   {
    "duration": 17,
    "start_time": "2024-02-21T22:42:49.171Z"
   },
   {
    "duration": 4,
    "start_time": "2024-02-21T22:42:58.224Z"
   },
   {
    "duration": 5,
    "start_time": "2024-02-21T22:43:07.093Z"
   },
   {
    "duration": 5,
    "start_time": "2024-02-21T23:02:42.118Z"
   },
   {
    "duration": 125,
    "start_time": "2024-02-21T23:03:07.279Z"
   },
   {
    "duration": 3,
    "start_time": "2024-02-21T23:03:45.582Z"
   },
   {
    "duration": 5,
    "start_time": "2024-02-21T23:03:47.537Z"
   },
   {
    "duration": 1612,
    "start_time": "2024-02-21T23:04:13.699Z"
   },
   {
    "duration": 14,
    "start_time": "2024-02-21T23:05:46.590Z"
   },
   {
    "duration": 4,
    "start_time": "2024-02-21T23:09:09.019Z"
   },
   {
    "duration": 3,
    "start_time": "2024-02-21T23:09:39.119Z"
   },
   {
    "duration": 1956,
    "start_time": "2024-02-21T23:12:25.548Z"
   },
   {
    "duration": 585,
    "start_time": "2024-02-21T23:13:15.367Z"
   },
   {
    "duration": 1658,
    "start_time": "2024-02-21T23:13:43.338Z"
   },
   {
    "duration": 85,
    "start_time": "2024-02-21T23:18:38.411Z"
   },
   {
    "duration": 23,
    "start_time": "2024-02-21T23:19:28.692Z"
   },
   {
    "duration": 4,
    "start_time": "2024-02-21T23:22:25.337Z"
   },
   {
    "duration": 2059,
    "start_time": "2024-02-21T23:23:31.440Z"
   },
   {
    "duration": 1995,
    "start_time": "2024-02-21T23:23:51.816Z"
   },
   {
    "duration": 1725,
    "start_time": "2024-02-21T23:24:10.196Z"
   },
   {
    "duration": 10,
    "start_time": "2024-02-21T23:31:02.558Z"
   },
   {
    "duration": 1788,
    "start_time": "2024-02-21T23:31:26.907Z"
   },
   {
    "duration": 62,
    "start_time": "2024-02-21T23:31:31.064Z"
   },
   {
    "duration": 54,
    "start_time": "2024-02-21T23:31:37.294Z"
   },
   {
    "duration": 57,
    "start_time": "2024-02-21T23:31:58.414Z"
   },
   {
    "duration": 58,
    "start_time": "2024-02-21T23:32:12.482Z"
   },
   {
    "duration": 60,
    "start_time": "2024-02-21T23:32:28.650Z"
   },
   {
    "duration": 62,
    "start_time": "2024-02-21T23:32:42.918Z"
   },
   {
    "duration": 59,
    "start_time": "2024-02-21T23:33:00.089Z"
   },
   {
    "duration": 57,
    "start_time": "2024-02-21T23:33:32.701Z"
   },
   {
    "duration": 1122,
    "start_time": "2024-02-21T23:52:33.323Z"
   },
   {
    "duration": 1978,
    "start_time": "2024-02-21T23:58:33.118Z"
   },
   {
    "duration": 46,
    "start_time": "2024-02-21T23:58:40.956Z"
   },
   {
    "duration": 3620,
    "start_time": "2024-02-22T08:36:43.752Z"
   },
   {
    "duration": 1696,
    "start_time": "2024-02-22T08:36:47.375Z"
   },
   {
    "duration": 78,
    "start_time": "2024-02-22T08:36:49.073Z"
   },
   {
    "duration": 65,
    "start_time": "2024-02-22T08:36:49.153Z"
   },
   {
    "duration": 78,
    "start_time": "2024-02-22T08:36:49.221Z"
   },
   {
    "duration": 25,
    "start_time": "2024-02-22T08:36:49.301Z"
   },
   {
    "duration": 15,
    "start_time": "2024-02-22T08:36:49.327Z"
   },
   {
    "duration": 31,
    "start_time": "2024-02-22T08:36:49.343Z"
   },
   {
    "duration": 24,
    "start_time": "2024-02-22T08:36:49.376Z"
   },
   {
    "duration": 22,
    "start_time": "2024-02-22T08:36:49.402Z"
   },
   {
    "duration": 9,
    "start_time": "2024-02-22T08:36:49.426Z"
   },
   {
    "duration": 11,
    "start_time": "2024-02-22T08:36:49.473Z"
   },
   {
    "duration": 17,
    "start_time": "2024-02-22T08:36:49.485Z"
   },
   {
    "duration": 7,
    "start_time": "2024-02-22T08:36:49.505Z"
   },
   {
    "duration": 7,
    "start_time": "2024-02-22T08:36:49.513Z"
   },
   {
    "duration": 578,
    "start_time": "2024-02-22T08:36:49.521Z"
   },
   {
    "duration": 472,
    "start_time": "2024-02-22T08:36:50.101Z"
   },
   {
    "duration": 217,
    "start_time": "2024-02-22T08:36:50.574Z"
   },
   {
    "duration": 509,
    "start_time": "2024-02-22T08:36:50.792Z"
   },
   {
    "duration": 527,
    "start_time": "2024-02-22T08:36:51.303Z"
   },
   {
    "duration": 1482,
    "start_time": "2024-02-22T08:36:51.832Z"
   },
   {
    "duration": 3,
    "start_time": "2024-02-22T08:36:53.316Z"
   },
   {
    "duration": 24,
    "start_time": "2024-02-22T08:36:53.321Z"
   },
   {
    "duration": 1928,
    "start_time": "2024-02-22T08:36:53.347Z"
   },
   {
    "duration": 102,
    "start_time": "2024-02-22T08:36:55.278Z"
   },
   {
    "duration": 187,
    "start_time": "2024-02-22T08:36:55.384Z"
   },
   {
    "duration": 76,
    "start_time": "2024-02-22T08:36:55.573Z"
   },
   {
    "duration": 24,
    "start_time": "2024-02-22T08:36:55.651Z"
   },
   {
    "duration": 5,
    "start_time": "2024-02-22T08:36:55.677Z"
   },
   {
    "duration": 31,
    "start_time": "2024-02-22T08:36:55.683Z"
   },
   {
    "duration": 486,
    "start_time": "2024-02-22T08:36:55.715Z"
   },
   {
    "duration": 18,
    "start_time": "2024-02-22T08:36:56.202Z"
   },
   {
    "duration": 34,
    "start_time": "2024-02-22T08:36:56.222Z"
   },
   {
    "duration": 26,
    "start_time": "2024-02-22T08:36:56.258Z"
   },
   {
    "duration": 268,
    "start_time": "2024-02-22T08:36:56.286Z"
   },
   {
    "duration": 1288,
    "start_time": "2024-02-22T08:36:56.556Z"
   },
   {
    "duration": 28,
    "start_time": "2024-02-22T08:36:57.846Z"
   },
   {
    "duration": 1839,
    "start_time": "2024-02-22T08:36:57.875Z"
   },
   {
    "duration": 181,
    "start_time": "2024-02-22T08:36:59.715Z"
   },
   {
    "duration": 1868,
    "start_time": "2024-02-22T08:50:01.513Z"
   },
   {
    "duration": 29,
    "start_time": "2024-02-22T08:50:22.483Z"
   },
   {
    "duration": 2546,
    "start_time": "2024-02-22T08:52:16.796Z"
   },
   {
    "duration": 1488,
    "start_time": "2024-02-22T08:52:19.345Z"
   },
   {
    "duration": 42,
    "start_time": "2024-02-22T08:52:20.835Z"
   },
   {
    "duration": 25,
    "start_time": "2024-02-22T08:52:20.879Z"
   },
   {
    "duration": 43,
    "start_time": "2024-02-22T08:52:20.906Z"
   },
   {
    "duration": 23,
    "start_time": "2024-02-22T08:52:20.951Z"
   },
   {
    "duration": 34,
    "start_time": "2024-02-22T08:52:20.976Z"
   },
   {
    "duration": 37,
    "start_time": "2024-02-22T08:52:21.011Z"
   },
   {
    "duration": 63,
    "start_time": "2024-02-22T08:52:21.050Z"
   },
   {
    "duration": 43,
    "start_time": "2024-02-22T08:52:21.115Z"
   },
   {
    "duration": 37,
    "start_time": "2024-02-22T08:52:21.159Z"
   },
   {
    "duration": 25,
    "start_time": "2024-02-22T08:52:21.198Z"
   },
   {
    "duration": 53,
    "start_time": "2024-02-22T08:52:21.224Z"
   },
   {
    "duration": 23,
    "start_time": "2024-02-22T08:52:21.280Z"
   },
   {
    "duration": 42,
    "start_time": "2024-02-22T08:52:21.305Z"
   },
   {
    "duration": 584,
    "start_time": "2024-02-22T08:52:21.349Z"
   },
   {
    "duration": 472,
    "start_time": "2024-02-22T08:52:21.935Z"
   },
   {
    "duration": 217,
    "start_time": "2024-02-22T08:52:22.409Z"
   },
   {
    "duration": 516,
    "start_time": "2024-02-22T08:52:22.628Z"
   },
   {
    "duration": 529,
    "start_time": "2024-02-22T08:52:23.146Z"
   },
   {
    "duration": 1416,
    "start_time": "2024-02-22T08:52:23.677Z"
   },
   {
    "duration": 3,
    "start_time": "2024-02-22T08:52:25.095Z"
   },
   {
    "duration": 13,
    "start_time": "2024-02-22T08:52:25.100Z"
   },
   {
    "duration": 1865,
    "start_time": "2024-02-22T08:52:25.115Z"
   },
   {
    "duration": 101,
    "start_time": "2024-02-22T08:52:26.982Z"
   },
   {
    "duration": 120,
    "start_time": "2024-02-22T08:52:27.085Z"
   },
   {
    "duration": 32,
    "start_time": "2024-02-22T08:52:27.207Z"
   },
   {
    "duration": 49,
    "start_time": "2024-02-22T08:52:27.240Z"
   },
   {
    "duration": 5,
    "start_time": "2024-02-22T08:52:27.291Z"
   },
   {
    "duration": 16,
    "start_time": "2024-02-22T08:52:27.297Z"
   },
   {
    "duration": 442,
    "start_time": "2024-02-22T08:52:27.314Z"
   },
   {
    "duration": 25,
    "start_time": "2024-02-22T08:52:27.758Z"
   },
   {
    "duration": 22,
    "start_time": "2024-02-22T08:52:27.785Z"
   },
   {
    "duration": 6,
    "start_time": "2024-02-22T08:52:27.809Z"
   },
   {
    "duration": 282,
    "start_time": "2024-02-22T08:52:27.817Z"
   },
   {
    "duration": 1277,
    "start_time": "2024-02-22T08:52:28.101Z"
   },
   {
    "duration": 19,
    "start_time": "2024-02-22T08:52:29.380Z"
   },
   {
    "duration": 1957,
    "start_time": "2024-02-22T08:52:29.401Z"
   },
   {
    "duration": 54,
    "start_time": "2024-02-22T08:52:31.360Z"
   },
   {
    "duration": 99,
    "start_time": "2024-02-22T08:53:48.568Z"
   },
   {
    "duration": 2632,
    "start_time": "2024-02-22T08:56:06.098Z"
   },
   {
    "duration": 1450,
    "start_time": "2024-02-22T08:56:08.732Z"
   },
   {
    "duration": 43,
    "start_time": "2024-02-22T08:56:10.183Z"
   },
   {
    "duration": 25,
    "start_time": "2024-02-22T08:56:10.228Z"
   },
   {
    "duration": 32,
    "start_time": "2024-02-22T08:56:10.255Z"
   },
   {
    "duration": 29,
    "start_time": "2024-02-22T08:56:10.289Z"
   },
   {
    "duration": 13,
    "start_time": "2024-02-22T08:56:10.320Z"
   },
   {
    "duration": 46,
    "start_time": "2024-02-22T08:56:10.334Z"
   },
   {
    "duration": 33,
    "start_time": "2024-02-22T08:56:10.382Z"
   },
   {
    "duration": 23,
    "start_time": "2024-02-22T08:56:10.418Z"
   },
   {
    "duration": 16,
    "start_time": "2024-02-22T08:56:10.443Z"
   },
   {
    "duration": 26,
    "start_time": "2024-02-22T08:56:10.460Z"
   },
   {
    "duration": 39,
    "start_time": "2024-02-22T08:56:10.488Z"
   },
   {
    "duration": 6,
    "start_time": "2024-02-22T08:56:10.529Z"
   },
   {
    "duration": 20,
    "start_time": "2024-02-22T08:56:10.536Z"
   },
   {
    "duration": 600,
    "start_time": "2024-02-22T08:56:10.558Z"
   },
   {
    "duration": 477,
    "start_time": "2024-02-22T08:56:11.160Z"
   },
   {
    "duration": 211,
    "start_time": "2024-02-22T08:56:11.638Z"
   },
   {
    "duration": 501,
    "start_time": "2024-02-22T08:56:11.850Z"
   },
   {
    "duration": 524,
    "start_time": "2024-02-22T08:56:12.353Z"
   },
   {
    "duration": 1439,
    "start_time": "2024-02-22T08:56:12.879Z"
   },
   {
    "duration": 4,
    "start_time": "2024-02-22T08:56:14.319Z"
   },
   {
    "duration": 11,
    "start_time": "2024-02-22T08:56:14.324Z"
   },
   {
    "duration": 1857,
    "start_time": "2024-02-22T08:56:14.337Z"
   },
   {
    "duration": 179,
    "start_time": "2024-02-22T08:56:16.195Z"
   },
   {
    "duration": 122,
    "start_time": "2024-02-22T08:56:16.376Z"
   },
   {
    "duration": 32,
    "start_time": "2024-02-22T08:56:16.500Z"
   },
   {
    "duration": 23,
    "start_time": "2024-02-22T08:56:16.537Z"
   },
   {
    "duration": 11,
    "start_time": "2024-02-22T08:56:16.562Z"
   },
   {
    "duration": 9,
    "start_time": "2024-02-22T08:56:16.575Z"
   },
   {
    "duration": 451,
    "start_time": "2024-02-22T08:56:16.585Z"
   },
   {
    "duration": 24,
    "start_time": "2024-02-22T08:56:17.038Z"
   },
   {
    "duration": 25,
    "start_time": "2024-02-22T08:56:17.074Z"
   },
   {
    "duration": 7,
    "start_time": "2024-02-22T08:56:17.101Z"
   },
   {
    "duration": 277,
    "start_time": "2024-02-22T08:56:17.109Z"
   },
   {
    "duration": 1292,
    "start_time": "2024-02-22T08:56:17.388Z"
   },
   {
    "duration": 17,
    "start_time": "2024-02-22T08:56:18.682Z"
   },
   {
    "duration": 2087,
    "start_time": "2024-02-22T08:56:18.701Z"
   },
   {
    "duration": 63,
    "start_time": "2024-02-22T08:56:20.790Z"
   },
   {
    "duration": 48,
    "start_time": "2024-02-22T22:26:29.584Z"
   },
   {
    "duration": 3036,
    "start_time": "2024-02-22T22:26:36.853Z"
   },
   {
    "duration": 1404,
    "start_time": "2024-02-22T22:26:43.201Z"
   },
   {
    "duration": 134,
    "start_time": "2024-02-22T22:26:44.779Z"
   },
   {
    "duration": 105,
    "start_time": "2024-02-22T22:27:02.694Z"
   },
   {
    "duration": 83,
    "start_time": "2024-02-22T22:27:15.077Z"
   },
   {
    "duration": 100,
    "start_time": "2024-02-22T22:27:36.960Z"
   },
   {
    "duration": 78,
    "start_time": "2024-02-22T22:27:47.011Z"
   },
   {
    "duration": 68,
    "start_time": "2024-02-22T22:28:36.342Z"
   },
   {
    "duration": 72,
    "start_time": "2024-02-22T22:38:18.150Z"
   },
   {
    "duration": 2225,
    "start_time": "2024-02-22T22:38:32.828Z"
   },
   {
    "duration": 5,
    "start_time": "2024-02-22T22:38:35.055Z"
   },
   {
    "duration": 72,
    "start_time": "2024-02-22T22:38:35.061Z"
   },
   {
    "duration": 29,
    "start_time": "2024-02-22T22:38:35.135Z"
   },
   {
    "duration": 34,
    "start_time": "2024-02-22T22:38:35.166Z"
   },
   {
    "duration": 21,
    "start_time": "2024-02-22T22:38:35.201Z"
   },
   {
    "duration": 10,
    "start_time": "2024-02-22T22:38:35.223Z"
   },
   {
    "duration": 23,
    "start_time": "2024-02-22T22:38:35.234Z"
   },
   {
    "duration": 29,
    "start_time": "2024-02-22T22:38:35.258Z"
   },
   {
    "duration": 19,
    "start_time": "2024-02-22T22:38:35.288Z"
   },
   {
    "duration": 8,
    "start_time": "2024-02-22T22:38:35.308Z"
   },
   {
    "duration": 25,
    "start_time": "2024-02-22T22:38:35.317Z"
   },
   {
    "duration": 17,
    "start_time": "2024-02-22T22:38:35.343Z"
   },
   {
    "duration": 5,
    "start_time": "2024-02-22T22:38:35.362Z"
   },
   {
    "duration": 8,
    "start_time": "2024-02-22T22:38:35.368Z"
   },
   {
    "duration": 506,
    "start_time": "2024-02-22T22:38:35.378Z"
   },
   {
    "duration": 391,
    "start_time": "2024-02-22T22:38:35.886Z"
   },
   {
    "duration": 206,
    "start_time": "2024-02-22T22:38:36.278Z"
   },
   {
    "duration": 441,
    "start_time": "2024-02-22T22:38:36.485Z"
   },
   {
    "duration": 452,
    "start_time": "2024-02-22T22:38:36.928Z"
   },
   {
    "duration": 1321,
    "start_time": "2024-02-22T22:38:37.381Z"
   },
   {
    "duration": 4,
    "start_time": "2024-02-22T22:38:38.704Z"
   },
   {
    "duration": 7,
    "start_time": "2024-02-22T22:38:38.709Z"
   },
   {
    "duration": 1783,
    "start_time": "2024-02-22T22:38:44.069Z"
   },
   {
    "duration": 19,
    "start_time": "2024-02-22T22:41:28.840Z"
   },
   {
    "duration": 1582,
    "start_time": "2024-02-22T22:41:44.392Z"
   },
   {
    "duration": 1670,
    "start_time": "2024-02-22T22:42:07.785Z"
   },
   {
    "duration": 15,
    "start_time": "2024-02-22T22:42:51.903Z"
   },
   {
    "duration": 1563,
    "start_time": "2024-02-22T22:43:13.906Z"
   },
   {
    "duration": 15,
    "start_time": "2024-02-22T23:02:56.101Z"
   },
   {
    "duration": 12,
    "start_time": "2024-02-22T23:03:26.221Z"
   },
   {
    "duration": 1616,
    "start_time": "2024-02-22T23:03:39.331Z"
   },
   {
    "duration": 14,
    "start_time": "2024-02-22T23:05:57.067Z"
   },
   {
    "duration": 1497,
    "start_time": "2024-02-22T23:06:10.176Z"
   },
   {
    "duration": 1543,
    "start_time": "2024-02-22T23:06:38.427Z"
   },
   {
    "duration": 13,
    "start_time": "2024-02-22T23:06:51.564Z"
   },
   {
    "duration": 1820,
    "start_time": "2024-02-22T23:07:07.035Z"
   },
   {
    "duration": 21,
    "start_time": "2024-02-22T23:07:42.937Z"
   },
   {
    "duration": 2034,
    "start_time": "2024-02-22T23:10:21.923Z"
   },
   {
    "duration": 3159,
    "start_time": "2024-02-22T23:10:32.212Z"
   },
   {
    "duration": 16,
    "start_time": "2024-02-22T23:10:40.468Z"
   },
   {
    "duration": 1731,
    "start_time": "2024-02-22T23:10:46.640Z"
   },
   {
    "duration": 73,
    "start_time": "2024-02-22T23:11:57.148Z"
   },
   {
    "duration": 1628,
    "start_time": "2024-02-22T23:12:02.448Z"
   },
   {
    "duration": 1615,
    "start_time": "2024-02-22T23:12:11.452Z"
   },
   {
    "duration": 13,
    "start_time": "2024-02-22T23:25:42.884Z"
   },
   {
    "duration": 16,
    "start_time": "2024-02-22T23:27:09.586Z"
   },
   {
    "duration": 3979,
    "start_time": "2024-02-22T23:27:50.807Z"
   },
   {
    "duration": 421,
    "start_time": "2024-02-22T23:28:19.316Z"
   },
   {
    "duration": 1577,
    "start_time": "2024-02-22T23:28:43.999Z"
   },
   {
    "duration": 14,
    "start_time": "2024-02-22T23:29:14.769Z"
   },
   {
    "duration": 13,
    "start_time": "2024-02-22T23:29:33.570Z"
   },
   {
    "duration": 4361,
    "start_time": "2024-02-22T23:30:08.993Z"
   },
   {
    "duration": 441,
    "start_time": "2024-02-22T23:31:04.468Z"
   },
   {
    "duration": 1653,
    "start_time": "2024-02-22T23:31:21.697Z"
   },
   {
    "duration": 17,
    "start_time": "2024-02-22T23:32:17.143Z"
   },
   {
    "duration": 1577,
    "start_time": "2024-02-22T23:38:20.991Z"
   },
   {
    "duration": 4228,
    "start_time": "2024-02-22T23:38:39.340Z"
   },
   {
    "duration": 19,
    "start_time": "2024-02-22T23:39:23.907Z"
   },
   {
    "duration": 12,
    "start_time": "2024-02-22T23:39:33.973Z"
   },
   {
    "duration": 1596,
    "start_time": "2024-02-22T23:39:57.164Z"
   },
   {
    "duration": 1545,
    "start_time": "2024-02-22T23:44:32.420Z"
   },
   {
    "duration": 1554,
    "start_time": "2024-02-22T23:45:09.403Z"
   },
   {
    "duration": 1647,
    "start_time": "2024-02-22T23:45:35.703Z"
   },
   {
    "duration": 5,
    "start_time": "2024-02-22T23:48:06.270Z"
   },
   {
    "duration": 1551,
    "start_time": "2024-02-22T23:48:34.401Z"
   },
   {
    "duration": 18,
    "start_time": "2024-02-22T23:48:49.943Z"
   },
   {
    "duration": 96,
    "start_time": "2024-02-22T23:50:02.565Z"
   },
   {
    "duration": 5153,
    "start_time": "2024-02-22T23:50:29.399Z"
   },
   {
    "duration": 15,
    "start_time": "2024-02-22T23:50:50.461Z"
   },
   {
    "duration": 1602,
    "start_time": "2024-02-22T23:52:13.549Z"
   },
   {
    "duration": 12,
    "start_time": "2024-02-22T23:54:42.040Z"
   },
   {
    "duration": 10,
    "start_time": "2024-02-22T23:55:09.387Z"
   },
   {
    "duration": 4,
    "start_time": "2024-02-22T23:55:52.467Z"
   },
   {
    "duration": 2001,
    "start_time": "2024-02-22T23:56:09.103Z"
   },
   {
    "duration": 13,
    "start_time": "2024-02-22T23:56:18.912Z"
   },
   {
    "duration": 2283,
    "start_time": "2024-02-22T23:56:32.102Z"
   },
   {
    "duration": 14,
    "start_time": "2024-02-22T23:56:39.382Z"
   },
   {
    "duration": 1390,
    "start_time": "2024-02-22T23:57:05.673Z"
   },
   {
    "duration": 15,
    "start_time": "2024-02-22T23:57:11.737Z"
   },
   {
    "duration": 13,
    "start_time": "2024-02-23T00:00:42.102Z"
   },
   {
    "duration": 5,
    "start_time": "2024-02-23T00:01:07.935Z"
   },
   {
    "duration": 27,
    "start_time": "2024-02-23T00:01:17.099Z"
   },
   {
    "duration": 28,
    "start_time": "2024-02-23T00:02:00.277Z"
   },
   {
    "duration": 27,
    "start_time": "2024-02-23T00:02:42.466Z"
   },
   {
    "duration": 27,
    "start_time": "2024-02-23T00:03:18.729Z"
   },
   {
    "duration": 28,
    "start_time": "2024-02-23T00:03:55.232Z"
   },
   {
    "duration": 1924,
    "start_time": "2024-02-23T00:04:36.822Z"
   },
   {
    "duration": 15,
    "start_time": "2024-02-23T00:04:48.734Z"
   },
   {
    "duration": 1725,
    "start_time": "2024-02-23T00:06:06.631Z"
   },
   {
    "duration": 4297,
    "start_time": "2024-02-23T00:07:48.629Z"
   },
   {
    "duration": 13,
    "start_time": "2024-02-23T00:09:25.866Z"
   },
   {
    "duration": 4633,
    "start_time": "2024-02-23T00:09:44.232Z"
   },
   {
    "duration": 4424,
    "start_time": "2024-02-23T00:10:08.627Z"
   },
   {
    "duration": 1564,
    "start_time": "2024-02-23T00:10:24.882Z"
   },
   {
    "duration": 2620,
    "start_time": "2024-02-23T00:12:55.926Z"
   },
   {
    "duration": 2542,
    "start_time": "2024-02-23T00:13:42.021Z"
   },
   {
    "duration": 1683,
    "start_time": "2024-02-23T00:22:14.675Z"
   },
   {
    "duration": 1522,
    "start_time": "2024-02-23T00:22:44.032Z"
   },
   {
    "duration": 20,
    "start_time": "2024-02-23T00:22:54.322Z"
   },
   {
    "duration": 1830,
    "start_time": "2024-02-23T00:24:59.725Z"
   },
   {
    "duration": 2004,
    "start_time": "2024-02-23T00:25:16.941Z"
   },
   {
    "duration": 1520,
    "start_time": "2024-02-23T00:28:09.956Z"
   },
   {
    "duration": 15,
    "start_time": "2024-02-23T00:28:19.156Z"
   },
   {
    "duration": 1519,
    "start_time": "2024-02-23T00:30:44.999Z"
   },
   {
    "duration": 14,
    "start_time": "2024-02-23T00:30:50.912Z"
   },
   {
    "duration": 14,
    "start_time": "2024-02-23T00:31:08.255Z"
   },
   {
    "duration": 20,
    "start_time": "2024-02-23T00:31:18.687Z"
   },
   {
    "duration": 24,
    "start_time": "2024-02-23T00:31:34.335Z"
   },
   {
    "duration": 15,
    "start_time": "2024-02-23T00:32:37.003Z"
   },
   {
    "duration": 5,
    "start_time": "2024-02-23T00:32:49.184Z"
   },
   {
    "duration": 4,
    "start_time": "2024-02-23T00:33:04.066Z"
   },
   {
    "duration": 1513,
    "start_time": "2024-02-23T00:33:36.374Z"
   },
   {
    "duration": 15,
    "start_time": "2024-02-23T00:33:46.169Z"
   },
   {
    "duration": 16,
    "start_time": "2024-02-23T00:34:24.499Z"
   },
   {
    "duration": 15,
    "start_time": "2024-02-23T00:34:26.906Z"
   },
   {
    "duration": 1534,
    "start_time": "2024-02-23T00:34:59.947Z"
   },
   {
    "duration": 15,
    "start_time": "2024-02-23T00:35:07.288Z"
   },
   {
    "duration": 15,
    "start_time": "2024-02-23T00:35:42.409Z"
   },
   {
    "duration": 15,
    "start_time": "2024-02-23T00:35:55.390Z"
   },
   {
    "duration": 14,
    "start_time": "2024-02-23T00:36:02.862Z"
   },
   {
    "duration": 15,
    "start_time": "2024-02-23T00:36:13.972Z"
   },
   {
    "duration": 14,
    "start_time": "2024-02-23T00:36:19.155Z"
   },
   {
    "duration": 1531,
    "start_time": "2024-02-23T00:36:50.174Z"
   },
   {
    "duration": 1513,
    "start_time": "2024-02-23T00:37:22.277Z"
   },
   {
    "duration": 6,
    "start_time": "2024-02-23T00:37:27.691Z"
   },
   {
    "duration": 17,
    "start_time": "2024-02-23T00:37:31.473Z"
   },
   {
    "duration": 1522,
    "start_time": "2024-02-23T00:37:37.442Z"
   },
   {
    "duration": 16,
    "start_time": "2024-02-23T00:41:17.307Z"
   },
   {
    "duration": 22,
    "start_time": "2024-02-23T00:41:55.957Z"
   },
   {
    "duration": 16,
    "start_time": "2024-02-23T00:42:22.195Z"
   },
   {
    "duration": 21,
    "start_time": "2024-02-23T00:42:31.095Z"
   },
   {
    "duration": 22,
    "start_time": "2024-02-23T00:42:37.031Z"
   },
   {
    "duration": 86,
    "start_time": "2024-02-23T00:43:43.814Z"
   },
   {
    "duration": 3653,
    "start_time": "2024-02-23T00:44:14.125Z"
   },
   {
    "duration": 85,
    "start_time": "2024-02-23T00:44:27.100Z"
   },
   {
    "duration": 13,
    "start_time": "2024-02-23T00:45:20.183Z"
   },
   {
    "duration": 16,
    "start_time": "2024-02-23T00:45:44.000Z"
   },
   {
    "duration": 4038,
    "start_time": "2024-02-23T00:47:11.857Z"
   },
   {
    "duration": 72,
    "start_time": "2024-02-23T00:47:33.153Z"
   },
   {
    "duration": 15,
    "start_time": "2024-02-23T00:47:51.999Z"
   },
   {
    "duration": 2155,
    "start_time": "2024-02-23T00:48:17.546Z"
   },
   {
    "duration": 5,
    "start_time": "2024-02-23T00:48:19.703Z"
   },
   {
    "duration": 47,
    "start_time": "2024-02-23T00:48:19.710Z"
   },
   {
    "duration": 27,
    "start_time": "2024-02-23T00:48:19.759Z"
   },
   {
    "duration": 34,
    "start_time": "2024-02-23T00:48:19.787Z"
   },
   {
    "duration": 23,
    "start_time": "2024-02-23T00:48:19.822Z"
   },
   {
    "duration": 10,
    "start_time": "2024-02-23T00:48:19.847Z"
   },
   {
    "duration": 10,
    "start_time": "2024-02-23T00:48:19.858Z"
   },
   {
    "duration": 17,
    "start_time": "2024-02-23T00:48:19.869Z"
   },
   {
    "duration": 17,
    "start_time": "2024-02-23T00:48:19.888Z"
   },
   {
    "duration": 8,
    "start_time": "2024-02-23T00:48:19.945Z"
   },
   {
    "duration": 11,
    "start_time": "2024-02-23T00:48:19.954Z"
   },
   {
    "duration": 19,
    "start_time": "2024-02-23T00:48:19.966Z"
   },
   {
    "duration": 6,
    "start_time": "2024-02-23T00:48:19.986Z"
   },
   {
    "duration": 7,
    "start_time": "2024-02-23T00:48:19.993Z"
   },
   {
    "duration": 447,
    "start_time": "2024-02-23T00:48:20.001Z"
   },
   {
    "duration": 455,
    "start_time": "2024-02-23T00:48:20.449Z"
   },
   {
    "duration": 127,
    "start_time": "2024-02-23T00:48:20.905Z"
   },
   {
    "duration": 432,
    "start_time": "2024-02-23T00:48:21.033Z"
   },
   {
    "duration": 420,
    "start_time": "2024-02-23T00:48:21.466Z"
   },
   {
    "duration": 1146,
    "start_time": "2024-02-23T00:48:21.887Z"
   },
   {
    "duration": 10,
    "start_time": "2024-02-23T00:48:23.035Z"
   },
   {
    "duration": 4,
    "start_time": "2024-02-23T00:48:23.046Z"
   },
   {
    "duration": 2221,
    "start_time": "2024-02-23T00:48:23.051Z"
   },
   {
    "duration": 89,
    "start_time": "2024-02-23T00:48:25.274Z"
   },
   {
    "duration": 0,
    "start_time": "2024-02-23T00:48:25.365Z"
   },
   {
    "duration": 0,
    "start_time": "2024-02-23T00:48:25.367Z"
   },
   {
    "duration": 0,
    "start_time": "2024-02-23T00:48:25.367Z"
   },
   {
    "duration": 0,
    "start_time": "2024-02-23T00:48:25.368Z"
   },
   {
    "duration": 0,
    "start_time": "2024-02-23T00:48:25.369Z"
   },
   {
    "duration": 0,
    "start_time": "2024-02-23T00:48:25.370Z"
   },
   {
    "duration": 0,
    "start_time": "2024-02-23T00:48:25.371Z"
   },
   {
    "duration": 0,
    "start_time": "2024-02-23T00:48:25.371Z"
   },
   {
    "duration": 0,
    "start_time": "2024-02-23T00:48:25.372Z"
   },
   {
    "duration": 0,
    "start_time": "2024-02-23T00:48:25.373Z"
   },
   {
    "duration": 0,
    "start_time": "2024-02-23T00:48:25.374Z"
   },
   {
    "duration": 0,
    "start_time": "2024-02-23T00:48:25.375Z"
   },
   {
    "duration": 0,
    "start_time": "2024-02-23T00:48:25.376Z"
   },
   {
    "duration": 0,
    "start_time": "2024-02-23T00:48:25.377Z"
   },
   {
    "duration": 16,
    "start_time": "2024-02-23T00:49:32.246Z"
   },
   {
    "duration": 2126,
    "start_time": "2024-02-23T00:49:44.117Z"
   },
   {
    "duration": 1311,
    "start_time": "2024-02-23T00:49:46.246Z"
   },
   {
    "duration": 47,
    "start_time": "2024-02-23T00:49:47.559Z"
   },
   {
    "duration": 28,
    "start_time": "2024-02-23T00:49:47.608Z"
   },
   {
    "duration": 34,
    "start_time": "2024-02-23T00:49:47.638Z"
   },
   {
    "duration": 22,
    "start_time": "2024-02-23T00:49:47.674Z"
   },
   {
    "duration": 13,
    "start_time": "2024-02-23T00:49:47.698Z"
   },
   {
    "duration": 10,
    "start_time": "2024-02-23T00:49:47.713Z"
   },
   {
    "duration": 29,
    "start_time": "2024-02-23T00:49:47.724Z"
   },
   {
    "duration": 16,
    "start_time": "2024-02-23T00:49:47.755Z"
   },
   {
    "duration": 7,
    "start_time": "2024-02-23T00:49:47.773Z"
   },
   {
    "duration": 20,
    "start_time": "2024-02-23T00:49:47.781Z"
   },
   {
    "duration": 44,
    "start_time": "2024-02-23T00:49:47.802Z"
   },
   {
    "duration": 5,
    "start_time": "2024-02-23T00:49:47.847Z"
   },
   {
    "duration": 7,
    "start_time": "2024-02-23T00:49:47.853Z"
   },
   {
    "duration": 468,
    "start_time": "2024-02-23T00:49:47.861Z"
   },
   {
    "duration": 362,
    "start_time": "2024-02-23T00:49:48.331Z"
   },
   {
    "duration": 185,
    "start_time": "2024-02-23T00:49:48.694Z"
   },
   {
    "duration": 402,
    "start_time": "2024-02-23T00:49:48.880Z"
   },
   {
    "duration": 429,
    "start_time": "2024-02-23T00:49:49.283Z"
   },
   {
    "duration": 1156,
    "start_time": "2024-02-23T00:49:49.714Z"
   },
   {
    "duration": 4,
    "start_time": "2024-02-23T00:49:50.871Z"
   },
   {
    "duration": 62,
    "start_time": "2024-02-23T00:49:50.876Z"
   },
   {
    "duration": 1499,
    "start_time": "2024-02-23T00:49:50.940Z"
   },
   {
    "duration": 18,
    "start_time": "2024-02-23T00:49:52.440Z"
   },
   {
    "duration": 52,
    "start_time": "2024-02-23T00:49:52.459Z"
   },
   {
    "duration": 33,
    "start_time": "2024-02-23T00:49:52.512Z"
   },
   {
    "duration": 21,
    "start_time": "2024-02-23T00:49:52.547Z"
   },
   {
    "duration": 22,
    "start_time": "2024-02-23T00:49:52.569Z"
   },
   {
    "duration": 60,
    "start_time": "2024-02-23T00:49:52.592Z"
   },
   {
    "duration": 461,
    "start_time": "2024-02-23T00:49:52.653Z"
   },
   {
    "duration": 14,
    "start_time": "2024-02-23T00:49:53.115Z"
   },
   {
    "duration": 50,
    "start_time": "2024-02-23T00:49:53.130Z"
   },
   {
    "duration": 6,
    "start_time": "2024-02-23T00:49:53.181Z"
   },
   {
    "duration": 147,
    "start_time": "2024-02-23T00:49:53.188Z"
   },
   {
    "duration": 1064,
    "start_time": "2024-02-23T00:49:53.336Z"
   },
   {
    "duration": 14,
    "start_time": "2024-02-23T00:49:54.402Z"
   },
   {
    "duration": 3664,
    "start_time": "2024-02-23T00:49:54.417Z"
   },
   {
    "duration": 148,
    "start_time": "2024-02-23T00:49:58.082Z"
   },
   {
    "duration": 56,
    "start_time": "2024-02-23T00:51:01.530Z"
   },
   {
    "duration": 53,
    "start_time": "2024-02-23T00:51:33.779Z"
   },
   {
    "duration": 61,
    "start_time": "2024-02-23T00:52:01.455Z"
   },
   {
    "duration": 55,
    "start_time": "2024-02-23T00:52:30.352Z"
   },
   {
    "duration": 70,
    "start_time": "2024-02-23T01:09:51.233Z"
   },
   {
    "duration": 10,
    "start_time": "2024-02-23T01:13:38.168Z"
   },
   {
    "duration": 10,
    "start_time": "2024-02-23T01:14:05.958Z"
   },
   {
    "duration": 14,
    "start_time": "2024-02-23T01:14:25.773Z"
   },
   {
    "duration": 20247,
    "start_time": "2024-02-23T01:14:35.200Z"
   },
   {
    "duration": 23820,
    "start_time": "2024-02-23T01:15:36.253Z"
   },
   {
    "duration": 26083,
    "start_time": "2024-02-23T01:16:39.665Z"
   },
   {
    "duration": 8505,
    "start_time": "2024-02-23T01:18:29.672Z"
   },
   {
    "duration": 63,
    "start_time": "2024-02-23T01:21:37.150Z"
   },
   {
    "duration": 3903,
    "start_time": "2024-02-23T01:21:53.617Z"
   },
   {
    "duration": 42,
    "start_time": "2024-02-23T01:22:02.366Z"
   },
   {
    "duration": 3779,
    "start_time": "2024-02-23T01:22:11.202Z"
   },
   {
    "duration": 16,
    "start_time": "2024-02-23T01:22:21.665Z"
   },
   {
    "duration": 1124,
    "start_time": "2024-02-23T01:22:40.544Z"
   },
   {
    "duration": 18,
    "start_time": "2024-02-23T01:22:48.662Z"
   },
   {
    "duration": 3227,
    "start_time": "2024-02-23T01:23:02.708Z"
   },
   {
    "duration": 15,
    "start_time": "2024-02-23T01:23:11.928Z"
   },
   {
    "duration": 3129,
    "start_time": "2024-02-23T01:23:21.946Z"
   },
   {
    "duration": 5809,
    "start_time": "2024-02-23T01:23:35.848Z"
   },
   {
    "duration": 19,
    "start_time": "2024-02-23T01:23:50.527Z"
   },
   {
    "duration": 3694,
    "start_time": "2024-02-23T01:24:10.451Z"
   },
   {
    "duration": 61,
    "start_time": "2024-02-23T01:24:19.966Z"
   },
   {
    "duration": 2700,
    "start_time": "2024-02-23T01:24:26.179Z"
   },
   {
    "duration": 77,
    "start_time": "2024-02-23T01:24:33.026Z"
   },
   {
    "duration": 6791,
    "start_time": "2024-02-23T01:24:41.066Z"
   },
   {
    "duration": 52,
    "start_time": "2024-02-23T01:24:58.157Z"
   },
   {
    "duration": 4326,
    "start_time": "2024-02-23T01:27:28.625Z"
   },
   {
    "duration": 77,
    "start_time": "2024-02-23T01:28:02.927Z"
   },
   {
    "duration": 56,
    "start_time": "2024-02-23T01:28:08.683Z"
   },
   {
    "duration": 56,
    "start_time": "2024-02-23T01:28:36.780Z"
   },
   {
    "duration": 56,
    "start_time": "2024-02-23T01:28:44.930Z"
   },
   {
    "duration": 1961,
    "start_time": "2024-02-23T01:28:52.253Z"
   },
   {
    "duration": 9,
    "start_time": "2024-02-23T01:31:07.861Z"
   },
   {
    "duration": 8,
    "start_time": "2024-02-23T01:32:47.791Z"
   },
   {
    "duration": 9,
    "start_time": "2024-02-23T01:32:53.154Z"
   },
   {
    "duration": 9,
    "start_time": "2024-02-23T01:35:13.665Z"
   },
   {
    "duration": 8,
    "start_time": "2024-02-23T01:36:40.176Z"
   },
   {
    "duration": 9,
    "start_time": "2024-02-23T01:36:50.004Z"
   },
   {
    "duration": 52,
    "start_time": "2024-02-23T01:37:25.457Z"
   },
   {
    "duration": 2214,
    "start_time": "2024-02-23T01:37:34.357Z"
   },
   {
    "duration": 1303,
    "start_time": "2024-02-23T01:37:36.573Z"
   },
   {
    "duration": 52,
    "start_time": "2024-02-23T01:37:37.877Z"
   },
   {
    "duration": 31,
    "start_time": "2024-02-23T01:37:37.931Z"
   },
   {
    "duration": 40,
    "start_time": "2024-02-23T01:37:37.963Z"
   },
   {
    "duration": 39,
    "start_time": "2024-02-23T01:37:38.005Z"
   },
   {
    "duration": 16,
    "start_time": "2024-02-23T01:37:38.045Z"
   },
   {
    "duration": 25,
    "start_time": "2024-02-23T01:37:38.062Z"
   },
   {
    "duration": 39,
    "start_time": "2024-02-23T01:37:38.089Z"
   },
   {
    "duration": 20,
    "start_time": "2024-02-23T01:37:38.132Z"
   },
   {
    "duration": 9,
    "start_time": "2024-02-23T01:37:38.153Z"
   },
   {
    "duration": 24,
    "start_time": "2024-02-23T01:37:38.164Z"
   },
   {
    "duration": 28,
    "start_time": "2024-02-23T01:37:38.190Z"
   },
   {
    "duration": 7,
    "start_time": "2024-02-23T01:37:38.220Z"
   },
   {
    "duration": 5,
    "start_time": "2024-02-23T01:37:38.229Z"
   },
   {
    "duration": 504,
    "start_time": "2024-02-23T01:37:38.235Z"
   },
   {
    "duration": 376,
    "start_time": "2024-02-23T01:37:38.741Z"
   },
   {
    "duration": 204,
    "start_time": "2024-02-23T01:37:39.119Z"
   },
   {
    "duration": 442,
    "start_time": "2024-02-23T01:37:39.325Z"
   },
   {
    "duration": 439,
    "start_time": "2024-02-23T01:37:39.768Z"
   },
   {
    "duration": 1217,
    "start_time": "2024-02-23T01:37:40.209Z"
   },
   {
    "duration": 4,
    "start_time": "2024-02-23T01:37:41.428Z"
   },
   {
    "duration": 41,
    "start_time": "2024-02-23T01:37:41.434Z"
   },
   {
    "duration": 1607,
    "start_time": "2024-02-23T01:37:41.477Z"
   },
   {
    "duration": 17,
    "start_time": "2024-02-23T01:37:43.086Z"
   },
   {
    "duration": 44,
    "start_time": "2024-02-23T01:37:43.105Z"
   },
   {
    "duration": 36,
    "start_time": "2024-02-23T01:37:43.150Z"
   },
   {
    "duration": 22,
    "start_time": "2024-02-23T01:37:43.189Z"
   },
   {
    "duration": 6,
    "start_time": "2024-02-23T01:37:43.212Z"
   },
   {
    "duration": 7,
    "start_time": "2024-02-23T01:37:43.220Z"
   },
   {
    "duration": 480,
    "start_time": "2024-02-23T01:37:43.228Z"
   },
   {
    "duration": 15,
    "start_time": "2024-02-23T01:37:43.709Z"
   },
   {
    "duration": 33,
    "start_time": "2024-02-23T01:37:43.726Z"
   },
   {
    "duration": 6,
    "start_time": "2024-02-23T01:37:43.761Z"
   },
   {
    "duration": 170,
    "start_time": "2024-02-23T01:37:43.768Z"
   },
   {
    "duration": 1086,
    "start_time": "2024-02-23T01:37:43.939Z"
   },
   {
    "duration": 24,
    "start_time": "2024-02-23T01:37:45.027Z"
   },
   {
    "duration": 4338,
    "start_time": "2024-02-23T01:37:45.052Z"
   },
   {
    "duration": 58,
    "start_time": "2024-02-23T01:37:49.391Z"
   },
   {
    "duration": 2118,
    "start_time": "2024-02-23T08:43:35.095Z"
   },
   {
    "duration": 1332,
    "start_time": "2024-02-23T08:43:37.216Z"
   },
   {
    "duration": 49,
    "start_time": "2024-02-23T08:43:38.552Z"
   },
   {
    "duration": 29,
    "start_time": "2024-02-23T08:43:38.602Z"
   },
   {
    "duration": 34,
    "start_time": "2024-02-23T08:43:38.632Z"
   },
   {
    "duration": 19,
    "start_time": "2024-02-23T08:43:38.668Z"
   },
   {
    "duration": 10,
    "start_time": "2024-02-23T08:43:38.689Z"
   },
   {
    "duration": 13,
    "start_time": "2024-02-23T08:43:38.700Z"
   },
   {
    "duration": 33,
    "start_time": "2024-02-23T08:43:38.716Z"
   },
   {
    "duration": 16,
    "start_time": "2024-02-23T08:43:38.750Z"
   },
   {
    "duration": 7,
    "start_time": "2024-02-23T08:43:38.768Z"
   },
   {
    "duration": 35,
    "start_time": "2024-02-23T08:43:38.776Z"
   },
   {
    "duration": 36,
    "start_time": "2024-02-23T08:43:38.812Z"
   },
   {
    "duration": 5,
    "start_time": "2024-02-23T08:43:38.849Z"
   },
   {
    "duration": 5,
    "start_time": "2024-02-23T08:43:38.856Z"
   },
   {
    "duration": 466,
    "start_time": "2024-02-23T08:43:38.862Z"
   },
   {
    "duration": 381,
    "start_time": "2024-02-23T08:43:39.329Z"
   },
   {
    "duration": 185,
    "start_time": "2024-02-23T08:43:39.711Z"
   },
   {
    "duration": 427,
    "start_time": "2024-02-23T08:43:39.898Z"
   },
   {
    "duration": 414,
    "start_time": "2024-02-23T08:43:40.326Z"
   },
   {
    "duration": 1182,
    "start_time": "2024-02-23T08:43:40.744Z"
   },
   {
    "duration": 3,
    "start_time": "2024-02-23T08:43:41.928Z"
   },
   {
    "duration": 20,
    "start_time": "2024-02-23T08:43:41.932Z"
   },
   {
    "duration": 1509,
    "start_time": "2024-02-23T08:43:41.953Z"
   },
   {
    "duration": 17,
    "start_time": "2024-02-23T08:43:43.464Z"
   },
   {
    "duration": 54,
    "start_time": "2024-02-23T08:43:43.482Z"
   },
   {
    "duration": 34,
    "start_time": "2024-02-23T08:43:43.538Z"
   },
   {
    "duration": 19,
    "start_time": "2024-02-23T08:43:43.573Z"
   },
   {
    "duration": 9,
    "start_time": "2024-02-23T08:43:43.594Z"
   },
   {
    "duration": 24,
    "start_time": "2024-02-23T08:43:43.604Z"
   },
   {
    "duration": 463,
    "start_time": "2024-02-23T08:43:43.630Z"
   },
   {
    "duration": 14,
    "start_time": "2024-02-23T08:43:44.094Z"
   },
   {
    "duration": 53,
    "start_time": "2024-02-23T08:43:44.110Z"
   },
   {
    "duration": 33,
    "start_time": "2024-02-23T08:43:44.164Z"
   },
   {
    "duration": 177,
    "start_time": "2024-02-23T08:43:44.199Z"
   },
   {
    "duration": 1040,
    "start_time": "2024-02-23T08:43:44.377Z"
   },
   {
    "duration": 15,
    "start_time": "2024-02-23T08:43:45.418Z"
   },
   {
    "duration": 1905,
    "start_time": "2024-02-23T08:43:45.444Z"
   },
   {
    "duration": 59,
    "start_time": "2024-02-23T08:43:47.350Z"
   },
   {
    "duration": 10,
    "start_time": "2024-02-23T08:44:41.109Z"
   },
   {
    "duration": 7,
    "start_time": "2024-02-23T08:45:17.035Z"
   },
   {
    "duration": 103,
    "start_time": "2024-02-23T08:46:14.101Z"
   },
   {
    "duration": 7,
    "start_time": "2024-02-23T08:46:26.487Z"
   },
   {
    "duration": 12,
    "start_time": "2024-02-23T08:46:46.412Z"
   },
   {
    "duration": 17,
    "start_time": "2024-02-23T08:48:59.710Z"
   },
   {
    "duration": 16,
    "start_time": "2024-02-23T08:49:17.803Z"
   },
   {
    "duration": 12,
    "start_time": "2024-02-23T08:49:49.393Z"
   },
   {
    "duration": 5,
    "start_time": "2024-02-23T08:50:56.229Z"
   },
   {
    "duration": 10,
    "start_time": "2024-02-23T08:51:02.485Z"
   },
   {
    "duration": 5,
    "start_time": "2024-02-23T08:51:31.385Z"
   },
   {
    "duration": 2154,
    "start_time": "2024-02-23T08:51:53.732Z"
   },
   {
    "duration": 1230,
    "start_time": "2024-02-23T08:51:55.888Z"
   },
   {
    "duration": 55,
    "start_time": "2024-02-23T08:51:57.119Z"
   },
   {
    "duration": 39,
    "start_time": "2024-02-23T08:51:57.176Z"
   },
   {
    "duration": 39,
    "start_time": "2024-02-23T08:51:57.217Z"
   },
   {
    "duration": 26,
    "start_time": "2024-02-23T08:51:57.258Z"
   },
   {
    "duration": 14,
    "start_time": "2024-02-23T08:51:57.285Z"
   },
   {
    "duration": 13,
    "start_time": "2024-02-23T08:51:57.300Z"
   },
   {
    "duration": 44,
    "start_time": "2024-02-23T08:51:57.314Z"
   },
   {
    "duration": 23,
    "start_time": "2024-02-23T08:51:57.360Z"
   },
   {
    "duration": 8,
    "start_time": "2024-02-23T08:51:57.384Z"
   },
   {
    "duration": 12,
    "start_time": "2024-02-23T08:51:57.394Z"
   },
   {
    "duration": 44,
    "start_time": "2024-02-23T08:51:57.407Z"
   },
   {
    "duration": 6,
    "start_time": "2024-02-23T08:51:57.452Z"
   },
   {
    "duration": 6,
    "start_time": "2024-02-23T08:51:57.460Z"
   },
   {
    "duration": 496,
    "start_time": "2024-02-23T08:51:57.467Z"
   },
   {
    "duration": 396,
    "start_time": "2024-02-23T08:51:57.964Z"
   },
   {
    "duration": 186,
    "start_time": "2024-02-23T08:51:58.362Z"
   },
   {
    "duration": 423,
    "start_time": "2024-02-23T08:51:58.549Z"
   },
   {
    "duration": 416,
    "start_time": "2024-02-23T08:51:58.974Z"
   },
   {
    "duration": 1194,
    "start_time": "2024-02-23T08:51:59.392Z"
   },
   {
    "duration": 3,
    "start_time": "2024-02-23T08:52:00.588Z"
   },
   {
    "duration": 561,
    "start_time": "2024-02-23T08:52:00.593Z"
   },
   {
    "duration": 2221,
    "start_time": "2024-02-23T08:52:01.155Z"
   },
   {
    "duration": 4,
    "start_time": "2024-02-23T08:52:03.378Z"
   },
   {
    "duration": 110,
    "start_time": "2024-02-23T08:52:03.383Z"
   },
   {
    "duration": 0,
    "start_time": "2024-02-23T08:52:03.495Z"
   },
   {
    "duration": 0,
    "start_time": "2024-02-23T08:52:03.496Z"
   },
   {
    "duration": 0,
    "start_time": "2024-02-23T08:52:03.496Z"
   },
   {
    "duration": 0,
    "start_time": "2024-02-23T08:52:03.498Z"
   },
   {
    "duration": 0,
    "start_time": "2024-02-23T08:52:03.499Z"
   },
   {
    "duration": 0,
    "start_time": "2024-02-23T08:52:03.500Z"
   },
   {
    "duration": 0,
    "start_time": "2024-02-23T08:52:03.501Z"
   },
   {
    "duration": 0,
    "start_time": "2024-02-23T08:52:03.502Z"
   },
   {
    "duration": 0,
    "start_time": "2024-02-23T08:52:03.503Z"
   },
   {
    "duration": 0,
    "start_time": "2024-02-23T08:52:03.504Z"
   },
   {
    "duration": 0,
    "start_time": "2024-02-23T08:52:03.505Z"
   },
   {
    "duration": 0,
    "start_time": "2024-02-23T08:52:03.506Z"
   },
   {
    "duration": 0,
    "start_time": "2024-02-23T08:52:03.507Z"
   },
   {
    "duration": 0,
    "start_time": "2024-02-23T08:52:03.508Z"
   },
   {
    "duration": 0,
    "start_time": "2024-02-23T08:52:03.509Z"
   },
   {
    "duration": 0,
    "start_time": "2024-02-23T08:52:03.510Z"
   },
   {
    "duration": 10,
    "start_time": "2024-02-23T08:52:25.849Z"
   },
   {
    "duration": 10,
    "start_time": "2024-02-23T08:53:20.823Z"
   },
   {
    "duration": 5,
    "start_time": "2024-02-23T08:53:35.033Z"
   },
   {
    "duration": 14,
    "start_time": "2024-02-23T08:53:40.073Z"
   },
   {
    "duration": 2223,
    "start_time": "2024-02-23T08:53:59.747Z"
   },
   {
    "duration": 5,
    "start_time": "2024-02-23T08:54:01.972Z"
   },
   {
    "duration": 97,
    "start_time": "2024-02-23T08:54:01.978Z"
   },
   {
    "duration": 28,
    "start_time": "2024-02-23T08:54:02.076Z"
   },
   {
    "duration": 34,
    "start_time": "2024-02-23T08:54:02.105Z"
   },
   {
    "duration": 23,
    "start_time": "2024-02-23T08:54:02.140Z"
   },
   {
    "duration": 27,
    "start_time": "2024-02-23T08:54:02.164Z"
   },
   {
    "duration": 64,
    "start_time": "2024-02-23T08:54:02.192Z"
   },
   {
    "duration": 33,
    "start_time": "2024-02-23T08:54:02.257Z"
   },
   {
    "duration": 26,
    "start_time": "2024-02-23T08:54:02.292Z"
   },
   {
    "duration": 20,
    "start_time": "2024-02-23T08:54:02.319Z"
   },
   {
    "duration": 18,
    "start_time": "2024-02-23T08:54:02.340Z"
   },
   {
    "duration": 37,
    "start_time": "2024-02-23T08:54:02.359Z"
   },
   {
    "duration": 7,
    "start_time": "2024-02-23T08:54:02.398Z"
   },
   {
    "duration": 20,
    "start_time": "2024-02-23T08:54:02.406Z"
   },
   {
    "duration": 515,
    "start_time": "2024-02-23T08:54:02.427Z"
   },
   {
    "duration": 349,
    "start_time": "2024-02-23T08:54:02.945Z"
   },
   {
    "duration": 114,
    "start_time": "2024-02-23T08:54:03.296Z"
   },
   {
    "duration": 398,
    "start_time": "2024-02-23T08:54:03.411Z"
   },
   {
    "duration": 427,
    "start_time": "2024-02-23T08:54:03.810Z"
   },
   {
    "duration": 1091,
    "start_time": "2024-02-23T08:54:04.238Z"
   },
   {
    "duration": 3,
    "start_time": "2024-02-23T08:54:05.330Z"
   },
   {
    "duration": 13,
    "start_time": "2024-02-23T08:54:05.345Z"
   },
   {
    "duration": 2015,
    "start_time": "2024-02-23T08:54:05.360Z"
   },
   {
    "duration": 10,
    "start_time": "2024-02-23T08:54:07.376Z"
   },
   {
    "duration": 12,
    "start_time": "2024-02-23T08:54:17.298Z"
   },
   {
    "duration": 22,
    "start_time": "2024-02-23T08:54:20.727Z"
   },
   {
    "duration": 15,
    "start_time": "2024-02-23T08:54:46.852Z"
   },
   {
    "duration": 14,
    "start_time": "2024-02-23T08:55:00.679Z"
   },
   {
    "duration": 2130,
    "start_time": "2024-02-23T08:55:32.350Z"
   },
   {
    "duration": 1272,
    "start_time": "2024-02-23T08:55:34.482Z"
   },
   {
    "duration": 48,
    "start_time": "2024-02-23T08:55:35.756Z"
   },
   {
    "duration": 28,
    "start_time": "2024-02-23T08:55:35.806Z"
   },
   {
    "duration": 34,
    "start_time": "2024-02-23T08:55:35.836Z"
   },
   {
    "duration": 19,
    "start_time": "2024-02-23T08:55:35.871Z"
   },
   {
    "duration": 10,
    "start_time": "2024-02-23T08:55:35.891Z"
   },
   {
    "duration": 20,
    "start_time": "2024-02-23T08:55:35.902Z"
   },
   {
    "duration": 53,
    "start_time": "2024-02-23T08:55:35.923Z"
   },
   {
    "duration": 19,
    "start_time": "2024-02-23T08:55:35.978Z"
   },
   {
    "duration": 23,
    "start_time": "2024-02-23T08:55:35.998Z"
   },
   {
    "duration": 38,
    "start_time": "2024-02-23T08:55:36.022Z"
   },
   {
    "duration": 24,
    "start_time": "2024-02-23T08:55:36.062Z"
   },
   {
    "duration": 8,
    "start_time": "2024-02-23T08:55:36.087Z"
   },
   {
    "duration": 13,
    "start_time": "2024-02-23T08:55:36.097Z"
   },
   {
    "duration": 525,
    "start_time": "2024-02-23T08:55:36.111Z"
   },
   {
    "duration": 365,
    "start_time": "2024-02-23T08:55:36.637Z"
   },
   {
    "duration": 180,
    "start_time": "2024-02-23T08:55:37.004Z"
   },
   {
    "duration": 437,
    "start_time": "2024-02-23T08:55:37.186Z"
   },
   {
    "duration": 434,
    "start_time": "2024-02-23T08:55:37.625Z"
   },
   {
    "duration": 1186,
    "start_time": "2024-02-23T08:55:38.060Z"
   },
   {
    "duration": 4,
    "start_time": "2024-02-23T08:55:39.247Z"
   },
   {
    "duration": 9,
    "start_time": "2024-02-23T08:55:39.252Z"
   },
   {
    "duration": 2172,
    "start_time": "2024-02-23T08:55:39.262Z"
   },
   {
    "duration": 13,
    "start_time": "2024-02-23T08:55:41.435Z"
   },
   {
    "duration": 14,
    "start_time": "2024-02-23T08:55:41.450Z"
   },
   {
    "duration": 18,
    "start_time": "2024-02-23T08:55:41.466Z"
   },
   {
    "duration": 43,
    "start_time": "2024-02-23T08:55:41.487Z"
   },
   {
    "duration": 34,
    "start_time": "2024-02-23T08:55:41.531Z"
   },
   {
    "duration": 21,
    "start_time": "2024-02-23T08:55:41.566Z"
   },
   {
    "duration": 4,
    "start_time": "2024-02-23T08:55:41.588Z"
   },
   {
    "duration": 13,
    "start_time": "2024-02-23T08:55:41.594Z"
   },
   {
    "duration": 451,
    "start_time": "2024-02-23T08:55:41.609Z"
   },
   {
    "duration": 15,
    "start_time": "2024-02-23T08:55:42.061Z"
   },
   {
    "duration": 46,
    "start_time": "2024-02-23T08:55:42.077Z"
   },
   {
    "duration": 7,
    "start_time": "2024-02-23T08:55:42.124Z"
   },
   {
    "duration": 161,
    "start_time": "2024-02-23T08:55:42.132Z"
   },
   {
    "duration": 1094,
    "start_time": "2024-02-23T08:55:42.294Z"
   },
   {
    "duration": 16,
    "start_time": "2024-02-23T08:55:43.389Z"
   },
   {
    "duration": 3791,
    "start_time": "2024-02-23T08:55:43.407Z"
   },
   {
    "duration": 77,
    "start_time": "2024-02-23T08:55:47.199Z"
   },
   {
    "duration": 99,
    "start_time": "2024-02-23T08:56:26.334Z"
   },
   {
    "duration": 12,
    "start_time": "2024-02-23T08:57:56.008Z"
   },
   {
    "duration": 15,
    "start_time": "2024-02-23T08:58:28.948Z"
   },
   {
    "duration": 2120,
    "start_time": "2024-02-23T08:58:47.319Z"
   },
   {
    "duration": 1327,
    "start_time": "2024-02-23T08:58:49.441Z"
   },
   {
    "duration": 49,
    "start_time": "2024-02-23T08:58:50.769Z"
   },
   {
    "duration": 29,
    "start_time": "2024-02-23T08:58:50.819Z"
   },
   {
    "duration": 33,
    "start_time": "2024-02-23T08:58:50.849Z"
   },
   {
    "duration": 17,
    "start_time": "2024-02-23T08:58:50.883Z"
   },
   {
    "duration": 10,
    "start_time": "2024-02-23T08:58:50.901Z"
   },
   {
    "duration": 17,
    "start_time": "2024-02-23T08:58:50.912Z"
   },
   {
    "duration": 21,
    "start_time": "2024-02-23T08:58:50.931Z"
   },
   {
    "duration": 20,
    "start_time": "2024-02-23T08:58:50.955Z"
   },
   {
    "duration": 8,
    "start_time": "2024-02-23T08:58:50.977Z"
   },
   {
    "duration": 17,
    "start_time": "2024-02-23T08:58:50.987Z"
   },
   {
    "duration": 44,
    "start_time": "2024-02-23T08:58:51.005Z"
   },
   {
    "duration": 5,
    "start_time": "2024-02-23T08:58:51.051Z"
   },
   {
    "duration": 12,
    "start_time": "2024-02-23T08:58:51.058Z"
   },
   {
    "duration": 465,
    "start_time": "2024-02-23T08:58:51.071Z"
   },
   {
    "duration": 361,
    "start_time": "2024-02-23T08:58:51.544Z"
   },
   {
    "duration": 180,
    "start_time": "2024-02-23T08:58:51.907Z"
   },
   {
    "duration": 422,
    "start_time": "2024-02-23T08:58:52.088Z"
   },
   {
    "duration": 412,
    "start_time": "2024-02-23T08:58:52.511Z"
   },
   {
    "duration": 1217,
    "start_time": "2024-02-23T08:58:52.925Z"
   },
   {
    "duration": 3,
    "start_time": "2024-02-23T08:58:54.143Z"
   },
   {
    "duration": 13,
    "start_time": "2024-02-23T08:58:54.147Z"
   },
   {
    "duration": 1501,
    "start_time": "2024-02-23T08:58:54.161Z"
   },
   {
    "duration": 8,
    "start_time": "2024-02-23T08:58:55.664Z"
   },
   {
    "duration": 11,
    "start_time": "2024-02-23T08:58:55.673Z"
   },
   {
    "duration": 15,
    "start_time": "2024-02-23T08:58:55.685Z"
   },
   {
    "duration": 45,
    "start_time": "2024-02-23T08:58:55.702Z"
   },
   {
    "duration": 34,
    "start_time": "2024-02-23T08:58:55.748Z"
   },
   {
    "duration": 20,
    "start_time": "2024-02-23T08:58:55.783Z"
   },
   {
    "duration": 4,
    "start_time": "2024-02-23T08:58:55.804Z"
   },
   {
    "duration": 22,
    "start_time": "2024-02-23T08:58:55.809Z"
   },
   {
    "duration": 452,
    "start_time": "2024-02-23T08:58:55.832Z"
   },
   {
    "duration": 15,
    "start_time": "2024-02-23T08:58:56.286Z"
   },
   {
    "duration": 25,
    "start_time": "2024-02-23T08:58:56.302Z"
   },
   {
    "duration": 17,
    "start_time": "2024-02-23T08:58:56.328Z"
   },
   {
    "duration": 154,
    "start_time": "2024-02-23T08:58:56.347Z"
   },
   {
    "duration": 1076,
    "start_time": "2024-02-23T08:58:56.502Z"
   },
   {
    "duration": 14,
    "start_time": "2024-02-23T08:58:57.580Z"
   },
   {
    "duration": 4373,
    "start_time": "2024-02-23T08:58:57.595Z"
   },
   {
    "duration": 49,
    "start_time": "2024-02-23T08:59:01.969Z"
   },
   {
    "duration": 9,
    "start_time": "2024-02-23T08:59:56.791Z"
   },
   {
    "duration": 7,
    "start_time": "2024-02-23T09:01:55.704Z"
   },
   {
    "duration": 7,
    "start_time": "2024-02-23T09:01:58.796Z"
   },
   {
    "duration": 9,
    "start_time": "2024-02-23T09:02:38.217Z"
   },
   {
    "duration": 106,
    "start_time": "2024-02-23T09:03:05.394Z"
   },
   {
    "duration": 11,
    "start_time": "2024-02-23T09:03:23.218Z"
   },
   {
    "duration": 7,
    "start_time": "2024-02-23T09:03:34.346Z"
   },
   {
    "duration": 7,
    "start_time": "2024-02-23T09:03:58.273Z"
   },
   {
    "duration": 55,
    "start_time": "2024-02-23T09:04:07.641Z"
   },
   {
    "duration": 2186,
    "start_time": "2024-02-23T09:05:39.144Z"
   },
   {
    "duration": 1314,
    "start_time": "2024-02-23T09:05:41.332Z"
   },
   {
    "duration": 50,
    "start_time": "2024-02-23T09:05:42.647Z"
   },
   {
    "duration": 29,
    "start_time": "2024-02-23T09:05:42.698Z"
   },
   {
    "duration": 33,
    "start_time": "2024-02-23T09:05:42.728Z"
   },
   {
    "duration": 18,
    "start_time": "2024-02-23T09:05:42.763Z"
   },
   {
    "duration": 9,
    "start_time": "2024-02-23T09:05:42.782Z"
   },
   {
    "duration": 27,
    "start_time": "2024-02-23T09:05:42.793Z"
   },
   {
    "duration": 19,
    "start_time": "2024-02-23T09:05:42.821Z"
   },
   {
    "duration": 16,
    "start_time": "2024-02-23T09:05:42.845Z"
   },
   {
    "duration": 7,
    "start_time": "2024-02-23T09:05:42.863Z"
   },
   {
    "duration": 17,
    "start_time": "2024-02-23T09:05:42.871Z"
   },
   {
    "duration": 26,
    "start_time": "2024-02-23T09:05:42.889Z"
   },
   {
    "duration": 5,
    "start_time": "2024-02-23T09:05:42.916Z"
   },
   {
    "duration": 23,
    "start_time": "2024-02-23T09:05:42.922Z"
   },
   {
    "duration": 463,
    "start_time": "2024-02-23T09:05:42.946Z"
   },
   {
    "duration": 400,
    "start_time": "2024-02-23T09:05:43.411Z"
   },
   {
    "duration": 187,
    "start_time": "2024-02-23T09:05:43.812Z"
   },
   {
    "duration": 425,
    "start_time": "2024-02-23T09:05:44.001Z"
   },
   {
    "duration": 452,
    "start_time": "2024-02-23T09:05:44.428Z"
   },
   {
    "duration": 1273,
    "start_time": "2024-02-23T09:05:44.881Z"
   },
   {
    "duration": 3,
    "start_time": "2024-02-23T09:05:46.156Z"
   },
   {
    "duration": 32,
    "start_time": "2024-02-23T09:05:46.160Z"
   },
   {
    "duration": 1586,
    "start_time": "2024-02-23T09:05:46.193Z"
   },
   {
    "duration": 9,
    "start_time": "2024-02-23T09:05:47.780Z"
   },
   {
    "duration": 16,
    "start_time": "2024-02-23T09:05:47.790Z"
   },
   {
    "duration": 16,
    "start_time": "2024-02-23T09:05:47.807Z"
   },
   {
    "duration": 43,
    "start_time": "2024-02-23T09:05:47.826Z"
   },
   {
    "duration": 34,
    "start_time": "2024-02-23T09:05:47.870Z"
   },
   {
    "duration": 21,
    "start_time": "2024-02-23T09:05:47.905Z"
   },
   {
    "duration": 5,
    "start_time": "2024-02-23T09:05:47.927Z"
   },
   {
    "duration": 5,
    "start_time": "2024-02-23T09:05:47.944Z"
   },
   {
    "duration": 478,
    "start_time": "2024-02-23T09:05:47.951Z"
   },
   {
    "duration": 24,
    "start_time": "2024-02-23T09:05:48.430Z"
   },
   {
    "duration": 24,
    "start_time": "2024-02-23T09:05:48.455Z"
   },
   {
    "duration": 5,
    "start_time": "2024-02-23T09:05:48.481Z"
   },
   {
    "duration": 173,
    "start_time": "2024-02-23T09:05:48.487Z"
   },
   {
    "duration": 1081,
    "start_time": "2024-02-23T09:05:48.662Z"
   },
   {
    "duration": 15,
    "start_time": "2024-02-23T09:05:49.745Z"
   },
   {
    "duration": 3765,
    "start_time": "2024-02-23T09:05:49.762Z"
   },
   {
    "duration": 9,
    "start_time": "2024-02-23T09:05:53.528Z"
   },
   {
    "duration": 7,
    "start_time": "2024-02-23T09:05:53.544Z"
   },
   {
    "duration": 51,
    "start_time": "2024-02-23T09:05:53.553Z"
   },
   {
    "duration": 2193,
    "start_time": "2024-02-23T09:08:48.224Z"
   },
   {
    "duration": 1317,
    "start_time": "2024-02-23T09:08:50.419Z"
   },
   {
    "duration": 51,
    "start_time": "2024-02-23T09:08:51.738Z"
   },
   {
    "duration": 29,
    "start_time": "2024-02-23T09:08:51.790Z"
   },
   {
    "duration": 33,
    "start_time": "2024-02-23T09:08:51.820Z"
   },
   {
    "duration": 17,
    "start_time": "2024-02-23T09:08:51.855Z"
   },
   {
    "duration": 14,
    "start_time": "2024-02-23T09:08:51.873Z"
   },
   {
    "duration": 12,
    "start_time": "2024-02-23T09:08:51.888Z"
   },
   {
    "duration": 24,
    "start_time": "2024-02-23T09:08:51.902Z"
   },
   {
    "duration": 32,
    "start_time": "2024-02-23T09:08:51.928Z"
   },
   {
    "duration": 9,
    "start_time": "2024-02-23T09:08:51.961Z"
   },
   {
    "duration": 21,
    "start_time": "2024-02-23T09:08:51.971Z"
   },
   {
    "duration": 18,
    "start_time": "2024-02-23T09:08:51.993Z"
   },
   {
    "duration": 6,
    "start_time": "2024-02-23T09:08:52.012Z"
   },
   {
    "duration": 30,
    "start_time": "2024-02-23T09:08:52.019Z"
   },
   {
    "duration": 461,
    "start_time": "2024-02-23T09:08:52.051Z"
   },
   {
    "duration": 369,
    "start_time": "2024-02-23T09:08:52.514Z"
   },
   {
    "duration": 189,
    "start_time": "2024-02-23T09:08:52.885Z"
   },
   {
    "duration": 452,
    "start_time": "2024-02-23T09:08:53.076Z"
   },
   {
    "duration": 422,
    "start_time": "2024-02-23T09:08:53.530Z"
   },
   {
    "duration": 1188,
    "start_time": "2024-02-23T09:08:53.954Z"
   },
   {
    "duration": 3,
    "start_time": "2024-02-23T09:08:55.144Z"
   },
   {
    "duration": 15,
    "start_time": "2024-02-23T09:08:55.148Z"
   },
   {
    "duration": 1530,
    "start_time": "2024-02-23T09:08:55.164Z"
   },
   {
    "duration": 8,
    "start_time": "2024-02-23T09:08:56.696Z"
   },
   {
    "duration": 18,
    "start_time": "2024-02-23T09:08:56.706Z"
   },
   {
    "duration": 34,
    "start_time": "2024-02-23T09:08:56.725Z"
   },
   {
    "duration": 54,
    "start_time": "2024-02-23T09:08:56.763Z"
   },
   {
    "duration": 34,
    "start_time": "2024-02-23T09:08:56.819Z"
   },
   {
    "duration": 23,
    "start_time": "2024-02-23T09:08:56.854Z"
   },
   {
    "duration": 5,
    "start_time": "2024-02-23T09:08:56.878Z"
   },
   {
    "duration": 26,
    "start_time": "2024-02-23T09:08:56.884Z"
   },
   {
    "duration": 486,
    "start_time": "2024-02-23T09:08:56.911Z"
   },
   {
    "duration": 16,
    "start_time": "2024-02-23T09:08:57.398Z"
   },
   {
    "duration": 35,
    "start_time": "2024-02-23T09:08:57.415Z"
   },
   {
    "duration": 6,
    "start_time": "2024-02-23T09:08:57.451Z"
   },
   {
    "duration": 162,
    "start_time": "2024-02-23T09:08:57.459Z"
   },
   {
    "duration": 1102,
    "start_time": "2024-02-23T09:08:57.622Z"
   },
   {
    "duration": 22,
    "start_time": "2024-02-23T09:08:58.725Z"
   },
   {
    "duration": 3547,
    "start_time": "2024-02-23T09:08:58.748Z"
   },
   {
    "duration": 9,
    "start_time": "2024-02-23T09:09:02.296Z"
   },
   {
    "duration": 58,
    "start_time": "2024-02-23T09:09:02.307Z"
   },
   {
    "duration": 89,
    "start_time": "2024-02-23T09:09:02.367Z"
   },
   {
    "duration": 104,
    "start_time": "2024-02-23T09:09:16.665Z"
   },
   {
    "duration": 76,
    "start_time": "2024-02-23T19:58:06.781Z"
   },
   {
    "duration": 60,
    "start_time": "2024-02-23T20:00:14.400Z"
   },
   {
    "duration": 3140,
    "start_time": "2024-02-23T20:02:03.361Z"
   },
   {
    "duration": 1528,
    "start_time": "2024-02-23T20:02:06.503Z"
   },
   {
    "duration": 130,
    "start_time": "2024-02-23T20:02:08.033Z"
   },
   {
    "duration": 71,
    "start_time": "2024-02-23T20:02:08.165Z"
   },
   {
    "duration": 59,
    "start_time": "2024-02-23T20:02:08.237Z"
   },
   {
    "duration": 18,
    "start_time": "2024-02-23T20:02:08.298Z"
   },
   {
    "duration": 10,
    "start_time": "2024-02-23T20:02:08.318Z"
   },
   {
    "duration": 12,
    "start_time": "2024-02-23T20:02:08.329Z"
   },
   {
    "duration": 19,
    "start_time": "2024-02-23T20:02:08.342Z"
   },
   {
    "duration": 23,
    "start_time": "2024-02-23T20:02:08.364Z"
   },
   {
    "duration": 47,
    "start_time": "2024-02-23T20:02:08.389Z"
   },
   {
    "duration": 10,
    "start_time": "2024-02-23T20:02:08.438Z"
   },
   {
    "duration": 32,
    "start_time": "2024-02-23T20:02:08.450Z"
   },
   {
    "duration": 6,
    "start_time": "2024-02-23T20:02:08.483Z"
   },
   {
    "duration": 6,
    "start_time": "2024-02-23T20:02:08.491Z"
   },
   {
    "duration": 520,
    "start_time": "2024-02-23T20:02:08.498Z"
   },
   {
    "duration": 466,
    "start_time": "2024-02-23T20:02:09.019Z"
   },
   {
    "duration": 133,
    "start_time": "2024-02-23T20:02:09.487Z"
   },
   {
    "duration": 478,
    "start_time": "2024-02-23T20:02:09.621Z"
   },
   {
    "duration": 490,
    "start_time": "2024-02-23T20:02:10.101Z"
   },
   {
    "duration": 1380,
    "start_time": "2024-02-23T20:02:10.593Z"
   },
   {
    "duration": 4,
    "start_time": "2024-02-23T20:02:11.975Z"
   },
   {
    "duration": 4,
    "start_time": "2024-02-23T20:02:11.980Z"
   },
   {
    "duration": 1712,
    "start_time": "2024-02-23T20:02:11.985Z"
   },
   {
    "duration": 9,
    "start_time": "2024-02-23T20:02:13.699Z"
   },
   {
    "duration": 25,
    "start_time": "2024-02-23T20:02:13.709Z"
   },
   {
    "duration": 28,
    "start_time": "2024-02-23T20:02:13.736Z"
   },
   {
    "duration": 96,
    "start_time": "2024-02-23T20:02:13.768Z"
   },
   {
    "duration": 64,
    "start_time": "2024-02-23T20:02:13.866Z"
   },
   {
    "duration": 25,
    "start_time": "2024-02-23T20:02:13.932Z"
   },
   {
    "duration": 5,
    "start_time": "2024-02-23T20:02:13.958Z"
   },
   {
    "duration": 8,
    "start_time": "2024-02-23T20:02:13.965Z"
   },
   {
    "duration": 526,
    "start_time": "2024-02-23T20:02:13.974Z"
   },
   {
    "duration": 17,
    "start_time": "2024-02-23T20:02:14.502Z"
   },
   {
    "duration": 33,
    "start_time": "2024-02-23T20:02:14.520Z"
   },
   {
    "duration": 6,
    "start_time": "2024-02-23T20:02:14.555Z"
   },
   {
    "duration": 179,
    "start_time": "2024-02-23T20:02:14.563Z"
   },
   {
    "duration": 1185,
    "start_time": "2024-02-23T20:02:14.744Z"
   },
   {
    "duration": 16,
    "start_time": "2024-02-23T20:02:15.931Z"
   },
   {
    "duration": 6937,
    "start_time": "2024-02-23T20:02:15.948Z"
   },
   {
    "duration": 17,
    "start_time": "2024-02-23T20:02:22.887Z"
   },
   {
    "duration": 28,
    "start_time": "2024-02-23T20:02:22.906Z"
   },
   {
    "duration": 64,
    "start_time": "2024-02-23T20:02:22.936Z"
   }
  ],
  "kernelspec": {
   "display_name": "Python 3 (ipykernel)",
   "language": "python",
   "name": "python3"
  },
  "language_info": {
   "codemirror_mode": {
    "name": "ipython",
    "version": 3
   },
   "file_extension": ".py",
   "mimetype": "text/x-python",
   "name": "python",
   "nbconvert_exporter": "python",
   "pygments_lexer": "ipython3",
   "version": "3.11.5"
  },
  "toc": {
   "base_numbering": 1,
   "nav_menu": {},
   "number_sections": true,
   "sideBar": true,
   "skip_h1_title": true,
   "title_cell": "Table of Contents",
   "title_sidebar": "Contents",
   "toc_cell": false,
   "toc_position": {
    "height": "calc(100% - 180px)",
    "left": "10px",
    "top": "150px",
    "width": "179.797px"
   },
   "toc_section_display": true,
   "toc_window_display": true
  }
 },
 "nbformat": 4,
 "nbformat_minor": 5
}
